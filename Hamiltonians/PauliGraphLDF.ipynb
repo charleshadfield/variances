{
 "cells": [
  {
   "cell_type": "markdown",
   "metadata": {},
   "source": [
    "# Testing LDF for grouping Paulis\n",
    "\n",
    "compiled by Rudy Raymond / IBM Research -- Tokyo on May 20, 2020"
   ]
  },
  {
   "cell_type": "code",
   "execution_count": 1,
   "metadata": {},
   "outputs": [],
   "source": [
    "from qiskit.aqua.operators.pauli_graph import PauliGraph\n",
    "from qiskit.quantum_info.operators.pauli import Pauli\n",
    "import warnings\n",
    "warnings.filterwarnings('ignore')            #surpressing deprecation warning"
   ]
  },
  {
   "cell_type": "markdown",
   "metadata": {},
   "source": [
    "## Functions to group Paulis"
   ]
  },
  {
   "cell_type": "code",
   "execution_count": 2,
   "metadata": {},
   "outputs": [],
   "source": [
    "from ast import literal_eval \n",
    "\n",
    "def read_dict(filename):\n",
    "    f = open(filename, \"r\")\n",
    "    d = literal_eval(f.read())\n",
    "    #print(\"RD\", d)\n",
    "    answers = []\n",
    "    for ad in d[\"paulis\"]:\n",
    "        answers.append((ad[\"coeff\"][\"real\"], ad[\"label\"]))\n",
    "    return answers\n",
    "    \n",
    "def read_inputfile(filename):\n",
    "    with open(filename, \"r\") as f:\n",
    "        lineno = 0\n",
    "        answers = []\n",
    "        for line in f:\n",
    "            #print(line, line.startswith == \"\\{\")\n",
    "            if lineno == 0 and line.startswith(\"{\"):\n",
    "                #this is dictionary of Pauli, so read the file into dictionary\n",
    "                #print(\"detecting dict file\")\n",
    "                f.close()\n",
    "                answers = read_dict(filename)\n",
    "                return answers\n",
    "                \n",
    "            if lineno % 2 == 0:\n",
    "                pLabel = line.rstrip()\n",
    "            else:\n",
    "                weight = complex(line.rstrip().replace(\"(\",\"\").replace(\")\", \"\"))\n",
    "                weight = weight.real #comment out this if complex value is allowed\n",
    "                answers.append((weight, pLabel))\n",
    "            lineno += 1\n",
    "    return answers\n",
    "\n",
    "def ldf_group_outfile(infilename, outfilename=None):\n",
    "    if outfilename is None:\n",
    "        outfilename = infilename.replace(\"txt\", \"grouped.txt\")\n",
    "    pList = read_inputfile(infilename)\n",
    "    #print(pList)\n",
    "    pauliList = [  (each[0], Pauli(label=each[1])) for each in pList  ]\n",
    "    pauliGraph = PauliGraph(pauliList)\n",
    "    groupedPaulis = pauliGraph.grouped_paulis\n",
    "    with open(outfilename, \"w\") as f:\n",
    "        for group in groupedPaulis:\n",
    "            for each in group:\n",
    "                f.write(str(each[0])+\",\"+str(each[1])+\"\\n\")"
   ]
  },
  {
   "cell_type": "markdown",
   "metadata": {},
   "source": [
    "## List of files with Pauli lists to group"
   ]
  },
  {
   "cell_type": "code",
   "execution_count": 3,
   "metadata": {},
   "outputs": [],
   "source": [
    "infiles = (\"H2_6-31G_8qubits/H .0 .0 .0 ; H 0 0 .7462 jordan_wigner_Pauli_list.txt\",\\\n",
    "\"H2_6-31G_8qubits/H .0 .0 .0 ; H 0 0 .7462 bravyi_kitaev_Pauli_list.txt\",\\\n",
    "\"H2_6-31G_8qubits/H .0 .0 .0 ; H 0 0 .7462 parity_Pauli_list.txt\",\\\n",
    "\"LiH_STO3g_12qubits/H .0 .0 .0 ; Li .0 .0 1.548parity_Pauli_list.txt\",\\\n",
    "\"LiH_STO3g_12qubits/H .0 .0 .0 ; Li .0 .0 1.548jordan_wigner_Pauli_list.txt\",\\\n",
    "\"LiH_STO3g_12qubits/H .0 .0 .0 ; Li .0 .0 1.548bravyi_kitaev_Pauli_list.txt\",\\\n",
    "#\"H2O_ccpvdz_48qubits/H .0 0.750 -0.487 ; H .0 -0.750 -0.487 ; O 0.0 0.0 0.122 jordan_wigner_Pauli_list.txt\",\\\n",
    "#\"H2O_ccpvdz_48qubits/H .0 0.750 -0.487 ; H .0 -0.750 -0.487 ; O 0.0 0.0 0.122 bravyi_kitaev_Pauli_list.txt\",\\\n",
    "#\"H2O_ccpvdz_48qubits/H .0 0.750 -0.487 ; H .0 -0.750 -0.487 ; O 0.0 0.0 0.122 parity_Pauli_list.txt\",\\\n",
    "\"NH3_STO3g_16qubits/N .0 .0 0.149 ; H .0 0.947 -0.349 ; H 0.820 -0.474 -0.349 ; H -0.820 -0.474 -0.349 bravyi_kitaev_Pauli_list.txt\",\\\n",
    "\"NH3_STO3g_16qubits/N .0 .0 0.149 ; H .0 0.947 -0.349 ; H 0.820 -0.474 -0.349 ; H -0.820 -0.474 -0.349 jordan_wigner_Pauli_list.txt\",\\\n",
    "\"NH3_STO3g_16qubits/N .0 .0 0.149 ; H .0 0.947 -0.349 ; H 0.820 -0.474 -0.349 ; H -0.820 -0.474 -0.349 parity_Pauli_list.txt\",\\\n",
    "\"HCl_STO3g_20qubits/Cl .0 .0 .075; H .0 .0 -1.268 bravyi_kitaev_Pauli_list.txt\",\\\n",
    "\"HCl_STO3g_20qubits/Cl .0 .0 .075; H .0 .0 -1.268 jordan_wigner_Pauli_list.txt\",\\\n",
    "\"HCl_STO3g_20qubits/Cl .0 .0 .075; H .0 .0 -1.268 parity_Pauli_list.txt\",\\\n",
    "\"H2O_STO3g_14qubits/H .0 0.769 -0.546 ; O .0 .0 0.137 ; H .0 -0.769 -0.546bravyi_kitaev_Pauli_list.txt\",\\\n",
    "\"H2O_STO3g_14qubits/H .0 0.769 -0.546 ; O .0 .0 0.137 ; H .0 -0.769 -0.546parity_Pauli_list.txt\",\\\n",
    "\"H2O_STO3g_14qubits/H .0 0.769 -0.546 ; O .0 .0 0.137 ; H .0 -0.769 -0.546jordan_wigner_Pauli_list.txt\",\\\n",
    "\"H2O_6-31G_26qubits/H .0 0.795 -0.454 ; H .0 -0.795 -0.454 ; O 0.0 0.0 0.113 parity_Pauli_list.txt\",\\\n",
    "\"H2O_6-31G_26qubits/H .0 0.795 -0.454 ; H .0 -0.795 -0.454 ; O 0.0 0.0 0.113 jordan_wigner_Pauli_list.txt\",\\\n",
    "\"H2O_6-31G_26qubits/H .0 0.795 -0.454 ; H .0 -0.795 -0.454 ; O 0.0 0.0 0.113 bravyi_kitaev_Pauli_list.txt\",\\\n",
    "\"BeH2_STO3g_14qubits/H 1.3038 .0 .0 ; Be .0 .0 .0 ; H -1.3038 .0 .0bravyi_kitaev_Pauli_list.txt\",\\\n",
    "\"BeH2_STO3g_14qubits/H 1.3038 .0 .0 ; Be .0 .0 .0 ; H -1.3038 .0 .0parity_Pauli_list.txt\",\\\n",
    "\"BeH2_STO3g_14qubits/H 1.3038 .0 .0 ; Be .0 .0 .0 ; H -1.3038 .0 .0jordan_wigner_Pauli_list.txt\",\\\n",
    "\"C2_STO3g_20qubits/C .0 .0 .0 ; C 0 0 1.2691 bravyi_kitaev_Pauli_list.txt\",\\\n",
    "\"C2_STO3g_20qubits/C .0 .0 .0 ; C 0 0 1.2691 jordan_wigner_Pauli_list.txt\",\\\n",
    "\"C2_STO3g_20qubits/C .0 .0 .0 ; C 0 0 1.2691 parity_Pauli_list.txt\",\\\n",
    "#\"H2O_6-31G*_36qubits/H .0 0.764 -0.479 ; H .0 -0.764 -0.479 ; O 0.0 0.0 0.120 jordan_wigner_Pauli_list.txt\",\\\n",
    "#\"H2O_6-31G*_36qubits/H .0 0.764 -0.479 ; H .0 -0.764 -0.479 ; O 0.0 0.0 0.120 parity_Pauli_list.txt\",\\\n",
    "#\"H2O_6-31G*_36qubits/H .0 0.764 -0.479 ; H .0 -0.764 -0.479 ; O 0.0 0.0 0.120 bravyi_kitaev_Pauli_list.txt\",\\\n",
    "\"H2_STO3g_4qubits/H .0 .0 .0 ; H .0 .0 .735jordan_wigner_Pauli_list.txt\",\\\n",
    "\"H2_STO3g_4qubits/H .0 .0 .0 ; H .0 .0 .735bravyi_kitaev_Pauli_list.txt\",\\\n",
    "\"H2_STO3g_4qubits/H .0 .0 .0 ; H .0 .0 .735parity_Pauli_list.txt\")"
   ]
  },
  {
   "cell_type": "code",
   "execution_count": 4,
   "metadata": {
    "scrolled": false
   },
   "outputs": [
    {
     "name": "stdout",
     "output_type": "stream",
     "text": [
      "Processing: H2_6-31G_8qubits/H .0 .0 .0 ; H 0 0 .7462 jordan_wigner_Pauli_list.txt\n",
      "Processing: H2_6-31G_8qubits/H .0 .0 .0 ; H 0 0 .7462 bravyi_kitaev_Pauli_list.txt\n",
      "Processing: H2_6-31G_8qubits/H .0 .0 .0 ; H 0 0 .7462 parity_Pauli_list.txt\n",
      "Processing: LiH_STO3g_12qubits/H .0 .0 .0 ; Li .0 .0 1.548parity_Pauli_list.txt\n",
      "Processing: LiH_STO3g_12qubits/H .0 .0 .0 ; Li .0 .0 1.548jordan_wigner_Pauli_list.txt\n",
      "Processing: LiH_STO3g_12qubits/H .0 .0 .0 ; Li .0 .0 1.548bravyi_kitaev_Pauli_list.txt\n",
      "Processing: NH3_STO3g_16qubits/N .0 .0 0.149 ; H .0 0.947 -0.349 ; H 0.820 -0.474 -0.349 ; H -0.820 -0.474 -0.349 bravyi_kitaev_Pauli_list.txt\n",
      "Processing: NH3_STO3g_16qubits/N .0 .0 0.149 ; H .0 0.947 -0.349 ; H 0.820 -0.474 -0.349 ; H -0.820 -0.474 -0.349 jordan_wigner_Pauli_list.txt\n",
      "Processing: NH3_STO3g_16qubits/N .0 .0 0.149 ; H .0 0.947 -0.349 ; H 0.820 -0.474 -0.349 ; H -0.820 -0.474 -0.349 parity_Pauli_list.txt\n",
      "Processing: HCl_STO3g_20qubits/Cl .0 .0 .075; H .0 .0 -1.268 bravyi_kitaev_Pauli_list.txt\n",
      "Processing: HCl_STO3g_20qubits/Cl .0 .0 .075; H .0 .0 -1.268 jordan_wigner_Pauli_list.txt\n",
      "Processing: HCl_STO3g_20qubits/Cl .0 .0 .075; H .0 .0 -1.268 parity_Pauli_list.txt\n",
      "Processing: H2O_STO3g_14qubits/H .0 0.769 -0.546 ; O .0 .0 0.137 ; H .0 -0.769 -0.546bravyi_kitaev_Pauli_list.txt\n",
      "Processing: H2O_STO3g_14qubits/H .0 0.769 -0.546 ; O .0 .0 0.137 ; H .0 -0.769 -0.546parity_Pauli_list.txt\n",
      "Processing: H2O_STO3g_14qubits/H .0 0.769 -0.546 ; O .0 .0 0.137 ; H .0 -0.769 -0.546jordan_wigner_Pauli_list.txt\n",
      "Processing: H2O_6-31G_26qubits/H .0 0.795 -0.454 ; H .0 -0.795 -0.454 ; O 0.0 0.0 0.113 parity_Pauli_list.txt\n",
      "Processing: H2O_6-31G_26qubits/H .0 0.795 -0.454 ; H .0 -0.795 -0.454 ; O 0.0 0.0 0.113 jordan_wigner_Pauli_list.txt\n",
      "Processing: H2O_6-31G_26qubits/H .0 0.795 -0.454 ; H .0 -0.795 -0.454 ; O 0.0 0.0 0.113 bravyi_kitaev_Pauli_list.txt\n",
      "Processing: BeH2_STO3g_14qubits/H 1.3038 .0 .0 ; Be .0 .0 .0 ; H -1.3038 .0 .0bravyi_kitaev_Pauli_list.txt\n",
      "Processing: BeH2_STO3g_14qubits/H 1.3038 .0 .0 ; Be .0 .0 .0 ; H -1.3038 .0 .0parity_Pauli_list.txt\n",
      "Processing: BeH2_STO3g_14qubits/H 1.3038 .0 .0 ; Be .0 .0 .0 ; H -1.3038 .0 .0jordan_wigner_Pauli_list.txt\n",
      "Processing: C2_STO3g_20qubits/C .0 .0 .0 ; C 0 0 1.2691 bravyi_kitaev_Pauli_list.txt\n",
      "Processing: C2_STO3g_20qubits/C .0 .0 .0 ; C 0 0 1.2691 jordan_wigner_Pauli_list.txt\n",
      "Processing: C2_STO3g_20qubits/C .0 .0 .0 ; C 0 0 1.2691 parity_Pauli_list.txt\n",
      "Processing: H2_STO3g_4qubits/H .0 .0 .0 ; H .0 .0 .735jordan_wigner_Pauli_list.txt\n",
      "Processing: H2_STO3g_4qubits/H .0 .0 .0 ; H .0 .0 .735bravyi_kitaev_Pauli_list.txt\n",
      "Processing: H2_STO3g_4qubits/H .0 .0 .0 ; H .0 .0 .735parity_Pauli_list.txt\n"
     ]
    }
   ],
   "source": [
    "for infile in infiles:\n",
    "    print(\"Processing:\", infile)\n",
    "    ldf_group_outfile(infile)"
   ]
  },
  {
   "cell_type": "markdown",
   "metadata": {},
   "source": [
    "## Testing lines"
   ]
  },
  {
   "cell_type": "code",
   "execution_count": null,
   "metadata": {},
   "outputs": [],
   "source": [
    "answers = read_inputfile(\"BeH2_STO3g_14qubits/H 1.3038 .0 .0 ; Be .0 .0 .0 ; H -1.3038 .0 .0bravyi_kitaev_Pauli_list.txt\")"
   ]
  },
  {
   "cell_type": "code",
   "execution_count": null,
   "metadata": {
    "scrolled": true
   },
   "outputs": [],
   "source": [
    "for each in answers:\n",
    "    print(each, len(each[1]))"
   ]
  },
  {
   "cell_type": "code",
   "execution_count": null,
   "metadata": {},
   "outputs": [],
   "source": [
    "paulis = [ (each[0], Pauli(label=each[1])) for each in answers]"
   ]
  },
  {
   "cell_type": "code",
   "execution_count": null,
   "metadata": {},
   "outputs": [],
   "source": [
    "paulis[1]"
   ]
  },
  {
   "cell_type": "code",
   "execution_count": null,
   "metadata": {},
   "outputs": [],
   "source": [
    "answers[1][1]"
   ]
  },
  {
   "cell_type": "code",
   "execution_count": null,
   "metadata": {
    "scrolled": false
   },
   "outputs": [],
   "source": [
    "pg = PauliGraph(paulis)"
   ]
  },
  {
   "cell_type": "code",
   "execution_count": null,
   "metadata": {},
   "outputs": [],
   "source": [
    "gp = pg.grouped_paulis"
   ]
  },
  {
   "cell_type": "code",
   "execution_count": null,
   "metadata": {},
   "outputs": [],
   "source": [
    "gp"
   ]
  },
  {
   "cell_type": "code",
   "execution_count": null,
   "metadata": {},
   "outputs": [],
   "source": [
    "for each in gp[-1]:\n",
    "    print(each[0], each[1])"
   ]
  },
  {
   "cell_type": "code",
   "execution_count": null,
   "metadata": {},
   "outputs": [],
   "source": [
    "len(answers)"
   ]
  },
  {
   "cell_type": "code",
   "execution_count": null,
   "metadata": {},
   "outputs": [],
   "source": []
  }
 ],
 "metadata": {
  "kernelspec": {
   "display_name": "Python 3",
   "language": "python",
   "name": "python3"
  },
  "language_info": {
   "codemirror_mode": {
    "name": "ipython",
    "version": 3
   },
   "file_extension": ".py",
   "mimetype": "text/x-python",
   "name": "python",
   "nbconvert_exporter": "python",
   "pygments_lexer": "ipython3",
   "version": "3.8.2"
  }
 },
 "nbformat": 4,
 "nbformat_minor": 4
}
