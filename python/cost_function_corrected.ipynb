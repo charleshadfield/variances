{
 "cells": [
  {
   "cell_type": "code",
   "execution_count": 1,
   "metadata": {},
   "outputs": [],
   "source": [
    "from hamiltonian import HamiltonianSmall, Hamiltonian"
   ]
  },
  {
   "cell_type": "code",
   "execution_count": 2,
   "metadata": {},
   "outputs": [],
   "source": [
    "lih = HamiltonianSmall('LiH', 1.5)\n",
    "beh2 = HamiltonianSmall('BeH2', 1.3)\n",
    "\n",
    "h2_jw = Hamiltonian('H2_6-31G_8qubits', 'jw')\n",
    "h2_parity = Hamiltonian('H2_6-31G_8qubits', 'parity')\n",
    "h2_bk = Hamiltonian('H2_6-31G_8qubits', 'bk')\n",
    "\n",
    "water_jw = Hamiltonian('H2O_STO3g_14qubits', 'jw')\n",
    "water_parity = Hamiltonian('H2O_STO3g_14qubits', 'parity')\n",
    "water_bk = Hamiltonian('H2O_STO3g_14qubits', 'bk')\n",
    "\n",
    "ammonia_jw = Hamiltonian('NH3_STO3g_16qubits', 'jw')\n",
    "ammonia_parity = Hamiltonian('NH3_STO3g_16qubits', 'parity')\n",
    "ammonia_bk = Hamiltonian('NH3_STO3g_16qubits', 'bk')"
   ]
  },
  {
   "cell_type": "markdown",
   "metadata": {},
   "source": [
    "Consider the set of influential pairs:\n",
    "\\begin{align}\n",
    "    \\mathcal{I}_\\mathrm{comp}\n",
    "    =\n",
    "    \\left\\{\\left.\n",
    "        (\\Qarrow,\\Rarrow)\n",
    "        \\,\\right|\\,\n",
    "        \\textrm{for all $i$, either $Q_i=R_i$, or $\\{Q_i,R_i\\}=\\{I,Z\\}$}\n",
    "    \\right\\}\n",
    "\\end{align}\n",
    "\n",
    "Then the cost function to optimise will be:\n",
    "\\begin{align}\n",
    "    \\mathrm{cost}(\\{\\beta_i\\}_{i=1}^n)\n",
    "    =\n",
    "    \\sum_{\\Qarrow,\\Rarrow\\in\\mathcal{I}_\\mathrm{comp}}\n",
    "        \\alpha_\\Qarrow\n",
    "        \\alpha_\\Rarrow\n",
    "        \\prod_{i | Q_i=R_i\\neq I}\n",
    "            \\beta_{i,Q_i}^{-1}\n",
    "        \\prod_{i | Q_i\\neq R_i}\n",
    "            m_i\n",
    "\\end{align}\n",
    "\n",
    "At some stage, I will need to go find out what the HF state looks like!"
   ]
  },
  {
   "cell_type": "code",
   "execution_count": 3,
   "metadata": {},
   "outputs": [],
   "source": [
    "# dic = lih.pauli_rep.dic\n",
    "# n = lih.pauli_rep.num_qubits"
   ]
  },
  {
   "cell_type": "code",
   "execution_count": 4,
   "metadata": {},
   "outputs": [],
   "source": [
    "# dic_tf = dic.copy()\n",
    "# dic_tf.pop('I'*n)"
   ]
  },
  {
   "cell_type": "code",
   "execution_count": 5,
   "metadata": {},
   "outputs": [],
   "source": [
    "def is_influential_pauli_single_qubit(q, r):\n",
    "    if q == r:\n",
    "        return True\n",
    "    elif q == 'I' and r == 'Z':\n",
    "        return True\n",
    "    elif q == 'Z' and r == 'I':\n",
    "        return True\n",
    "    else:\n",
    "        return False"
   ]
  },
  {
   "cell_type": "code",
   "execution_count": 6,
   "metadata": {},
   "outputs": [],
   "source": [
    "def is_influential_pair(Q, R, n):\n",
    "    # do not check if Q or R are trace-free. Assume they are!\n",
    "    for i in range(n):\n",
    "        if is_influential_pauli_single_qubit(Q[i], R[i]) is False:\n",
    "            return False\n",
    "    # if I arrive here, then all qubits i have pauli Q_i R_i acceptable\n",
    "    return True"
   ]
  },
  {
   "cell_type": "code",
   "execution_count": 7,
   "metadata": {},
   "outputs": [],
   "source": [
    "def build_influential_pairs(dic_tf, n):\n",
    "    # do not check if dic_tf has identity term. Assume it is not present!\n",
    "    pairs = []\n",
    "    for Q in dic_tf:\n",
    "        for R in dic_tf:\n",
    "            if is_influential_pair(Q, R, n) is True:\n",
    "                pairs.append((Q,R))\n",
    "    return pairs"
   ]
  },
  {
   "cell_type": "code",
   "execution_count": 8,
   "metadata": {},
   "outputs": [],
   "source": [
    "def calculate_product_term(Q, R, bits_HF, β):\n",
    "    # assume Q,R are already admissable!\n",
    "    # assume β, m are of correct structure!\n",
    "    pauli_to_index = {'X': 0, 'Y': 1, 'Z': 2}\n",
    "    prod = 1.0\n",
    "    for i in range(len(Q)):\n",
    "        if Q[i] == R[i] and Q[i] != 'I':\n",
    "            index = pauli_to_index[Q[i]]\n",
    "            b = β[(len(Q)-1)-i][index]  # qiskit ordering\n",
    "            if b == 0.0:\n",
    "                # this cannot be allowed, as convergence in expectation won't work\n",
    "                return float('inf')\n",
    "            else:\n",
    "                prod *= b**(-1)\n",
    "        if Q[i] != R[i]: \n",
    "            # then Q[i], R[i] are of the form I,Z or Z,I\n",
    "            bit = int(bits_HF[i])\n",
    "            m = (-1)**bit\n",
    "            prod *= m\n",
    "    return prod"
   ]
  },
  {
   "cell_type": "code",
   "execution_count": 9,
   "metadata": {},
   "outputs": [],
   "source": [
    "def objective(dic_tf, influential_pairs, bits_HF, β):\n",
    "    tally = 0.0\n",
    "    for Q,R in influential_pairs:\n",
    "        alphaQ = dic_tf[Q]\n",
    "        alphaR = dic_tf[R]\n",
    "        prod = calculate_product_term(Q, R, bits_HF, β)\n",
    "        tally += alphaQ * alphaR * prod\n",
    "    return tally"
   ]
  },
  {
   "cell_type": "code",
   "execution_count": 10,
   "metadata": {},
   "outputs": [],
   "source": [
    "from scipy.optimize import minimize, LinearConstraint\n",
    "\n",
    "def x_to_beta(x):\n",
    "    β = {}\n",
    "    for i, (a, b, c) in enumerate(zip(x[0::3], x[1::3], x[2::3])):\n",
    "        β[i] = [a, b, c]\n",
    "    return β\n",
    "\n",
    "\n",
    "def _lin_con_single(k, n):\n",
    "    linear_constraint = [0]*(3*n)\n",
    "    linear_constraint[k] = 1\n",
    "    return linear_constraint\n",
    "\n",
    "\n",
    "def _lin_con_triple(i, n):\n",
    "    linear_constraint = [0]*(3*n)\n",
    "    for var in [3*i, 3*i+1, 3*i+2]:\n",
    "        linear_constraint[var] = 1\n",
    "    return linear_constraint\n",
    "\n",
    "\n",
    "def linear_constraint_matrix(n):\n",
    "    # constraints to ensure \\beta_{i,P} \\ge 1 for all i,P\n",
    "    mat1 = [_lin_con_single(k, n) for k in range(3*n)]\n",
    "    # constraints to ensure \\sum_P \\beta_{i,P} = 1 for all i\n",
    "    mat2 = [_lin_con_triple(i, n) for i in range(n)]\n",
    "    return mat1+mat2\n",
    "\n",
    "\n",
    "def lower_bounds(n):\n",
    "    bounds_single = [0]*(3*n)\n",
    "    bounds_triple = [1]*n\n",
    "    return bounds_single+bounds_triple\n",
    "\n",
    "\n",
    "def upper_bounds(n):\n",
    "    return [1]*(4*n)\n",
    "\n",
    "\n",
    "def constraints(n):\n",
    "    A = linear_constraint_matrix(n)\n",
    "    lb = lower_bounds(n)\n",
    "    ub = upper_bounds(n)\n",
    "    return LinearConstraint(A, lb, ub)\n",
    "\n",
    "\n",
    "def find_optimal_beta(pauli_rep, bits_HF):\n",
    "    n = pauli_rep.num_qubits\n",
    "    dic_tf = pauli_rep.dic.copy()\n",
    "    dic_tf.pop('I'*n)\n",
    "    influential_pairs = build_influential_pairs(dic_tf, n)\n",
    "    \n",
    "    x0 = [1/3]*(3*n)\n",
    "\n",
    "    def f(x):\n",
    "        return objective(dic_tf, influential_pairs, bits_HF, x_to_beta(x))\n",
    "\n",
    "    result = minimize(f, x0, method='trust-constr', constraints=[constraints(n)])\n",
    "    β = x_to_beta(result['x'])\n",
    "    return β"
   ]
  },
  {
   "cell_type": "code",
   "execution_count": 11,
   "metadata": {},
   "outputs": [],
   "source": [
    "pr = lih.pauli_rep"
   ]
  },
  {
   "cell_type": "markdown",
   "metadata": {},
   "source": [
    "## HOW DO I FIGURE OUT WHAT THE HARTREE-FOCK STATE LOOKS LIKE?"
   ]
  },
  {
   "cell_type": "code",
   "execution_count": 12,
   "metadata": {},
   "outputs": [],
   "source": [
    "# this is definitely not the true HF state:\n",
    "bits_HF = '0'*pr.num_qubits"
   ]
  },
  {
   "cell_type": "code",
   "execution_count": 13,
   "metadata": {},
   "outputs": [
    {
     "name": "stdout",
     "output_type": "stream",
     "text": [
      "CPU times: user 6.41 s, sys: 549 ms, total: 6.95 s\n",
      "Wall time: 2.35 s\n"
     ]
    },
    {
     "data": {
      "text/plain": [
       "{0: [0.22225752820348266, 0.20826986116466736, 0.5694726106318498],\n",
       " 1: [0.2370558716560518, 0.23541476140504872, 0.5275293669388995],\n",
       " 2: [0.22225751371451372, 0.2082698682278689, 0.5694726180576174],\n",
       " 3: [0.23705587739261577, 0.23541475364211975, 0.5275293689652646]}"
      ]
     },
     "execution_count": 13,
     "metadata": {},
     "output_type": "execute_result"
    }
   ],
   "source": [
    "%time β_optimal = find_optimal_beta(pr, bits_HF)\n",
    "β_optimal"
   ]
  },
  {
   "cell_type": "code",
   "execution_count": 14,
   "metadata": {},
   "outputs": [
    {
     "name": "stdout",
     "output_type": "stream",
     "text": [
      "CPU times: user 1.2 s, sys: 114 ms, total: 1.32 s\n",
      "Wall time: 442 ms\n"
     ]
    },
    {
     "data": {
      "text/plain": [
       "{0: [0.3378915109370397, 0.3388905396381586, 0.3232179494248017],\n",
       " 1: [0.26257695444826173, 0.255524248903851, 0.4818987966478871],\n",
       " 2: [0.33789151562933034, 0.3388905421975528, 0.3232179421731169],\n",
       " 3: [0.2625769593743565, 0.25552425024835695, 0.4818987903772865]}"
      ]
     },
     "execution_count": 14,
     "metadata": {},
     "output_type": "execute_result"
    }
   ],
   "source": [
    "bits_HF = '1'*pr.num_qubits\n",
    "%time β_optimal = find_optimal_beta(pr, bits_HF)\n",
    "β_optimal"
   ]
  }
 ],
 "metadata": {
  "kernelspec": {
   "display_name": "Python 3",
   "language": "python",
   "name": "python3"
  },
  "language_info": {
   "codemirror_mode": {
    "name": "ipython",
    "version": 3
   },
   "file_extension": ".py",
   "mimetype": "text/x-python",
   "name": "python",
   "nbconvert_exporter": "python",
   "pygments_lexer": "ipython3",
   "version": "3.8.2"
  }
 },
 "nbformat": 4,
 "nbformat_minor": 4
}
