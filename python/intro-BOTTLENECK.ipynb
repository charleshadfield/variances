{
 "cells": [
  {
   "cell_type": "markdown",
   "metadata": {},
   "source": [
    "# SPEEDUP"
   ]
  },
  {
   "cell_type": "code",
   "execution_count": 1,
   "metadata": {},
   "outputs": [],
   "source": [
    "from hamiltonian import Hamiltonian, HamiltonianH2, HamiltonianW"
   ]
  },
  {
   "cell_type": "code",
   "execution_count": 2,
   "metadata": {},
   "outputs": [],
   "source": [
    "lih = Hamiltonian('LiH', 1.5)\n",
    "beh2 = Hamiltonian('BeH2', 1.3)\n",
    "\n",
    "h2_jw = HamiltonianH2('jw')\n",
    "h2_parity = HamiltonianH2('parity')\n",
    "h2_bk = HamiltonianH2('bk')\n",
    "\n",
    "water_jw = HamiltonianW('jw')\n",
    "water_parity = HamiltonianW('parity')\n",
    "water_bk = HamiltonianW('bk')"
   ]
  },
  {
   "cell_type": "markdown",
   "metadata": {},
   "source": [
    "## sparse.py"
   ]
  },
  {
   "cell_type": "code",
   "execution_count": 112,
   "metadata": {},
   "outputs": [],
   "source": [
    "import numpy as np\n",
    "from scipy import sparse\n",
    "from scipy.sparse.linalg import eigsh\n",
    "\n",
    "row = np.array([0, 1])\n",
    "col = np.array([0, 1])\n",
    "data = np.array([1+0j, 1+0j])\n",
    "id = sparse.csr_matrix((data, (row, col)), shape=(2, 2))\n",
    "x = sparse.csr_matrix(([1+0j, 1+0j], ([0, 1], [1, 0])), shape=(2, 2))\n",
    "y = sparse.csr_matrix(([0-1j, 0+1j], ([0, 1], [1, 0])), shape=(2, 2))\n",
    "z = sparse.csr_matrix(([1+0j, -1+0j], ([0, 1], [0, 1])), shape=(2, 2))\n",
    "\n",
    "_to_matrix = {'I': id, 'X': x, 'Y': y, 'Z': z}\n",
    "\n",
    "\n",
    "def to_matrix(pauli_string):\n",
    "    p0 = pauli_string[0]\n",
    "    mat = _to_matrix[p0]\n",
    "    for p in pauli_string[1:]:\n",
    "        mat = sparse.kron(mat, _to_matrix[p], format=\"csr\")\n",
    "    return mat\n",
    "\n",
    "\n",
    "def matrix(pauli_rep):\n",
    "    n = pauli_rep.num_qubits\n",
    "    mat = sparse.csr_matrix((2**n, 2**n), dtype=np.complex128)\n",
    "    for pauli_string, coefficient in pauli_rep.dic.items():\n",
    "        mat += coefficient * to_matrix(pauli_string)\n",
    "    return mat\n",
    "\n",
    "\n",
    "def ground(pauli_rep):\n",
    "    mat = matrix(pauli_rep)\n",
    "    evals, evecs = eigsh(mat, which='SA')\n",
    "    # SA looks for algebraically small evalues\n",
    "    index = np.argmin(evals)\n",
    "    return evals[index], evecs[:, index]\n",
    "\n",
    "\n",
    "def energy(pauli_rep, state, tol=1e-6):\n",
    "    '''\n",
    "    Directly calculate energy by tracing state over Pauli kronecker product.\n",
    "    Return real float.\n",
    "    '''\n",
    "    state_dual = np.conjugate(state)\n",
    "    mat = matrix(pauli_rep)\n",
    "    trace = np.dot(state_dual, mat * state)\n",
    "    assert abs(trace.imag) < tol\n",
    "    return np.real(trace)"
   ]
  },
  {
   "cell_type": "markdown",
   "metadata": {},
   "source": [
    "## variance.py"
   ]
  },
  {
   "cell_type": "code",
   "execution_count": 88,
   "metadata": {},
   "outputs": [],
   "source": [
    "import numpy as np\n",
    "\n",
    "def f_individual(q, r, βi):\n",
    "    assert q in ['I', 'X', 'Y', 'Z']\n",
    "    assert r in ['I', 'X', 'Y', 'Z']\n",
    "    assert len(βi) == 3\n",
    "    if q == 'I' or r == 'I':\n",
    "        return 1.0\n",
    "    elif q == r:\n",
    "        dic = {'X': 0, 'Y': 1, 'Z': 2}\n",
    "        if βi[dic[q]] == 0.0:\n",
    "            return 0.0\n",
    "        return (βi[dic[q]])**(-1)\n",
    "    else:\n",
    "        return 0.0\n",
    "\n",
    "\n",
    "def f_string(Q, R, β):\n",
    "    assert len(Q) == len(R)\n",
    "    assert len(Q) == len(β.keys())\n",
    "    prod = 1.0\n",
    "    for i in range(len(Q)):\n",
    "        # qiskit ordering\n",
    "        prod *= f_individual(Q[i], R[i], β[(len(Q)-1)-i])\n",
    "    return prod\n",
    "\n",
    "\n",
    "def pauli_multiply_individual(q, r):\n",
    "    assert q in ['I', 'X', 'Y', 'Z']\n",
    "    assert r in ['I', 'X', 'Y', 'Z']\n",
    "    if q == r:\n",
    "        # return q*r\n",
    "        return 'I'\n",
    "    else:\n",
    "        # at least one of q or r is the identity, the other one should be returned\n",
    "        if q != 'I':\n",
    "            return q\n",
    "        else:\n",
    "            return r\n",
    "    # error if I arrive here\n",
    "\n",
    "\n",
    "def pauli_multiply_string(Q, R):\n",
    "    assert len(Q) == len(R)\n",
    "    string = ''\n",
    "    for i in range(len(Q)):\n",
    "        string += pauli_multiply_individual(Q[i], R[i])\n",
    "    return string\n",
    "\n",
    "\n",
    "def variance_local(pauli_rep, energy, state, β):\n",
    "    var = 0.0\n",
    "\n",
    "    tallyf = 0\n",
    "    tallyQ = 0\n",
    "    for Q, alphaQ in pauli_rep.dic.items():\n",
    "        tallyQ +=1\n",
    "        if Q == 'I' * pauli_rep.num_qubits:\n",
    "            continue\n",
    "        tallyR = 0\n",
    "        for R, alphaR in pauli_rep.dic.items():\n",
    "            tallyR+=1\n",
    "            if R == 'I' * pauli_rep.num_qubits:\n",
    "                continue\n",
    "            f = f_string(Q, R, β)\n",
    "            if f == 0.0:\n",
    "                tallyf +=1\n",
    "                continue\n",
    "            # else, need to calculate < state | PQ | state >\n",
    "            QR = pauli_multiply_string(Q, R)\n",
    "            #QRmat = to_matrix(QR)\n",
    "            #tr_rho_QR = np.dot(np.conjugate(state), QRmat * state).real\n",
    "\n",
    "            #var += f * alphaQ * alphaR * tr_rho_QR\n",
    "\n",
    "    energy_tf = pauli_rep.energy_tf(energy)\n",
    "    var -= energy_tf**2\n",
    "    print('tallyf: ', tallyf)\n",
    "    print('pauli terms: ', len(pauli_rep.dic.keys()))\n",
    "    print('fraction saved: ', tallyf / len(pauli_rep.dic.keys())**2)\n",
    "    return var"
   ]
  },
  {
   "cell_type": "code",
   "execution_count": null,
   "metadata": {},
   "outputs": [],
   "source": []
  },
  {
   "cell_type": "code",
   "execution_count": 31,
   "metadata": {},
   "outputs": [
    {
     "name": "stdout",
     "output_type": "stream",
     "text": [
      "tallyf:  7296\n",
      "pauli terms:  100\n",
      "fraction saved:  0.7296\n",
      "CPU times: user 2.1 s, sys: 888 µs, total: 2.1 s\n",
      "Wall time: 2.1 s\n"
     ]
    },
    {
     "data": {
      "text/plain": [
       "2.2307301610389274"
      ]
     },
     "execution_count": 31,
     "metadata": {},
     "output_type": "execute_result"
    }
   ],
   "source": [
    "pr = lih.pauli_rep\n",
    "energy, state = pr.ground()\n",
    "β = pr.local_dists_uniform()\n",
    "\n",
    "%time variance_local(pr, energy, state, β)"
   ]
  },
  {
   "cell_type": "code",
   "execution_count": 32,
   "metadata": {},
   "outputs": [
    {
     "name": "stdout",
     "output_type": "stream",
     "text": [
      "tallyf:  18992\n",
      "pauli terms:  165\n",
      "fraction saved:  0.6975941230486685\n",
      "CPU times: user 11 s, sys: 9.32 ms, total: 11 s\n",
      "Wall time: 11 s\n"
     ]
    },
    {
     "data": {
      "text/plain": [
       "18.179850794404423"
      ]
     },
     "execution_count": 32,
     "metadata": {},
     "output_type": "execute_result"
    }
   ],
   "source": [
    "pr = beh2.pauli_rep\n",
    "energy, state = pr.ground()\n",
    "β = pr.local_dists_uniform()\n",
    "\n",
    "%time variance_local(pr, energy, state, β)"
   ]
  },
  {
   "cell_type": "code",
   "execution_count": 33,
   "metadata": {},
   "outputs": [
    {
     "name": "stdout",
     "output_type": "stream",
     "text": [
      "tallyf:  24948\n",
      "pauli terms:  185\n",
      "fraction saved:  0.7289408327246165\n",
      "CPU times: user 17.5 s, sys: 113 ms, total: 17.7 s\n",
      "Wall time: 16.8 s\n"
     ]
    },
    {
     "data": {
      "text/plain": [
       "168.8660032440544"
      ]
     },
     "execution_count": 33,
     "metadata": {},
     "output_type": "execute_result"
    }
   ],
   "source": [
    "pr = h2_bk.pauli_rep\n",
    "energy, state = pr.ground()\n",
    "β = pr.local_dists_uniform()\n",
    "\n",
    "%time variance_local(pr, energy, state, β)"
   ]
  },
  {
   "cell_type": "code",
   "execution_count": 66,
   "metadata": {},
   "outputs": [
    {
     "data": {
      "text/plain": [
       "8908"
      ]
     },
     "execution_count": 66,
     "metadata": {},
     "output_type": "execute_result"
    }
   ],
   "source": [
    "184**2-24948"
   ]
  },
  {
   "cell_type": "code",
   "execution_count": 34,
   "metadata": {},
   "outputs": [],
   "source": [
    "from numpy import random"
   ]
  },
  {
   "cell_type": "code",
   "execution_count": 40,
   "metadata": {},
   "outputs": [],
   "source": [
    "def random_pauli(pauli_rep):\n",
    "    num_keys = len(pauli_rep.dic.keys())\n",
    "    index_random = random.choice(num_keys)\n",
    "    for index, pauli in enumerate(pauli_rep.dic.keys()):\n",
    "        if index == index_random:\n",
    "            return pauli\n",
    "        pass\n",
    "    pass"
   ]
  },
  {
   "cell_type": "code",
   "execution_count": null,
   "metadata": {},
   "outputs": [],
   "source": [
    "pr = lih.pauli_rep\n",
    "pauli = random_pauli(pr)\n",
    "\n",
    "\n",
    "\n"
   ]
  },
  {
   "cell_type": "code",
   "execution_count": 59,
   "metadata": {},
   "outputs": [],
   "source": []
  },
  {
   "cell_type": "code",
   "execution_count": 62,
   "metadata": {},
   "outputs": [
    {
     "name": "stdout",
     "output_type": "stream",
     "text": [
      "         4 function calls in 0.000 seconds\n",
      "\n",
      "   Ordered by: standard name\n",
      "\n",
      "   ncalls  tottime  percall  cumtime  percall filename:lineno(function)\n",
      "        1    0.000    0.000    0.000    0.000 <ipython-input-62-dd443bca37ae>:1(foo)\n",
      "        1    0.000    0.000    0.000    0.000 <string>:1(<module>)\n",
      "        1    0.000    0.000    0.000    0.000 {built-in method builtins.exec}\n",
      "        1    0.000    0.000    0.000    0.000 {method 'disable' of '_lsprof.Profiler' objects}\n",
      "\n",
      "\n"
     ]
    }
   ],
   "source": [
    "def foo():\n",
    "    pass\n",
    "\n",
    "import cProfile\n",
    "cProfile.run('foo()')"
   ]
  },
  {
   "cell_type": "code",
   "execution_count": 85,
   "metadata": {},
   "outputs": [
    {
     "name": "stdout",
     "output_type": "stream",
     "text": [
      "CPU times: user 20.9 s, sys: 2.33 s, total: 23.3 s\n",
      "Wall time: 9.75 s\n"
     ]
    }
   ],
   "source": [
    "pr = water_jw.pauli_rep\n",
    "%time energy, state = pr.ground()\n",
    "β = pr.local_dists_uniform()"
   ]
  },
  {
   "cell_type": "code",
   "execution_count": 86,
   "metadata": {},
   "outputs": [
    {
     "name": "stderr",
     "output_type": "stream",
     "text": [
      "/opt/anaconda3/envs/qiskit18/lib/python3.8/site-packages/scipy/optimize/_hessian_update_strategy.py:183: UserWarning: delta_grad == 0.0. Check if the approximated function is linear. If the function is linear better results can be obtained by defining the Hessian as zero instead of using quasi-Newton approximations.\n",
      "  warn('delta_grad == 0.0. Check if the approximated '\n"
     ]
    },
    {
     "name": "stdout",
     "output_type": "stream",
     "text": [
      "CPU times: user 6min 50s, sys: 1min 3s, total: 7min 53s\n",
      "Wall time: 59.1 s\n"
     ]
    },
    {
     "data": {
      "text/plain": [
       "{0: [0.43257858556565915, 0.43257858722135467, 0.1348428272129862],\n",
       " 1: [0.24098007537433425, 0.2409800708577077, 0.518039853767958],\n",
       " 2: [0.13870541903721406, 0.13870542588015417, 0.7225891550826317],\n",
       " 3: [0.13957872152763764, 0.13957871134125624, 0.7208425671311062],\n",
       " 4: [0.16984472160573807, 0.1698447243114196, 0.6603105540828423],\n",
       " 5: [0.2675208449775755, 0.2675208434379076, 0.464958311584517],\n",
       " 6: [0.11647067744295292, 0.11647067819430176, 0.7670586443627454],\n",
       " 7: [0.43257857708372555, 0.43257860312684154, 0.13484281978943294],\n",
       " 8: [0.24098005034367995, 0.24098008250406633, 0.5180398671522537],\n",
       " 9: [0.13870542248842968, 0.13870542724539398, 0.7225891502661764],\n",
       " 10: [0.13957872657623138, 0.13957872195005588, 0.7208425514737127],\n",
       " 11: [0.16984475333796817, 0.16984473040786618, 0.6603105162541657],\n",
       " 12: [0.2675208758292949, 0.26752084565650264, 0.46495827851420257],\n",
       " 13: [0.11647066971784335, 0.1164706702788042, 0.7670586600033525]}"
      ]
     },
     "execution_count": 86,
     "metadata": {},
     "output_type": "execute_result"
    }
   ],
   "source": [
    "%time pr.local_dists_optimal()"
   ]
  },
  {
   "cell_type": "code",
   "execution_count": 92,
   "metadata": {},
   "outputs": [
    {
     "name": "stdout",
     "output_type": "stream",
     "text": [
      "tallyf:  853052\n",
      "pauli terms:  1086\n",
      "fraction saved:  0.7232956530291776\n",
      "CPU times: user 6.81 s, sys: 5.28 ms, total: 6.82 s\n",
      "Wall time: 6.82 s\n"
     ]
    },
    {
     "data": {
      "text/plain": [
       "-804.0909451502213"
      ]
     },
     "execution_count": 92,
     "metadata": {},
     "output_type": "execute_result"
    }
   ],
   "source": [
    "%time variance_local(pr, energy, state, β)"
   ]
  },
  {
   "cell_type": "code",
   "execution_count": 117,
   "metadata": {},
   "outputs": [
    {
     "name": "stdout",
     "output_type": "stream",
     "text": [
      "CPU times: user 7.28 ms, sys: 1.64 ms, total: 8.93 ms\n",
      "Wall time: 7.5 ms\n"
     ]
    },
    {
     "data": {
      "text/plain": [
       "<16384x16384 sparse matrix of type '<class 'numpy.complex128'>'\n",
       "\twith 16384 stored elements in Compressed Sparse Row format>"
      ]
     },
     "execution_count": 117,
     "metadata": {},
     "output_type": "execute_result"
    }
   ],
   "source": [
    "pauli_string = random_pauli(pr)\n",
    "%time to_matrix(pauli_string)"
   ]
  },
  {
   "cell_type": "markdown",
   "metadata": {},
   "source": [
    "For water there are 1086 pauli terms and 853052 pairs give f=0. We therefore call `sparse.kron` 324173 times.\n",
    "\n",
    "Each `sparse.kron` call takes 5~10 milli seconds.\n",
    "\n",
    "The expected time is therefore on the order 30~45 minutes. In reality, it is more like 25 minutes."
   ]
  },
  {
   "cell_type": "markdown",
   "metadata": {},
   "source": [
    "the following profiling was done with H2 pauli representation"
   ]
  },
  {
   "cell_type": "code",
   "execution_count": 64,
   "metadata": {},
   "outputs": [
    {
     "name": "stdout",
     "output_type": "stream",
     "text": [
      "tallyf:  24948\n",
      "pauli terms:  185\n",
      "fraction saved:  0.7289408327246165\n",
      "         35016101 function calls (34891389 primitive calls) in 25.750 seconds\n",
      "\n",
      "   Ordered by: standard name\n",
      "\n",
      "   ncalls  tottime  percall  cumtime  percall filename:lineno(function)\n",
      "   374136    0.174    0.000    0.530    0.000 <__array_function__ internals>:2(can_cast)\n",
      "     8908    0.006    0.000    0.023    0.000 <__array_function__ internals>:2(dot)\n",
      "   124712    0.072    0.000    0.164    0.000 <__array_function__ internals>:2(empty_like)\n",
      "   187068    0.105    0.000    0.257    0.000 <__array_function__ internals>:2(ndim)\n",
      "   187068    0.124    0.000    0.174    0.000 <frozen importlib._bootstrap>:389(parent)\n",
      "     8908    0.209    0.000   25.242    0.003 <ipython-input-3-96df486656a9>:16(to_matrix)\n",
      "    33856    0.134    0.000    0.273    0.000 <ipython-input-30-823ac56a38c8>:18(f_string)\n",
      "    71264    0.015    0.000    0.015    0.000 <ipython-input-30-823ac56a38c8>:28(pauli_multiply_individual)\n",
      "   270848    0.089    0.000    0.106    0.000 <ipython-input-30-823ac56a38c8>:3(f_individual)\n",
      "     8908    0.026    0.000    0.042    0.000 <ipython-input-30-823ac56a38c8>:43(pauli_multiply_string)\n",
      "        1    0.081    0.081   25.750   25.750 <ipython-input-30-823ac56a38c8>:51(variance_local)\n",
      "        1    0.000    0.000   25.750   25.750 <string>:1(<module>)\n",
      "  1496544    0.330    0.000    0.908    0.000 _asarray.py:16(asarray)\n",
      "   623560    0.178    0.000    1.925    0.000 _methods.py:28(_amax)\n",
      "   623560    0.165    0.000    1.367    0.000 _methods.py:32(_amin)\n",
      "   124712    0.050    0.000    0.050    0.000 _util.py:129(_prune_array)\n",
      "   187068    0.048    0.000    0.071    0.000 base.py:1192(isspmatrix)\n",
      "  1247120    0.431    0.000    1.617    0.000 base.py:242(nnz)\n",
      "    62356    0.081    0.000    6.075    0.000 base.py:298(asformat)\n",
      "     8908    0.014    0.000    0.089    0.000 base.py:457(__mul__)\n",
      "   124712    0.072    0.000    0.072    0.000 base.py:677(__getattr__)\n",
      "   374136    0.194    0.000    0.194    0.000 base.py:70(__init__)\n",
      "  2137920    0.289    0.000    0.289    0.000 base.py:84(get_shape)\n",
      "   124712    0.722    0.000    8.030    0.000 compressed.py:1009(tocoo)\n",
      "    62356    0.100    0.000    0.432    0.000 compressed.py:1055(__get_has_canonical_format)\n",
      "    62356    0.058    0.000    0.079    0.000 compressed.py:1076(__set_has_canonical_format)\n",
      "    62356    0.025    0.000    0.457    0.000 compressed.py:1084(sum_duplicates)\n",
      "   249424    0.092    0.000    0.092    0.000 compressed.py:110(getnnz)\n",
      "    62356    0.021    0.000    0.021    0.000 compressed.py:1115(__set_sorted)\n",
      "    62356    0.232    0.000    0.489    0.000 compressed.py:1140(prune)\n",
      "    62356    0.649    0.000    1.929    0.000 compressed.py:138(check_format)\n",
      "    62356    0.270    0.000    3.334    0.000 compressed.py:30(__init__)\n",
      "     8908    0.022    0.000    0.074    0.000 compressed.py:464(_mul_vector)\n",
      "    62356    1.307    0.000   25.033    0.000 construct.py:276(kron)\n",
      "311780/187068    1.205    0.000   16.524    0.000 coo.py:128(__init__)\n",
      "   997696    0.859    0.000    1.095    0.000 coo.py:241(getnnz)\n",
      "   311780    3.619    0.000   10.530    0.000 coo.py:267(_check)\n",
      "    62356    0.572    0.000    5.967    0.000 coo.py:374(tocsr)\n",
      "   124712    0.027    0.000    0.043    0.000 coo.py:596(isspmatrix_coo)\n",
      "   436492    0.044    0.000    0.044    0.000 csr.py:228(_swap)\n",
      "   374136    0.142    0.000    0.335    0.000 data.py:22(__init__)\n",
      "   195976    0.040    0.000    0.040    0.000 data.py:25(_get_dtype)\n",
      "   187068    0.027    0.000    0.027    0.000 fromnumeric.py:3033(_ndim_dispatcher)\n",
      "   187068    0.042    0.000    0.042    0.000 fromnumeric.py:3037(ndim)\n",
      "  1371832    1.402    0.000    1.402    0.000 getlimits.py:497(__init__)\n",
      "   685916    0.244    0.000    0.244    0.000 getlimits.py:508(min)\n",
      "   685916    0.159    0.000    0.159    0.000 getlimits.py:521(max)\n",
      "       13    0.000    0.000    0.000    0.000 iostream.py:197(schedule)\n",
      "       12    0.000    0.000    0.000    0.000 iostream.py:309(_is_master_process)\n",
      "       12    0.000    0.000    0.000    0.000 iostream.py:322(_schedule_flush)\n",
      "       12    0.000    0.000    0.000    0.000 iostream.py:384(write)\n",
      "       13    0.000    0.000    0.000    0.000 iostream.py:93(_event_pipe)\n",
      "   374136    0.043    0.000    0.043    0.000 multiarray.py:469(can_cast)\n",
      "     8908    0.001    0.000    0.001    0.000 multiarray.py:707(dot)\n",
      "   124712    0.015    0.000    0.015    0.000 multiarray.py:77(empty_like)\n",
      "        1    0.000    0.000    0.000    0.000 pauli_rep.py:91(energy_tf)\n",
      "       13    0.000    0.000    0.000    0.000 socket.py:342(send)\n",
      "   685916    1.588    0.000    4.193    0.000 sputils.py:121(get_index_dtype)\n",
      "   187068    0.130    0.000    0.387    0.000 sputils.py:188(isintlike)\n",
      "   249424    0.189    0.000    0.576    0.000 sputils.py:210(isshape)\n",
      "    62356    0.040    0.000    0.071    0.000 sputils.py:22(upcast)\n",
      "   374136    0.789    0.000    1.283    0.000 sputils.py:267(check_shape)\n",
      "  1122408    0.292    0.000    0.368    0.000 sputils.py:280(<genexpr>)\n",
      "     8908    0.004    0.000    0.007    0.000 sputils.py:56(upcast_char)\n",
      "   374136    0.295    0.000    0.696    0.000 sputils.py:93(to_native)\n",
      "       13    0.000    0.000    0.000    0.000 threading.py:1017(_wait_for_tstate_lock)\n",
      "       13    0.000    0.000    0.000    0.000 threading.py:1071(is_alive)\n",
      "       13    0.000    0.000    0.000    0.000 threading.py:513(is_set)\n",
      "   748272    0.076    0.000    0.076    0.000 {built-in method _operator.index}\n",
      "        1    0.000    0.000   25.750   25.750 {built-in method builtins.exec}\n",
      "   133620    0.108    0.000    0.157    0.000 {built-in method builtins.getattr}\n",
      "    62356    0.041    0.000    0.064    0.000 {built-in method builtins.hasattr}\n",
      "    62356    0.014    0.000    0.014    0.000 {built-in method builtins.hash}\n",
      "  1371844    0.205    0.000    0.205    0.000 {built-in method builtins.isinstance}\n",
      "  5975606    0.479    0.000    0.479    0.000 {built-in method builtins.len}\n",
      "   623560    0.207    0.000    0.207    0.000 {built-in method builtins.max}\n",
      "        3    0.000    0.000    0.000    0.000 {built-in method builtins.print}\n",
      "  2244816    1.079    0.000    1.079    0.000 {built-in method numpy.array}\n",
      "   694824    0.490    0.000    0.531    0.000 {built-in method numpy.core._multiarray_umath.implement_array_function}\n",
      "   187068    0.247    0.000    0.247    0.000 {built-in method numpy.empty}\n",
      "     8908    0.020    0.000    0.020    0.000 {built-in method numpy.zeros}\n",
      "       12    0.000    0.000    0.000    0.000 {built-in method posix.getpid}\n",
      "    62356    0.135    0.000    0.135    0.000 {built-in method scipy.sparse._sparsetools.coo_tocsr}\n",
      "    62356    0.056    0.000    0.056    0.000 {built-in method scipy.sparse._sparsetools.csr_has_canonical_format}\n",
      "     8908    0.018    0.000    0.018    0.000 {built-in method scipy.sparse._sparsetools.csr_matvec}\n",
      "   124712    0.091    0.000    0.091    0.000 {built-in method scipy.sparse._sparsetools.expandptr}\n",
      "       13    0.000    0.000    0.000    0.000 {method 'acquire' of '_thread.lock' objects}\n",
      "       13    0.000    0.000    0.000    0.000 {method 'append' of 'collections.deque' objects}\n",
      "   249424    0.175    0.000    0.175    0.000 {method 'astype' of 'numpy.ndarray' objects}\n",
      "        1    0.000    0.000    0.000    0.000 {method 'disable' of '_lsprof.Profiler' objects}\n",
      "    71264    0.020    0.000    0.020    0.000 {method 'get' of 'dict' objects}\n",
      "      185    0.000    0.000    0.000    0.000 {method 'items' of 'dict' objects}\n",
      "    33858    0.004    0.000    0.004    0.000 {method 'keys' of 'dict' objects}\n",
      "   623560    0.268    0.000    2.193    0.000 {method 'max' of 'numpy.ndarray' objects}\n",
      "   623560    0.258    0.000    1.625    0.000 {method 'min' of 'numpy.ndarray' objects}\n",
      "   374136    0.174    0.000    0.174    0.000 {method 'newbyteorder' of 'numpy.dtype' objects}\n",
      "  1247120    2.950    0.000    2.950    0.000 {method 'reduce' of 'numpy.ufunc' objects}\n",
      "   187068    0.169    0.000    0.169    0.000 {method 'repeat' of 'numpy.ndarray' objects}\n",
      "   374136    0.269    0.000    0.269    0.000 {method 'reshape' of 'numpy.ndarray' objects}\n",
      "   187068    0.050    0.000    0.050    0.000 {method 'rpartition' of 'str' objects}\n",
      "\n",
      "\n"
     ]
    }
   ],
   "source": [
    "cProfile.run('variance_local(pr, energy, state, β)')"
   ]
  }
 ],
 "metadata": {
  "kernelspec": {
   "display_name": "Python 3",
   "language": "python",
   "name": "python3"
  },
  "language_info": {
   "codemirror_mode": {
    "name": "ipython",
    "version": 3
   },
   "file_extension": ".py",
   "mimetype": "text/x-python",
   "name": "python",
   "nbconvert_exporter": "python",
   "pygments_lexer": "ipython3",
   "version": "3.8.2"
  }
 },
 "nbformat": 4,
 "nbformat_minor": 4
}
