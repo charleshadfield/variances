{
 "cells": [
  {
   "cell_type": "code",
   "execution_count": 1,
   "metadata": {},
   "outputs": [],
   "source": [
    "from hamiltonian import Hamiltonian, HamiltonianH2, HamiltonianWA"
   ]
  },
  {
   "cell_type": "code",
   "execution_count": 2,
   "metadata": {},
   "outputs": [],
   "source": [
    "lih = Hamiltonian('LiH', 1.5)\n",
    "beh2 = Hamiltonian('BeH2', 1.3)\n",
    "\n",
    "h2_jw = HamiltonianH2('jw')\n",
    "h2_parity = HamiltonianH2('parity')\n",
    "h2_bk = HamiltonianH2('bk')\n",
    "\n",
    "water_jw = HamiltonianWA('water', 'jw')\n",
    "water_parity = HamiltonianWA('water', 'parity')\n",
    "water_bk = HamiltonianWA('water', 'bk')\n",
    "\n",
    "ammonia_jw = HamiltonianWA('ammonia', 'jw')\n",
    "ammonia_parity = HamiltonianWA('ammonia', 'parity')\n",
    "ammonia_bk = HamiltonianWA('ammonia', 'bk')"
   ]
  },
  {
   "cell_type": "markdown",
   "metadata": {},
   "source": [
    "The goal of this notebook is to render parallelise the computation of the variance.\n",
    "`sparse.kron` is the expensive calculation. \n",
    "\n",
    "For each of the encodings `jw, parity, bk` I want to calculate the variances associated with `uniform, optimal, biased` where biased is associated with one of three norms: `1,2,infinity`.\n",
    "\n",
    "There are therefore naturally $3*(1+1+3)$ calculations to do. And I have 15 cores at my disposal. Let's use them in parallel.\n"
   ]
  },
  {
   "cell_type": "code",
   "execution_count": 3,
   "metadata": {},
   "outputs": [
    {
     "name": "stdout",
     "output_type": "stream",
     "text": [
      "CPU times: user 11min 3s, sys: 2min 35s, total: 13min 38s\n",
      "Wall time: 4min 49s\n"
     ]
    }
   ],
   "source": [
    "pr = ammonia_jw.pauli_rep\n",
    "%time energy, state = pr.ground()"
   ]
  },
  {
   "cell_type": "code",
   "execution_count": 4,
   "metadata": {},
   "outputs": [
    {
     "data": {
      "text/plain": [
       "{'jw_ell_1': 3925.2892789717957,\n",
       " 'parity_ell_1': 3925.289278971855,\n",
       " 'bk_ell_1': 3925.2892789718826}"
      ]
     },
     "execution_count": 4,
     "metadata": {},
     "output_type": "execute_result"
    }
   ],
   "source": [
    "# build length-15 dictionary for molecule\n",
    "\n",
    "# molecule = h2\n",
    "\n",
    "encodings = {'jw': ammonia_jw, 'parity': ammonia_parity, 'bk': ammonia_bk}\n",
    "algos = {}\n",
    "variances = {}\n",
    "for encoding, ham in encodings.items():\n",
    "    pr = ham.pauli_rep\n",
    "    energy, state = pr.ground()\n",
    "    \n",
    "    variances[encoding+'_ell_1'] = ham.pauli_rep.variance_ell_1(energy)\n",
    "    \n",
    "    algo = encoding+'_uniform'\n",
    "    algos[algo] = [algo, pr, energy, state, pr.local_dists_uniform()]  \n",
    "    \n",
    "    algo = encoding+'_optimal'\n",
    "    algos[algo] = [algo, pr, energy, state, pr.local_dists_optimal()]  \n",
    "    \n",
    "    #algo = encoding+'_1norm'\n",
    "    #algos[algo]   = [algo, pr, energy, state, pr.local_dists_pnorm(1)]\n",
    "    \n",
    "    #algo = encoding+'_2norm'\n",
    "    #algos[algo]   = [algo, pr, energy, state, pr.local_dists_pnorm(2)]\n",
    "    \n",
    "    #algo = encoding+'_maxnorm'\n",
    "    #algos[algo]   = [algo, pr, energy, state, pr.local_dists_pnorm('infinity')]\n",
    "\n",
    "variances"
   ]
  },
  {
   "cell_type": "code",
   "execution_count": 5,
   "metadata": {},
   "outputs": [],
   "source": [
    "from multiprocessing import Pool\n",
    "import multithread\n",
    "if __name__ == '__main__':\n",
    "    p = Pool(processes = 6)#15)\n",
    "    output = p.map(multithread.variance, algos.values())\n",
    "    \n",
    "    for algo, var in output:\n",
    "        variances[algo] = var"
   ]
  },
  {
   "cell_type": "code",
   "execution_count": 6,
   "metadata": {},
   "outputs": [
    {
     "data": {
      "text/plain": [
       "{'jw_ell_1': 3925.2892789717957,\n",
       " 'parity_ell_1': 3925.289278971855,\n",
       " 'bk_ell_1': 3925.2892789718826,\n",
       " 'jw_uniform': 14396.022781759535,\n",
       " 'jw_optimal': 352.7397243664761,\n",
       " 'parity_uniform': 27249.19500354869,\n",
       " 'parity_optimal': 631.7578806702569,\n",
       " 'bk_uniform': 2120.8633164846233,\n",
       " 'bk_optimal': 373.9916852176471}"
      ]
     },
     "execution_count": 6,
     "metadata": {},
     "output_type": "execute_result"
    }
   ],
   "source": [
    "variances"
   ]
  },
  {
   "cell_type": "code",
   "execution_count": 7,
   "metadata": {},
   "outputs": [],
   "source": [
    "from matplotlib import pyplot as plt\n",
    "import numpy as np"
   ]
  },
  {
   "cell_type": "code",
   "execution_count": 8,
   "metadata": {},
   "outputs": [
    {
     "data": {
      "image/png": "[encoded data removed]",
      "text/plain": [
       "<Figure size 432x288 with 1 Axes>"
      ]
     },
     "metadata": {
      "needs_background": "light"
     },
     "output_type": "display_data"
    }
   ],
   "source": [
    "N = 3\n",
    "\n",
    "ell_1_variances = [variances['{}_ell_1'.format(encoding)] for encoding in encodings]\n",
    "uniform_variances = [variances['{}_uniform'.format(encoding)] for encoding in encodings]\n",
    "optimal_variances = [variances['{}_optimal'.format(encoding)] for encoding in encodings]\n",
    "\n",
    "ind = np.arange(N) \n",
    "width = 0.2       \n",
    "plt.bar(ind, ell_1_variances, width, label='ell_1')\n",
    "plt.bar(ind + width, uniform_variances, width, label='uniform')\n",
    "plt.bar(ind + 2*width, optimal_variances, width, label='optimal')\n",
    "\n",
    "plt.ylabel('Variances')\n",
    "plt.title('Variances for ammonia on 16 qubits')\n",
    "\n",
    "plt.xticks(ind + width, ('Jordan-Wigner', 'Parity', 'Bravyi-Kitaev'))\n",
    "plt.legend(loc='best')\n",
    "\n",
    "plt.savefig('../images/variances_ammonia_16qubits.png', dpi=300)\n",
    "plt.show()"
   ]
  },
  {
   "cell_type": "code",
   "execution_count": 9,
   "metadata": {},
   "outputs": [
    {
     "data": {
      "text/plain": [
       "{'jw_ell_1': 3925.2892789717957,\n",
       " 'parity_ell_1': 3925.289278971855,\n",
       " 'bk_ell_1': 3925.2892789718826,\n",
       " 'jw_uniform': 14396.022781759535,\n",
       " 'jw_optimal': 352.7397243664761,\n",
       " 'parity_uniform': 27249.19500354869,\n",
       " 'parity_optimal': 631.7578806702569,\n",
       " 'bk_uniform': 2120.8633164846233,\n",
       " 'bk_optimal': 373.9916852176471}"
      ]
     },
     "execution_count": 9,
     "metadata": {},
     "output_type": "execute_result"
    }
   ],
   "source": [
    "variances"
   ]
  },
  {
   "cell_type": "code",
   "execution_count": null,
   "metadata": {},
   "outputs": [],
   "source": []
  }
 ],
 "metadata": {
  "kernelspec": {
   "display_name": "Python 3",
   "language": "python",
   "name": "python3"
  },
  "language_info": {
   "codemirror_mode": {
    "name": "ipython",
    "version": 3
   },
   "file_extension": ".py",
   "mimetype": "text/x-python",
   "name": "python",
   "nbconvert_exporter": "python",
   "pygments_lexer": "ipython3",
   "version": "3.8.2"
  }
 },
 "nbformat": 4,
 "nbformat_minor": 4
}
