{
 "cells": [
  {
   "cell_type": "code",
   "execution_count": 2,
   "metadata": {},
   "outputs": [],
   "source": [
    "from hamiltonian import Hamiltonian"
   ]
  },
  {
   "cell_type": "code",
   "execution_count": 3,
   "metadata": {},
   "outputs": [],
   "source": [
    "# 4 qubits\n",
    "h2_jw_4 = Hamiltonian('H2_STO3g_4qubits', 'jw')\n",
    "h2_parity_4 = Hamiltonian('H2_STO3g_4qubits', 'parity')\n",
    "h2_bk_4 = Hamiltonian('H2_STO3g_4qubits', 'bk')\n",
    "\n",
    "# 8 qubits\n",
    "h2_jw = Hamiltonian('H2_6-31G_8qubits', 'jw')\n",
    "h2_parity = Hamiltonian('H2_6-31G_8qubits', 'parity')\n",
    "h2_bk = Hamiltonian('H2_6-31G_8qubits', 'bk')\n",
    "\n",
    "# 12 qubits\n",
    "lih_jw = Hamiltonian('LiH_STO3g_12qubits', 'jw')\n",
    "lih_parity = Hamiltonian('LiH_STO3g_12qubits', 'parity')\n",
    "lih_bk = Hamiltonian('LiH_STO3g_12qubits', 'bk')"
   ]
  },
  {
   "cell_type": "code",
   "execution_count": 7,
   "metadata": {},
   "outputs": [],
   "source": [
    "hamiltonians = {\"h2_jw_4\": h2_jw_4,\n",
    "                \"h2_parity_4\": h2_parity_4,\n",
    "                \"h2_bk_4\": h2_bk_4,\n",
    "                \"h2_jw\": h2_jw,\n",
    "                \"h2_parity\": h2_parity,\n",
    "                \"h2_bk\": h2_bk,\n",
    "                \"lih_jw\": lih_jw,\n",
    "                \"lih_parity\": lih_parity,\n",
    "                \"lih_bk\": lih_bk}"
   ]
  },
  {
   "cell_type": "markdown",
   "metadata": {},
   "source": [
    "The notebook paralellises the 6 computations associated with a given molecule:\n",
    "- three encodings\n",
    "- two values of beta (uniform and diagonal-optimal)\n",
    "\n",
    "It then plots all three encodings with four different algorithms:\n",
    "- ell_1\n",
    "- ldf\n",
    "- uniform pauli\n",
    "- diagonal optimal pauli"
   ]
  },
  {
   "cell_type": "code",
   "execution_count": 3,
   "metadata": {},
   "outputs": [],
   "source": [
    "beta_ALL = {}\n",
    "variances_ALL = {}\n",
    "algos_ALL = {}"
   ]
  },
  {
   "cell_type": "code",
   "execution_count": 4,
   "metadata": {},
   "outputs": [
    {
     "name": "stderr",
     "output_type": "stream",
     "text": [
      "/opt/anaconda3/envs/qiskit18/lib/python3.8/site-packages/scipy/optimize/_hessian_update_strategy.py:183: UserWarning: delta_grad == 0.0. Check if the approximated function is linear. If the function is linear better results can be obtained by defining the Hessian as zero instead of using quasi-Newton approximations.\n",
      "  warn('delta_grad == 0.0. Check if the approximated '\n"
     ]
    },
    {
     "name": "stdout",
     "output_type": "stream",
     "text": [
      "CPU times: user 1min 6s, sys: 8.04 s, total: 1min 14s\n",
      "Wall time: 15.6 s\n"
     ]
    }
   ],
   "source": [
    "%%time\n",
    "# build two dictionaries containing the variances and the optimal betas for a fixed molecule\n",
    "# the dictionary algos_ALL[molecule] is used for multithreading in the next cell\n",
    "\n",
    "molecule = 'h2'\n",
    "num_qubits = h2_jw.num_qubits\n",
    "encodings = {'jw': h2_jw, 'parity': h2_parity, 'bk': h2_bk}\n",
    "\n",
    "variances_ALL[molecule] = {}\n",
    "beta_ALL[molecule] = {}\n",
    "algos_ALL[molecule] = {}\n",
    "\n",
    "for encoding, ham in encodings.items():\n",
    "    pr = ham.pauli_rep\n",
    "    energy, state = pr.ground()\n",
    "    \n",
    "    variances_ALL[molecule][encoding+'_ell_1'] = ham.pauli_rep.variance_ell_1(energy)\n",
    "    \n",
    "    algo = encoding+'_uniform'\n",
    "    β = pr.local_dists_uniform()\n",
    "    algos_ALL[molecule][algo] = [algo, pr, energy, state, β]  \n",
    "    \n",
    "    algo = encoding+'_optimal'\n",
    "    β = pr.local_dists_optimal()\n",
    "    algos_ALL[molecule][algo] = [algo, pr, energy, state, β]\n",
    "    beta_ALL[molecule][algo] = β"
   ]
  },
  {
   "cell_type": "code",
   "execution_count": 5,
   "metadata": {},
   "outputs": [
    {
     "name": "stdout",
     "output_type": "stream",
     "text": [
      "CPU times: user 28.9 ms, sys: 26.1 ms, total: 54.9 ms\n",
      "Wall time: 1.19 s\n"
     ]
    }
   ],
   "source": [
    "%%time\n",
    "from multiprocessing import Pool\n",
    "import multithread\n",
    "if __name__ == '__main__':\n",
    "    p = Pool(processes = 6)\n",
    "    output = p.map(multithread.variance, algos_ALL[molecule].values())\n",
    "    \n",
    "    for algo, var in output:\n",
    "        variances_ALL[molecule][algo] = var"
   ]
  },
  {
   "cell_type": "code",
   "execution_count": 6,
   "metadata": {},
   "outputs": [],
   "source": [
    "from matplotlib import pyplot as plt\n",
    "import numpy as np"
   ]
  },
  {
   "cell_type": "code",
   "execution_count": 7,
   "metadata": {},
   "outputs": [
    {
     "data": {
      "image/png": "[encoded data removed]",
      "text/plain": [
       "<Figure size 432x288 with 1 Axes>"
      ]
     },
     "metadata": {
      "needs_background": "light"
     },
     "output_type": "display_data"
    }
   ],
   "source": [
    "N = 3\n",
    "\n",
    "\n",
    "\n",
    "variances = variances_ALL[molecule]\n",
    "ell_1_variances = [variances['{}_ell_1'.format(encoding)] for encoding in encodings]\n",
    "uniform_variances = [variances['{}_uniform'.format(encoding)] for encoding in encodings]\n",
    "optimal_variances = [variances['{}_optimal'.format(encoding)] for encoding in encodings]\n",
    "\n",
    "ind = np.arange(N) \n",
    "width = 0.2       \n",
    "plt.bar(ind, ell_1_variances, width, label='ell_1')\n",
    "plt.bar(ind + width, uniform_variances, width, label='uniform')\n",
    "plt.bar(ind + 2*width, optimal_variances, width, label='optimal')\n",
    "\n",
    "plt.ylabel('Variances')\n",
    "plt.title('Variances for {0} on {1} qubits'.format(molecule, num_qubits))\n",
    "\n",
    "plt.xticks(ind + width, ('Jordan-Wigner', 'Parity', 'Bravyi-Kitaev'))\n",
    "plt.legend(loc='best')\n",
    "\n",
    "file = '../images/variances_{0}_{1}qubits.png'.format(molecule, num_qubits)\n",
    "plt.savefig(file, dpi=300)\n",
    "plt.show()"
   ]
  },
  {
   "cell_type": "code",
   "execution_count": null,
   "metadata": {},
   "outputs": [],
   "source": []
  }
 ],
 "metadata": {
  "kernelspec": {
   "display_name": "Python 3",
   "language": "python",
   "name": "python3"
  },
  "language_info": {
   "codemirror_mode": {
    "name": "ipython",
    "version": 3
   },
   "file_extension": ".py",
   "mimetype": "text/x-python",
   "name": "python",
   "nbconvert_exporter": "python",
   "pygments_lexer": "ipython3",
   "version": "3.8.2"
  }
 },
 "nbformat": 4,
 "nbformat_minor": 4
}
