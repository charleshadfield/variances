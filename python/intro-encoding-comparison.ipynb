{
 "cells": [
  {
   "cell_type": "code",
   "execution_count": 1,
   "metadata": {},
   "outputs": [],
   "source": [
    "from hamiltonian import Hamiltonian\n",
    "from var import variance_ldf, kappa_1norm\n",
    "import numpy as np\n",
    "from matplotlib import pyplot as plt"
   ]
  },
  {
   "cell_type": "code",
   "execution_count": 2,
   "metadata": {},
   "outputs": [],
   "source": [
    "# 4 qubits\n",
    "h2_jw_4 = Hamiltonian('H2_STO3g_4qubits', 'jw')\n",
    "h2_parity_4 = Hamiltonian('H2_STO3g_4qubits', 'parity')\n",
    "h2_bk_4 = Hamiltonian('H2_STO3g_4qubits', 'bk')\n",
    "\n",
    "# 8 qubits\n",
    "h2_jw = Hamiltonian('H2_6-31G_8qubits', 'jw')\n",
    "h2_parity = Hamiltonian('H2_6-31G_8qubits', 'parity')\n",
    "h2_bk = Hamiltonian('H2_6-31G_8qubits', 'bk')\n",
    "\n",
    "# 12 qubits\n",
    "lih_jw = Hamiltonian('LiH_STO3g_12qubits', 'jw')\n",
    "lih_parity = Hamiltonian('LiH_STO3g_12qubits', 'parity')\n",
    "lih_bk = Hamiltonian('LiH_STO3g_12qubits', 'bk')\n",
    "\n",
    "# 14 qubits\n",
    "beh2_jw = Hamiltonian('BeH2_STO3g_14qubits', 'jw')\n",
    "beh2_parity = Hamiltonian('BeH2_STO3g_14qubits', 'parity')\n",
    "beh2_bk = Hamiltonian('BeH2_STO3g_14qubits', 'bk')\n",
    "\n",
    "h2o_jw = Hamiltonian('H2O_STO3g_14qubits', 'jw')\n",
    "h2o_parity = Hamiltonian('H2O_STO3g_14qubits', 'parity')\n",
    "h2o_bk = Hamiltonian('H2O_STO3g_14qubits', 'bk')\n",
    "\n",
    "# 16 qubits\n",
    "nh3_jw = Hamiltonian('NH3_STO3g_16qubits', 'jw')\n",
    "nh3_parity = Hamiltonian('NH3_STO3g_16qubits', 'parity')\n",
    "nh3_bk = Hamiltonian('NH3_STO3g_16qubits', 'bk')\n",
    "\n",
    "# 20 qubits\n",
    "c2_jw = Hamiltonian('C2_STO3g_20qubits', 'jw')\n",
    "c2_parity = Hamiltonian('C2_STO3g_20qubits', 'parity')\n",
    "c2_bk = Hamiltonian('C2_STO3g_20qubits', 'bk')\n",
    "\n",
    "hcl_jw = Hamiltonian('HCl_STO3g_20qubits', 'jw')\n",
    "hcl_parity = Hamiltonian('HCl_STO3g_20qubits', 'parity')\n",
    "hcl_bk = Hamiltonian('HCl_STO3g_20qubits', 'bk')"
   ]
  },
  {
   "cell_type": "code",
   "execution_count": 3,
   "metadata": {},
   "outputs": [],
   "source": [
    "hamiltonians = {\"h2_4\": [h2_jw_4, h2_parity_4, h2_bk_4],\n",
    "                \"h2\": [h2_jw, h2_parity, h2_bk],\n",
    "                \"lih\": [lih_jw, lih_parity, lih_bk],\n",
    "                \"h2o\": [h2o_jw, h2o_parity, h2o_bk],\n",
    "                \"beh2\": [beh2_jw, beh2_parity, beh2_bk]}"
   ]
  },
  {
   "cell_type": "markdown",
   "metadata": {},
   "source": [
    "The notebook calculates the $3*4$ data points for each molecule:\n",
    "- three encodings\n",
    "- 4 algorithms: ell_1, ldf, \\beta_uniform, \\beta_optimised_diagonal\n",
    "\n",
    "It then plots all three data points in bar-chart style"
   ]
  },
  {
   "cell_type": "code",
   "execution_count": 4,
   "metadata": {},
   "outputs": [],
   "source": [
    "betas = {}\n",
    "variances = {}\n",
    "for name in hamiltonians:\n",
    "    betas[name] = {} # (encoding, \\beta_optimised_diagonal)\n",
    "    variances[name] = {} # (encoding, [ell_1, ldf, uniform, optimised])"
   ]
  },
  {
   "cell_type": "code",
   "execution_count": 5,
   "metadata": {},
   "outputs": [],
   "source": [
    "def calculate_variances(name):\n",
    "    b = betas[name]\n",
    "    v = variances[name]\n",
    "    for ham in hamiltonians[name]:        \n",
    "        pr = ham.pauli_rep\n",
    "        encoding = ham.encoding\n",
    "        print(encoding)\n",
    "        v[encoding] = [] # add to this list the 4 variances\n",
    "        \n",
    "        energy, state = pr.ground(multithread=True) # you can add optional keyword num_cores=15\n",
    "                \n",
    "        # ell_1\n",
    "        var = pr.variance_ell_1(energy)\n",
    "        print(\"\\t ell 1: \", var)\n",
    "        v[encoding].append(var)\n",
    "    \n",
    "        # LDF with 1-norm sampling\n",
    "        ldf = ham.ldf()\n",
    "        kappa = kappa_1norm(ldf)\n",
    "        energy_tf = pr.energy_tf(energy)\n",
    "        var = variance_ldf(ldf, state, kappa, energy_tf)\n",
    "        print(\"\\t ldf 1norm: \", var)\n",
    "        v[encoding].append(var)\n",
    "    \n",
    "        # uniform\n",
    "        β_uniform = pr.local_dists_uniform()\n",
    "        var = pr.variance_local(energy, state, β_uniform, multithread=True)\n",
    "        print(\"\\t uniform: \", var)\n",
    "        v[encoding].append(var)\n",
    "    \n",
    "        # optimal (diagonal)\n",
    "        β_diag = pr.local_dists_optimal('diagonal', 'lagrange')\n",
    "        print(\"\\t optimal beta found.\")\n",
    "        var = pr.variance_local(energy, state, β_diag, multithread=True)\n",
    "        print(\"\\t optimal diagonal: \", var)\n",
    "        v[encoding].append(var)"
   ]
  },
  {
   "cell_type": "code",
   "execution_count": 6,
   "metadata": {},
   "outputs": [],
   "source": [
    "def graph_variances(name, name_title, num_qubits):\n",
    "    v = variances[name]\n",
    "    encodings = ['jw', 'parity', 'bk']\n",
    "    \n",
    "    \n",
    "    ell_1_bars   = [v[encoding][0] for encoding in encodings]\n",
    "    ldf_bars     = [v[encoding][1] for encoding in encodings]\n",
    "    uniform_bars = [v[encoding][2] for encoding in encodings]\n",
    "    optimal_bars = [v[encoding][3] for encoding in encodings]\n",
    "\n",
    "    ind = np.arange(3) \n",
    "    width = 0.2       \n",
    "    plt.bar(ind, ell_1_bars, width, label='ell_1')\n",
    "    plt.bar(ind + width, ldf_bars, width, label='ldf')\n",
    "    plt.bar(ind + 2*width, uniform_bars, width, label='uniform')\n",
    "    plt.bar(ind + 3*width, optimal_bars, width, label='optimal')\n",
    "\n",
    "    plt.ylabel('Variances')\n",
    "    plt.title('Variances for {0} on {1} qubits'.format(name_title, num_qubits))\n",
    "\n",
    "    plt.xticks(ind + (1.5)*width, ('Jordan-Wigner', 'Parity', 'Bravyi-Kitaev'))\n",
    "    plt.legend(loc='best')    \n",
    "    \n",
    "    file = '../images/4algos_3encodings/{}_{}q'.format(name, num_qubits)\n",
    "    #plt.savefig(file, dpi=300) # uncomment this line to save your files!\n",
    "    plt.show()"
   ]
  },
  {
   "cell_type": "code",
   "execution_count": 7,
   "metadata": {},
   "outputs": [],
   "source": [
    "data = {\"h2_4\": [\"H2\", 4],\n",
    "        \"h2\": [\"H2\", 8],\n",
    "        \"lih\": [\"LiH\", 12],\n",
    "        \"beh2\": [\"BeH2\", 14],\n",
    "        \"h2o\": [\"H2O\", 14],\n",
    "        }"
   ]
  },
  {
   "cell_type": "code",
   "execution_count": 8,
   "metadata": {},
   "outputs": [
    {
     "name": "stdout",
     "output_type": "stream",
     "text": [
      "jw\n",
      "\t ell 1:  2.4934667759321223\n",
      "\t ldf 1norm:  0.4018197080691315\n",
      "\t uniform:  1.9710775636478912\n",
      "\t optimal beta found.\n",
      "\t optimal diagonal:  1.855583049884944\n",
      "parity\n",
      "\t ell 1:  2.49346677593213\n",
      "\t ldf 1norm:  0.19304847773439526\n",
      "\t uniform:  3.997134300084131\n",
      "\t optimal beta found.\n",
      "\t optimal diagonal:  0.5410848034657925\n",
      "bk\n",
      "\t ell 1:  2.493466775932135\n",
      "\t ldf 1norm:  0.19304847773439948\n",
      "\t uniform:  10.023572336567439\n",
      "\t optimal beta found.\n",
      "\t optimal diagonal:  0.5411274575466358\n"
     ]
    },
    {
     "data": {
      "image/png": "[encoded data removed]",
      "text/plain": [
       "<Figure size 432x288 with 1 Axes>"
      ]
     },
     "metadata": {
      "needs_background": "light"
     },
     "output_type": "display_data"
    },
    {
     "name": "stdout",
     "output_type": "stream",
     "text": [
      "jw\n",
      "\t ell 1:  119.67906001905914\n",
      "\t ldf 1norm:  22.259477922991145\n",
      "\t uniform:  51.3998202138758\n",
      "\t optimal beta found.\n",
      "\t optimal diagonal:  17.74194781113716\n",
      "parity\n",
      "\t ell 1:  119.67906001905918\n",
      "\t ldf 1norm:  38.00751537066633\n",
      "\t uniform:  70.7614744196226\n",
      "\t optimal beta found.\n",
      "\t optimal diagonal:  18.925407457204543\n",
      "bk\n",
      "\t ell 1:  119.67906001905942\n",
      "\t ldf 1norm:  38.43066200545782\n",
      "\t uniform:  168.86600324405654\n",
      "\t optimal beta found.\n",
      "\t optimal diagonal:  19.517761420961296\n"
     ]
    },
    {
     "data": {
      "image/png": "[encoded data removed]",
      "text/plain": [
       "<Figure size 432x288 with 1 Axes>"
      ]
     },
     "metadata": {
      "needs_background": "light"
     },
     "output_type": "display_data"
    },
    {
     "name": "stdout",
     "output_type": "stream",
     "text": [
      "jw\n",
      "\t ell 1:  138.38018090986645\n",
      "\t ldf 1norm:  54.15086386372374\n",
      "\t uniform:  265.6353233020795\n",
      "\t optimal beta found.\n",
      "\t optimal diagonal:  14.792751908499026\n",
      "parity\n",
      "\t ell 1:  138.38018090986648\n",
      "\t ldf 1norm:  85.77160494262654\n",
      "\t uniform:  760.3640272475543\n",
      "\t optimal beta found.\n",
      "\t optimal diagonal:  26.49876833125461\n",
      "bk\n",
      "\t ell 1:  138.38018090986876\n",
      "\t ldf 1norm:  75.52780439158849\n",
      "\t uniform:  162.7782157492032\n",
      "\t optimal beta found.\n",
      "\t optimal diagonal:  67.99975702967859\n"
     ]
    },
    {
     "data": {
      "image/png": "[encoded data removed]",
      "text/plain": [
       "<Figure size 432x288 with 1 Axes>"
      ]
     },
     "metadata": {
      "needs_background": "light"
     },
     "output_type": "display_data"
    },
    {
     "name": "stdout",
     "output_type": "stream",
     "text": [
      "jw\n",
      "\t ell 1:  418.2697172297559\n",
      "\t ldf 1norm:  135.42909719906123\n",
      "\t uniform:  1670.0146708893706\n",
      "\t optimal beta found.\n",
      "\t optimal diagonal:  67.5997624629251\n",
      "parity\n",
      "\t ell 1:  418.2697172297554\n",
      "\t ldf 1norm:  239.28027313327766\n",
      "\t uniform:  3162.125758543857\n",
      "\t optimal beta found.\n",
      "\t optimal diagonal:  130.46202996569338\n",
      "bk\n",
      "\t ell 1:  418.26971722975554\n",
      "\t ldf 1norm:  196.59949093708354\n",
      "\t uniform:  947.4835187734968\n",
      "\t optimal beta found.\n",
      "\t optimal diagonal:  238.33974524721484\n"
     ]
    },
    {
     "data": {
      "image/png": "[encoded data removed]",
      "text/plain": [
       "<Figure size 432x288 with 1 Axes>"
      ]
     },
     "metadata": {
      "needs_background": "light"
     },
     "output_type": "display_data"
    },
    {
     "name": "stdout",
     "output_type": "stream",
     "text": [
      "jw\n",
      "\t ell 1:  4363.4977731260915\n",
      "\t ldf 1norm:  1041.8235013468952\n",
      "\t uniform:  2839.0394682189644\n",
      "\t optimal beta found.\n",
      "\t optimal diagonal:  257.5439313165771\n",
      "parity\n",
      "\t ell 1:  4363.497773126087\n",
      "\t ldf 1norm:  2671.4347080565476\n",
      "\t uniform:  6381.4575749513515\n",
      "\t optimal beta found.\n",
      "\t optimal diagonal:  428.99030430182404\n",
      "bk\n",
      "\t ell 1:  4363.497773126069\n",
      "\t ldf 1norm:  2088.7914222582835\n",
      "\t uniform:  10563.644804714342\n",
      "\t optimal beta found.\n",
      "\t optimal diagonal:  1360.1775699023333\n"
     ]
    },
    {
     "data": {
      "image/png": "[encoded data removed]",
      "text/plain": [
       "<Figure size 432x288 with 1 Axes>"
      ]
     },
     "metadata": {
      "needs_background": "light"
     },
     "output_type": "display_data"
    }
   ],
   "source": [
    "for name in data:\n",
    "    name_title = data[name][0]\n",
    "    num_qubits = data[name][1]\n",
    "    calculate_variances(name)\n",
    "    graph_variances(name, name_title, num_qubits)"
   ]
  },
  {
   "cell_type": "code",
   "execution_count": null,
   "metadata": {},
   "outputs": [],
   "source": [
    "    "
   ]
  }
 ],
 "metadata": {
  "kernelspec": {
   "display_name": "Python 3",
   "language": "python",
   "name": "python3"
  },
  "language_info": {
   "codemirror_mode": {
    "name": "ipython",
    "version": 3
   },
   "file_extension": ".py",
   "mimetype": "text/x-python",
   "name": "python",
   "nbconvert_exporter": "python",
   "pygments_lexer": "ipython3",
   "version": "3.8.2"
  }
 },
 "nbformat": 4,
 "nbformat_minor": 4
}
