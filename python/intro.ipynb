{
 "cells": [
  {
   "cell_type": "code",
   "execution_count": 1,
   "metadata": {},
   "outputs": [],
   "source": [
    "from hamiltonian import HamiltonianSmall, Hamiltonian"
   ]
  },
  {
   "cell_type": "code",
   "execution_count": 2,
   "metadata": {},
   "outputs": [],
   "source": [
    "lih = HamiltonianSmall('LiH', 1.5)\n",
    "beh2 = HamiltonianSmall('BeH2', 1.3)\n",
    "\n",
    "h2_jw = Hamiltonian('H2_6-31G_8qubits', 'jw')\n",
    "h2_parity = Hamiltonian('H2_6-31G_8qubits', 'parity')\n",
    "h2_bk = Hamiltonian('H2_6-31G_8qubits', 'bk')\n",
    "\n",
    "water_jw = Hamiltonian('H2O_STO3g_14qubits', 'jw')\n",
    "water_parity = Hamiltonian('H2O_STO3g_14qubits', 'parity')\n",
    "water_bk = Hamiltonian('H2O_STO3g_14qubits', 'bk')\n",
    "\n",
    "ammonia_jw = Hamiltonian('NH3_STO3g_16qubits', 'jw')\n",
    "ammonia_parity = Hamiltonian('NH3_STO3g_16qubits', 'parity')\n",
    "ammonia_bk = Hamiltonian('NH3_STO3g_16qubits', 'bk')"
   ]
  },
  {
   "cell_type": "code",
   "execution_count": 3,
   "metadata": {},
   "outputs": [
    {
     "name": "stdout",
     "output_type": "stream",
     "text": [
      "CPU times: user 205 ms, sys: 55.6 ms, total: 260 ms\n",
      "Wall time: 102 ms\n",
      "CPU times: user 262 ms, sys: 4.9 ms, total: 267 ms\n",
      "Wall time: 263 ms\n",
      "CPU times: user 530 ms, sys: 31 ms, total: 560 ms\n",
      "Wall time: 403 ms\n",
      "CPU times: user 23 s, sys: 2.72 s, total: 25.7 s\n",
      "Wall time: 9.88 s\n"
     ]
    }
   ],
   "source": [
    "%time lih.pauli_rep.ground()\n",
    "%time beh2.pauli_rep.ground()\n",
    "%time h2_jw.pauli_rep.ground()\n",
    "%time energy, state = water_jw.pauli_rep.ground()\n",
    "# %time energy, state = ammonia_jw.pauli_rep.ground() # takes about 4 minutes"
   ]
  },
  {
   "cell_type": "code",
   "execution_count": 4,
   "metadata": {},
   "outputs": [
    {
     "name": "stdout",
     "output_type": "stream",
     "text": [
      "CPU times: user 54.2 ms, sys: 51.3 ms, total: 105 ms\n",
      "Wall time: 479 ms\n",
      "CPU times: user 36.6 ms, sys: 42.8 ms, total: 79.4 ms\n",
      "Wall time: 431 ms\n",
      "CPU times: user 173 ms, sys: 94.8 ms, total: 268 ms\n",
      "Wall time: 487 ms\n",
      "CPU times: user 17 s, sys: 3.16 s, total: 20.2 s\n",
      "Wall time: 4.12 s\n"
     ]
    }
   ],
   "source": [
    "%time lih.pauli_rep.ground(multithread=True)\n",
    "%time beh2.pauli_rep.ground(multithread=True)\n",
    "%time h2_jw.pauli_rep.ground(multithread=True)\n",
    "%time energy, state = water_jw.pauli_rep.ground(multithread=True)\n",
    "# %time energy, state = ammonia_jw.pauli_rep.ground(multithread=True) # takes about 1 minute"
   ]
  },
  {
   "cell_type": "markdown",
   "metadata": {},
   "source": [
    "# Variance formula\n",
    "\n",
    "\\begin{align}\n",
    "    \\Var[\\nu] \n",
    "    &=\n",
    "    \\sum_{\\Qarrow,\\Rarrow}\n",
    "        f_\\beta(\\Qarrow,\\Rarrow)\n",
    "        \\alpha_\\Qarrow \\alpha_\\Rarrow\n",
    "        \\tr(\\rho\\Qarrow\\Rarrow)\n",
    "    - \\tr(\\rho H_0 )^2\n",
    "\\end{align}"
   ]
  },
  {
   "cell_type": "code",
   "execution_count": 5,
   "metadata": {},
   "outputs": [
    {
     "name": "stdout",
     "output_type": "stream",
     "text": [
      "CPU times: user 1.34 s, sys: 140 ms, total: 1.48 s\n",
      "Wall time: 681 ms\n"
     ]
    },
    {
     "data": {
      "text/plain": [
       "51.39982021387607"
      ]
     },
     "execution_count": 5,
     "metadata": {},
     "output_type": "execute_result"
    }
   ],
   "source": [
    "pr = h2_jw.pauli_rep\n",
    "energy, state = pr.ground()\n",
    "β = pr.local_dists_uniform()\n",
    "%time pr.variance_local(energy, state, β)"
   ]
  },
  {
   "cell_type": "code",
   "execution_count": 6,
   "metadata": {},
   "outputs": [
    {
     "name": "stdout",
     "output_type": "stream",
     "text": [
      "ell_1:  119.67906001905907\n",
      "1_norm:  48.903158500086604\n",
      "2_norm:  175.39091182541637\n",
      "max_norm:  849.5697055837951\n"
     ]
    }
   ],
   "source": [
    "print(\"ell_1: \", pr.variance_ell_1(energy))\n",
    "\n",
    "β = pr.local_dists_pnorm(1)\n",
    "print(\"1_norm: \", pr.variance_local(energy, state, β))\n",
    "\n",
    "β = pr.local_dists_pnorm(2)\n",
    "print(\"2_norm: \", pr.variance_local(energy, state, β))\n",
    "\n",
    "β = pr.local_dists_pnorm('infinity')\n",
    "print(\"max_norm: \", pr.variance_local(energy, state, β))"
   ]
  },
  {
   "cell_type": "markdown",
   "metadata": {},
   "source": [
    "# Variance optimisation (keyword=diagonal)\n",
    "\n",
    "This is not the correct optimisation. However it\n",
    "- gives good results;\n",
    "- is quicker than the full optimisation problem;\n",
    "- is convex (so local minimums are global);\n",
    "- does not need access to the Hartree-Fock bitstring for the encoding.\n",
    "\n",
    "Diagonal minimisation asks us to find $\\{\\beta_{i,P}\\}$ in order to minimise:\n",
    "$$\n",
    "    \\sum_{\\Qarrow} \\alpha_\\Qarrow^2 \\prod_{i\\in\\supp(\\Qarrow)} \\beta_{i,Q_i}^{-1}\n",
    "    \\qquad\n",
    "    \\textrm{subject to}\n",
    "    \\qquad\n",
    "    \\beta_{i,X}+\\beta_{i,Y}+\\beta_{i,Z}=1 \\,\\forall i,\n",
    "    \\qquad\n",
    "    \\beta_{i,P}\\ge 0\n",
    "$$"
   ]
  },
  {
   "cell_type": "code",
   "execution_count": 7,
   "metadata": {},
   "outputs": [
    {
     "name": "stdout",
     "output_type": "stream",
     "text": [
      "17.742071936811424\n"
     ]
    }
   ],
   "source": [
    "β_optimal_diagonal = pr.local_dists_optimal('diagonal')\n",
    "print(pr.variance_local(energy, state, β_optimal_diagonal))"
   ]
  },
  {
   "cell_type": "markdown",
   "metadata": {},
   "source": [
    "# Variance optimisation (keyword=mixed)\n",
    "\n",
    "This is the full optimisation problem. It requires access to the Hartree-Fock bitstring $m$ or `bitstring_HF` so that the HF state reads\n",
    "$\\frac1{2^n}\\otimes_{i=1}^n (I+m_i Z)$\n",
    "\n",
    "In the JW encoding these are:\n",
    "- H2 = `10001000`\n",
    "- H2O = `11111001111100`\n",
    "- NH3 = `1111100011111000`\n",
    "\n",
    "Consider the set of influential pairs:\n",
    "\\begin{align}\n",
    "    \\mathcal{I}_\\mathrm{comp}\n",
    "    =\n",
    "    \\left\\{\\left.\n",
    "        (\\Qarrow,\\Rarrow)\n",
    "        \\,\\right|\\,\n",
    "        \\textrm{for all $i$, either $Q_i=R_i$, or $\\{Q_i,R_i\\}=\\{I,Z\\}$}\n",
    "    \\right\\}\n",
    "\\end{align}\n",
    "\n",
    "Then the cost function to optimise will be:\n",
    "\\begin{align}\n",
    "    \\mathrm{cost}(\\{\\beta_i\\}_{i=1}^n)\n",
    "    =\n",
    "    \\sum_{\\Qarrow,\\Rarrow\\in\\mathcal{I}_\\mathrm{comp}}\n",
    "        \\alpha_\\Qarrow\n",
    "        \\alpha_\\Rarrow\n",
    "        \\prod_{i | Q_i=R_i\\neq I}\n",
    "            \\beta_{i,Q_i}^{-1}\n",
    "        \\prod_{i | Q_i\\neq R_i}\n",
    "            m_i\n",
    "\\end{align}\n",
    "\n",
    "Warning, the small Hamiltonians don't follow the pattern because they use other reduction techniques"
   ]
  },
  {
   "cell_type": "code",
   "execution_count": 8,
   "metadata": {},
   "outputs": [
    {
     "name": "stderr",
     "output_type": "stream",
     "text": [
      "/opt/anaconda3/envs/qiskit18/lib/python3.8/site-packages/scipy/optimize/_hessian_update_strategy.py:183: UserWarning: delta_grad == 0.0. Check if the approximated function is linear. If the function is linear better results can be obtained by defining the Hessian as zero instead of using quasi-Newton approximations.\n",
      "  warn('delta_grad == 0.0. Check if the approximated '\n"
     ]
    },
    {
     "name": "stdout",
     "output_type": "stream",
     "text": [
      "17.457190704104413\n"
     ]
    }
   ],
   "source": [
    "bitstring_HF = '10001000'\n",
    "β_optimal_mixed = pr.local_dists_optimal('mixed', bitstring_HF)\n",
    "print(pr.variance_local(energy, state, β_optimal_mixed))"
   ]
  },
  {
   "cell_type": "markdown",
   "metadata": {},
   "source": [
    "# Variance after LDF grouping\n",
    "\n",
    "We should use 1-norm sampling for $\\kappa$\n",
    "\n",
    "\\begin{align}\n",
    "    \\Var[\\nu] \n",
    "    = \n",
    "    \\left(\n",
    "    \\sum_{k=1}^{n_c}\n",
    "        \\frac1{\\kappa_k} \n",
    "        \\sum_{\\Qarrow,\\Rarrow\\in C^{(k)}}\n",
    "            \\alpha_\\Qarrow\\alpha_\\Rarrow\n",
    "            \\prod_{i\\in\\supp(\\Qarrow\\Rarrow)} \\langle \\Qarrow\\Rarrow \\rangle\n",
    "    \\right)\n",
    "    - \\langle H_0 \\rangle^2\n",
    "\\end{align}"
   ]
  },
  {
   "cell_type": "code",
   "execution_count": 9,
   "metadata": {},
   "outputs": [],
   "source": [
    "from var import variance_ldf, kappa_1norm #kappa_uniform"
   ]
  },
  {
   "cell_type": "code",
   "execution_count": 10,
   "metadata": {},
   "outputs": [
    {
     "data": {
      "text/plain": [
       "22.259477922991184"
      ]
     },
     "execution_count": 10,
     "metadata": {},
     "output_type": "execute_result"
    }
   ],
   "source": [
    "ldf = h2_jw.ldf()\n",
    "kappa = kappa_1norm(ldf)\n",
    "energy_tf = pr.energy_tf(energy)\n",
    "variance_ldf(ldf, state, kappa, energy_tf)"
   ]
  },
  {
   "cell_type": "markdown",
   "metadata": {},
   "source": [
    "# Benchmarking"
   ]
  },
  {
   "cell_type": "code",
   "execution_count": 33,
   "metadata": {},
   "outputs": [],
   "source": [
    "def variances_dict(ham, β_diag=None, β_mix=None):\n",
    "    pr = ham.pauli_rep\n",
    "    dic = {}\n",
    "    \n",
    "    energy, state = pr.ground(multithread=True)\n",
    "    print(\"energy :\", energy)\n",
    "\n",
    "    # ell_1\n",
    "    var = pr.variance_ell_1(energy)\n",
    "    print(\"ell 1: \", var)\n",
    "    dic['ell_1'] = var\n",
    "    \n",
    "    # LDF with 1-norm sampling\n",
    "    ldf = ham.ldf()\n",
    "    kappa = kappa_1norm(ldf)\n",
    "    energy_tf = pr.energy_tf(energy)\n",
    "    var = variance_ldf(ldf, state, kappa, energy_tf)\n",
    "    print(\"ldf 1norm: \", var)\n",
    "    dic['ldf_1norm'] = var\n",
    "    \n",
    "    # uniform\n",
    "    β_uniform = pr.local_dists_uniform()\n",
    "    var = pr.variance_local(energy, state, β_uniform, multithread=True)\n",
    "    print(\"uniform: \", var)\n",
    "    dic['uniform'] = var\n",
    "    \n",
    "    # optimal (diagonal)\n",
    "    if β_diag is not None:\n",
    "        var = pr.variance_local(energy, state, β_diag, multithread=True)\n",
    "        print(\"optimal diagonal: \", var)\n",
    "        dic['optimal_diag'] = var\n",
    " \n",
    "    # optimal (mixed)\n",
    "    if β_mix is not None:\n",
    "        var = pr.variance_local(energy, state, β_mix, multithread=True)\n",
    "        print(\"optimal mixed: \", var)\n",
    "        dic['optimal_mix'] = var\n",
    "    \n",
    "    return dic\n",
    "\n",
    "from matplotlib import pyplot as plt\n",
    "\n",
    "def variances_graph(variances):\n",
    "    num_variances = len(variances)\n",
    "    x = range(num_variances)\n",
    "    height = list(variances.values())\n",
    "\n",
    "    plt.bar(x, height)\n",
    "    plt.xticks(x, list(variances.keys()), rotation=20)\n",
    "    plt.title(title)\n",
    "\n",
    "    plt.show()"
   ]
  },
  {
   "cell_type": "code",
   "execution_count": 12,
   "metadata": {},
   "outputs": [],
   "source": [
    "variances_ALL = {}\n",
    "beta_optimal_ALL = {}"
   ]
  },
  {
   "cell_type": "code",
   "execution_count": 13,
   "metadata": {},
   "outputs": [
    {
     "name": "stdout",
     "output_type": "stream",
     "text": [
      "CPU times: user 11 s, sys: 1.19 s, total: 12.2 s\n",
      "Wall time: 2.47 s\n",
      "CPU times: user 1min 20s, sys: 7.99 s, total: 1min 28s\n",
      "Wall time: 26.2 s\n",
      "=====\n",
      "Variances for various algorithms on H2 in JW encoding over 8 qubits\n",
      "=====\n",
      "energy : -1.860860555520766\n",
      "ell 1:  119.67906001905905\n",
      "ldf 1norm:  22.25947792299123\n",
      "uniform:  51.399820213875984\n",
      "optimal diagonal:  17.742071936811502\n",
      "optimal mixed:  17.45719070410452\n",
      "CPU times: user 619 ms, sys: 289 ms, total: 907 ms\n",
      "Wall time: 2.14 s\n"
     ]
    }
   ],
   "source": [
    "name = 'h2_jw'\n",
    "ham = h2_jw\n",
    "bitstring_HF = '10001000'\n",
    "\n",
    "title = \"Variances for various algorithms on H2 in JW encoding over 8 qubits\"\n",
    "\n",
    "%time β_diag = ham.pauli_rep.local_dists_optimal('diagonal')\n",
    "%time β_mix = ham.pauli_rep.local_dists_optimal('mixed', bitstring_HF)\n",
    "beta_optimal_ALL[name] = {'diagonal': β_diag, 'mixed': β_mix}\n",
    "\n",
    "%time variances_ALL[name] = variances_dict(ham, β_diag=β_diag, β_mix=β_mix)\n",
    "\n",
    "print(\"=====\")\n",
    "print(title)\n",
    "print(\"=====\")\n",
    "variances_ALL[name]"
   ]
  },
  {
   "cell_type": "code",
   "execution_count": 35,
   "metadata": {},
   "outputs": [
    {
     "data": {
      "image/png": "[encoded data removed]",
      "text/plain": [
       "<Figure size 432x288 with 1 Axes>"
      ]
     },
     "metadata": {
      "needs_background": "light"
     },
     "output_type": "display_data"
    }
   ],
   "source": [
    "variances_graph(variances_ALL[name])"
   ]
  },
  {
   "cell_type": "code",
   "execution_count": 36,
   "metadata": {},
   "outputs": [
    {
     "name": "stderr",
     "output_type": "stream",
     "text": [
      "/opt/anaconda3/envs/qiskit18/lib/python3.8/site-packages/scipy/optimize/_hessian_update_strategy.py:183: UserWarning: delta_grad == 0.0. Check if the approximated function is linear. If the function is linear better results can be obtained by defining the Hessian as zero instead of using quasi-Newton approximations.\n",
      "  warn('delta_grad == 0.0. Check if the approximated '\n"
     ]
    },
    {
     "name": "stdout",
     "output_type": "stream",
     "text": [
      "CPU times: user 7min 5s, sys: 1min 5s, total: 8min 10s\n",
      "Wall time: 1min 12s\n",
      "CPU times: user 25min 43s, sys: 1min 20s, total: 27min 3s\n",
      "Wall time: 17min 45s\n",
      "energy : -83.59943020533822\n",
      "ell 1:  4363.497773126055\n",
      "ldf 1norm:  1041.8235013468723\n",
      "uniform:  2839.039468218958\n",
      "optimal diagonal:  257.54509937277044\n",
      "optimal mixed:  254.14108178948072\n",
      "CPU times: user 21.5 s, sys: 2.39 s, total: 23.8 s\n",
      "Wall time: 2min 31s\n",
      "=====\n",
      "Variances for various algorithms on H2O in JW encoding over 14 qubits\n",
      "=====\n"
     ]
    },
    {
     "data": {
      "text/plain": [
       "{'ell_1': 4363.497773126055,\n",
       " 'ldf_1norm': 1041.8235013468723,\n",
       " 'uniform': 2839.039468218958,\n",
       " 'optimal_diag': 257.54509937277044,\n",
       " 'optimal_mix': 254.14108178948072}"
      ]
     },
     "execution_count": 36,
     "metadata": {},
     "output_type": "execute_result"
    }
   ],
   "source": [
    "name = 'water_jw'\n",
    "ham = water_jw\n",
    "bitstring_HF = '11111001111100'\n",
    "\n",
    "title = \"Variances for various algorithms on H2O in JW encoding over 14 qubits\"\n",
    "\n",
    "%time β_diag = ham.pauli_rep.local_dists_optimal('diagonal')\n",
    "%time β_mix = ham.pauli_rep.local_dists_optimal('mixed', bitstring_HF)\n",
    "beta_optimal_ALL[name] = {'diagonal': β_diag, 'mixed': β_mix}\n",
    "\n",
    "%time variances_ALL[name] = variances_dict(ham, β_diag=β_diag, β_mix=β_mix)\n",
    "\n",
    "print(\"=====\")\n",
    "print(title)\n",
    "print(\"=====\")\n",
    "variances_ALL[name]"
   ]
  },
  {
   "cell_type": "code",
   "execution_count": 37,
   "metadata": {},
   "outputs": [
    {
     "data": {
      "image/png": "[encoded data removed]",
      "text/plain": [
       "<Figure size 432x288 with 1 Axes>"
      ]
     },
     "metadata": {
      "needs_background": "light"
     },
     "output_type": "display_data"
    }
   ],
   "source": [
    "variances_graph(variances_ALL[name])"
   ]
  },
  {
   "cell_type": "code",
   "execution_count": 38,
   "metadata": {},
   "outputs": [
    {
     "name": "stderr",
     "output_type": "stream",
     "text": [
      "/opt/anaconda3/envs/qiskit18/lib/python3.8/site-packages/scipy/optimize/_hessian_update_strategy.py:183: UserWarning: delta_grad == 0.0. Check if the approximated function is linear. If the function is linear better results can be obtained by defining the Hessian as zero instead of using quasi-Newton approximations.\n",
      "  warn('delta_grad == 0.0. Check if the approximated '\n"
     ]
    },
    {
     "name": "stdout",
     "output_type": "stream",
     "text": [
      "CPU times: user 6min 47s, sys: 59.7 s, total: 7min 47s\n",
      "Wall time: 52.4 s\n",
      "energy : -83.59943020533836\n",
      "ell 1:  4363.497773126047\n",
      "ldf 1norm:  1041.8235013468652\n",
      "uniform:  2839.0394682189535\n",
      "optimal diagonal:  257.5450993727626\n",
      "CPU times: user 27.4 s, sys: 3.1 s, total: 30.5 s\n",
      "Wall time: 1min 46s\n",
      "=====\n",
      "Variances for various algorithms on H2O in JW encoding over 14 qubits\n",
      "=====\n"
     ]
    },
    {
     "data": {
      "text/plain": [
       "{'ell_1': 4363.497773126047,\n",
       " 'ldf_1norm': 1041.8235013468652,\n",
       " 'uniform': 2839.0394682189535,\n",
       " 'optimal_diag': 257.5450993727626}"
      ]
     },
     "execution_count": 38,
     "metadata": {},
     "output_type": "execute_result"
    }
   ],
   "source": [
    "name = 'ammonia_jw'\n",
    "ham = water_jw\n",
    "bitstring_HF = '1111100011111000'\n",
    "\n",
    "title = \"Variances for various algorithms on H2O in JW encoding over 14 qubits\"\n",
    "\n",
    "%time β_diag = ham.pauli_rep.local_dists_optimal('diagonal')\n",
    "# rudy needs to help me! this will take too long using my pedestrian approach\n",
    "%time β_mix = ham.pauli_rep.local_dists_optimal('mixed', bitstring_HF)\n",
    "beta_optimal_ALL[name] = {'diagonal': β_diag, 'mixed': β_mix}\n",
    "\n",
    "%time variances_ALL[name] = variances_dict(ham, β_diag=β_diag, β_mix=β_mix)\n",
    "\n",
    "print(\"=====\")\n",
    "print(title)\n",
    "print(\"=====\")\n",
    "variances_ALL[name]"
   ]
  },
  {
   "cell_type": "code",
   "execution_count": 39,
   "metadata": {},
   "outputs": [
    {
     "data": {
      "image/png": "[encoded data removed]",
      "text/plain": [
       "<Figure size 432x288 with 1 Axes>"
      ]
     },
     "metadata": {
      "needs_background": "light"
     },
     "output_type": "display_data"
    }
   ],
   "source": [
    "variances_graph(variances_ALL[name])"
   ]
  },
  {
   "cell_type": "code",
   "execution_count": null,
   "metadata": {},
   "outputs": [],
   "source": []
  }
 ],
 "metadata": {
  "kernelspec": {
   "display_name": "Python 3",
   "language": "python",
   "name": "python3"
  },
  "language_info": {
   "codemirror_mode": {
    "name": "ipython",
    "version": 3
   },
   "file_extension": ".py",
   "mimetype": "text/x-python",
   "name": "python",
   "nbconvert_exporter": "python",
   "pygments_lexer": "ipython3",
   "version": "3.8.2"
  }
 },
 "nbformat": 4,
 "nbformat_minor": 4
}
