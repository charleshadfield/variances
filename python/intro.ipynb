{
 "cells": [
  {
   "cell_type": "code",
   "execution_count": 1,
   "metadata": {},
   "outputs": [],
   "source": [
    "from hamiltonian import HamiltonianSmall, Hamiltonian"
   ]
  },
  {
   "cell_type": "code",
   "execution_count": 2,
   "metadata": {},
   "outputs": [],
   "source": [
    "lih = HamiltonianSmall('LiH', 1.5)\n",
    "beh2 = HamiltonianSmall('BeH2', 1.3)\n",
    "\n",
    "h2_jw = Hamiltonian('H2_6-31G_8qubits', 'jw')\n",
    "h2_parity = Hamiltonian('H2_6-31G_8qubits', 'parity')\n",
    "h2_bk = Hamiltonian('H2_6-31G_8qubits', 'bk')\n",
    "\n",
    "water_jw = Hamiltonian('H2O_STO3g_14qubits', 'jw')\n",
    "water_parity = Hamiltonian('H2O_STO3g_14qubits', 'parity')\n",
    "water_bk = Hamiltonian('H2O_STO3g_14qubits', 'bk')\n",
    "\n",
    "ammonia_jw = Hamiltonian('NH3_STO3g_16qubits', 'jw')\n",
    "ammonia_parity = Hamiltonian('NH3_STO3g_16qubits', 'parity')\n",
    "ammonia_bk = Hamiltonian('NH3_STO3g_16qubits', 'bk')"
   ]
  },
  {
   "cell_type": "code",
   "execution_count": 3,
   "metadata": {},
   "outputs": [
    {
     "name": "stdout",
     "output_type": "stream",
     "text": [
      "CPU times: user 213 ms, sys: 80.1 ms, total: 293 ms\n",
      "Wall time: 109 ms\n",
      "CPU times: user 254 ms, sys: 698 µs, total: 254 ms\n",
      "Wall time: 254 ms\n",
      "CPU times: user 541 ms, sys: 31.2 ms, total: 572 ms\n",
      "Wall time: 414 ms\n",
      "CPU times: user 23.2 s, sys: 2.46 s, total: 25.6 s\n",
      "Wall time: 10.2 s\n",
      "CPU times: user 7min 8s, sys: 2min 1s, total: 9min 10s\n",
      "Wall time: 4min 25s\n"
     ]
    }
   ],
   "source": [
    "%time lih.pauli_rep.ground()\n",
    "%time beh2.pauli_rep.ground()\n",
    "%time h2_jw.pauli_rep.ground()\n",
    "%time water_jw.pauli_rep.ground()\n",
    "%time energy, state = ammonia_jw.pauli_rep.ground()"
   ]
  },
  {
   "cell_type": "code",
   "execution_count": 4,
   "metadata": {},
   "outputs": [
    {
     "name": "stdout",
     "output_type": "stream",
     "text": [
      "energy:  0.8494938395630857\n",
      "CPU times: user 287 ms, sys: 2.38 ms, total: 290 ms\n",
      "Wall time: 288 ms\n",
      "energy_sparse:  0.8494938395630873\n",
      "CPU times: user 21.7 s, sys: 5.23 ms, total: 21.7 s\n",
      "Wall time: 21.7 s\n",
      "energy_kron:  0.8494938395630877\n"
     ]
    }
   ],
   "source": [
    "from sparse import energy as sparseenergy\n",
    "from sparse import energy_kron\n",
    "\n",
    "pr = beh2.pauli_rep\n",
    "energy, state = pr.ground()\n",
    "print(\"energy: \", energy)\n",
    "%time energy_sparse = sparseenergy(pr, state)\n",
    "print(\"energy_sparse: \", energy_sparse)\n",
    "%time energy_kron = energy_kron(pr, state)\n",
    "print(\"energy_kron: \", energy_kron)"
   ]
  },
  {
   "cell_type": "code",
   "execution_count": 5,
   "metadata": {},
   "outputs": [
    {
     "name": "stdout",
     "output_type": "stream",
     "text": [
      "CPU times: user 356 ms, sys: 4.73 ms, total: 361 ms\n",
      "Wall time: 357 ms\n"
     ]
    },
    {
     "data": {
      "text/plain": [
       "22.470145625464703"
      ]
     },
     "execution_count": 5,
     "metadata": {},
     "output_type": "execute_result"
    }
   ],
   "source": [
    "β = pr.local_dists_uniform()\n",
    "%time pr.variance_local(energy, state, β)"
   ]
  },
  {
   "cell_type": "code",
   "execution_count": 6,
   "metadata": {},
   "outputs": [
    {
     "name": "stdout",
     "output_type": "stream",
     "text": [
      "ell_1:  44.84428759596597\n",
      "1_norm:  92.75535492849612\n",
      "2_norm:  84.12338038780376\n",
      "max_norm:  82.42512285439769\n"
     ]
    }
   ],
   "source": [
    "print(\"ell_1: \", pr.variance_ell_1(energy))\n",
    "\n",
    "β = pr.local_dists_pnorm(1)\n",
    "print(\"1_norm: \", pr.variance_local(energy, state, β))\n",
    "\n",
    "β = pr.local_dists_pnorm(2)\n",
    "print(\"2_norm: \", pr.variance_local(energy, state, β))\n",
    "\n",
    "β = pr.local_dists_pnorm('infinity')\n",
    "print(\"max_norm: \", pr.variance_local(energy, state, β))"
   ]
  },
  {
   "cell_type": "markdown",
   "metadata": {},
   "source": [
    "# Variance optimisation (old and wrong, but convex)\n",
    "\n",
    "If we use a uniform/biased pauli/magic bases algorithm to estimate the energy, and we assume that the state is a product-state (or close to a produce-state) then we end up wanting to minimise:\n",
    "$$\n",
    "    \\Var[\\nu]\n",
    "    =\n",
    "    \\sum_{\\Qarrow} \\alpha_\\Qarrow^2 \\prod_{i\\in\\supp(\\Qarrow)} \\beta_{i,Q_i}^{-1}\n",
    "    +\n",
    "    \\sum_{\\Qarrow,\\Rarrow \\in \\{I,Z\\}^{\\otimes n}} \\alpha_\\Qarrow \\alpha_\\Rarrow \\prod_{i} m_i(1-\\delta_{Q_i R_i})\n",
    "    - \\tr(H_0\\rho)^2\n",
    "$$\n",
    "(Above is the chemistry HF situation, where the product-state is in the $Z$-basis, but this statement wouldn't depend on using $Z$-basis uniformly.)\n",
    "\n",
    "We end up wanting to minimise:\n",
    "$$\n",
    "    \\sum_{\\Qarrow} \\alpha_\\Qarrow^2 \\prod_{i\\in\\supp(\\Qarrow)} \\beta_{i,Q_i}^{-1}\n",
    "    \\qquad\n",
    "    \\textrm{subject to}\n",
    "    \\qquad\n",
    "    \\beta_{i,X}+\\beta_{i,Y}+\\beta_{i,Z}=1 \\,\\forall i,\n",
    "    \\qquad\n",
    "    \\beta_{i,P}\\ge 0\n",
    "$$"
   ]
  },
  {
   "cell_type": "code",
   "execution_count": 7,
   "metadata": {},
   "outputs": [
    {
     "name": "stderr",
     "output_type": "stream",
     "text": [
      "/opt/anaconda3/envs/qiskit18/lib/python3.8/site-packages/scipy/optimize/_hessian_update_strategy.py:183: UserWarning: delta_grad == 0.0. Check if the approximated function is linear. If the function is linear better results can be obtained by defining the Hessian as zero instead of using quasi-Newton approximations.\n",
      "  warn('delta_grad == 0.0. Check if the approximated '\n"
     ]
    },
    {
     "name": "stdout",
     "output_type": "stream",
     "text": [
      "16.194135745577075\n"
     ]
    }
   ],
   "source": [
    "β_optimal = pr.local_dists_optimal()\n",
    "print(pr.variance_local(energy, state, β_optimal))"
   ]
  },
  {
   "cell_type": "code",
   "execution_count": 8,
   "metadata": {},
   "outputs": [],
   "source": [
    "def variances_dict(pauli_rep):\n",
    "    pr = pauli_rep\n",
    "    dic = {}\n",
    "    \n",
    "    energy, state = pr.ground()\n",
    "    print(\"energy :\", energy)\n",
    "\n",
    "    # ell_1\n",
    "    var = pr.variance_ell_1(energy)\n",
    "    print(\"ell 1: \", var)\n",
    "    dic['ell_1'] = var\n",
    "    \n",
    "    # uniform\n",
    "    β = pr.local_dists_uniform()\n",
    "    var = pr.variance_local(energy, state, β)\n",
    "    print(\"uniform: \", var)\n",
    "    dic['uniform'] = var\n",
    "    \n",
    "    # optimal\n",
    "    β = pr.local_dists_optimal()\n",
    "    var = pr.variance_local(energy, state, β)\n",
    "    print(\"optimal: \", var)\n",
    "    dic['optimal'] = var\n",
    "    \n",
    "    return dic"
   ]
  },
  {
   "cell_type": "code",
   "execution_count": 9,
   "metadata": {},
   "outputs": [],
   "source": [
    "variances_ALL = {}\n",
    "beta_optimal_ALL = {}"
   ]
  },
  {
   "cell_type": "code",
   "execution_count": 10,
   "metadata": {},
   "outputs": [
    {
     "name": "stdout",
     "output_type": "stream",
     "text": [
      "energy : -0.6791966848293147\n",
      "ell 1:  8.826402522940885\n",
      "uniform:  2.247176209610139\n",
      "optimal:  1.5743727896616169\n",
      "CPU times: user 860 ms, sys: 77.8 ms, total: 937 ms\n",
      "Wall time: 361 ms\n"
     ]
    }
   ],
   "source": [
    "name = 'lih'\n",
    "pr = lih.pauli_rep\n",
    "\n",
    "beta_optimal_ALL[name] = pr.local_dists_optimal()\n",
    "%time variances_ALL[name] = variances_dict(pr)"
   ]
  },
  {
   "cell_type": "code",
   "execution_count": 11,
   "metadata": {},
   "outputs": [
    {
     "name": "stdout",
     "output_type": "stream",
     "text": [
      "energy : 0.8494938395630848\n",
      "ell 1:  44.84428759596597\n",
      "uniform:  22.470145625464596\n",
      "optimal:  16.19413574557702\n",
      "CPU times: user 4.67 s, sys: 394 ms, total: 5.07 s\n",
      "Wall time: 1.82 s\n"
     ]
    }
   ],
   "source": [
    "name = 'beh2'\n",
    "pr = beh2.pauli_rep\n",
    "\n",
    "beta_optimal_ALL[name] = pr.local_dists_optimal()\n",
    "%time variances_ALL[name] = variances_dict(pr)"
   ]
  },
  {
   "cell_type": "code",
   "execution_count": 12,
   "metadata": {},
   "outputs": [
    {
     "name": "stdout",
     "output_type": "stream",
     "text": [
      "energy : -1.8608605555207596\n",
      "ell 1:  119.6790600190591\n",
      "uniform:  51.3998202138761\n",
      "optimal:  17.7420719368114\n",
      "CPU times: user 11 s, sys: 1.03 s, total: 12 s\n",
      "Wall time: 3.37 s\n"
     ]
    }
   ],
   "source": [
    "name = 'h2_jw'\n",
    "pr = h2_jw.pauli_rep\n",
    "\n",
    "beta_optimal_ALL[name] = pr.local_dists_optimal()\n",
    "%time variances_ALL[name] = variances_dict(pr)"
   ]
  },
  {
   "cell_type": "code",
   "execution_count": 13,
   "metadata": {},
   "outputs": [
    {
     "name": "stdout",
     "output_type": "stream",
     "text": [
      "energy : -1.8608605555207574\n",
      "ell 1:  119.6790600190592\n",
      "uniform:  70.76147441962269\n",
      "optimal:  18.924750112035017\n",
      "CPU times: user 35.8 s, sys: 3.56 s, total: 39.3 s\n",
      "Wall time: 8.81 s\n"
     ]
    }
   ],
   "source": [
    "name = 'h2_parity'\n",
    "pr = h2_parity.pauli_rep\n",
    "\n",
    "beta_optimal_ALL[name] = pr.local_dists_optimal()\n",
    "%time variances_ALL[name] = variances_dict(pr)"
   ]
  },
  {
   "cell_type": "code",
   "execution_count": 14,
   "metadata": {},
   "outputs": [
    {
     "name": "stdout",
     "output_type": "stream",
     "text": [
      "energy : -1.86086055552077\n",
      "ell 1:  119.67906001905936\n",
      "uniform:  168.86600324405498\n",
      "optimal:  19.516932420931546\n",
      "CPU times: user 20.9 s, sys: 2.15 s, total: 23.1 s\n",
      "Wall time: 5.45 s\n"
     ]
    }
   ],
   "source": [
    "name = 'h2_bk'\n",
    "pr = h2_bk.pauli_rep\n",
    "\n",
    "beta_optimal_ALL[name] = pr.local_dists_optimal()\n",
    "%time variances_ALL[name] = variances_dict(pr)"
   ]
  },
  {
   "cell_type": "code",
   "execution_count": 15,
   "metadata": {},
   "outputs": [
    {
     "name": "stdout",
     "output_type": "stream",
     "text": [
      "CPU times: user 6min 53s, sys: 1min 1s, total: 7min 54s\n",
      "Wall time: 59.2 s\n"
     ]
    },
    {
     "data": {
      "text/plain": [
       "{0: [0.43257858556565915, 0.43257858722135467, 0.1348428272129862],\n",
       " 1: [0.24098007537433425, 0.2409800708577077, 0.518039853767958],\n",
       " 2: [0.13870541903721406, 0.13870542588015417, 0.7225891550826317],\n",
       " 3: [0.13957872152763764, 0.13957871134125624, 0.7208425671311062],\n",
       " 4: [0.16984472160573807, 0.1698447243114196, 0.6603105540828423],\n",
       " 5: [0.2675208449775755, 0.2675208434379076, 0.464958311584517],\n",
       " 6: [0.11647067744295292, 0.11647067819430176, 0.7670586443627454],\n",
       " 7: [0.43257857708372555, 0.43257860312684154, 0.13484281978943294],\n",
       " 8: [0.24098005034367995, 0.24098008250406633, 0.5180398671522537],\n",
       " 9: [0.13870542248842968, 0.13870542724539398, 0.7225891502661764],\n",
       " 10: [0.13957872657623138, 0.13957872195005588, 0.7208425514737127],\n",
       " 11: [0.16984475333796817, 0.16984473040786618, 0.6603105162541657],\n",
       " 12: [0.2675208758292949, 0.26752084565650264, 0.46495827851420257],\n",
       " 13: [0.11647066971784335, 0.1164706702788042, 0.7670586600033525]}"
      ]
     },
     "execution_count": 15,
     "metadata": {},
     "output_type": "execute_result"
    }
   ],
   "source": [
    "pr = water_jw.pauli_rep\n",
    "%time β = pr.local_dists_optimal()\n",
    "β"
   ]
  },
  {
   "cell_type": "code",
   "execution_count": 16,
   "metadata": {},
   "outputs": [
    {
     "name": "stdout",
     "output_type": "stream",
     "text": [
      "CPU times: user 22.8 s, sys: 2.42 s, total: 25.2 s\n",
      "Wall time: 9.86 s\n"
     ]
    }
   ],
   "source": [
    "%time energy, state = pr.ground()"
   ]
  },
  {
   "cell_type": "code",
   "execution_count": 17,
   "metadata": {},
   "outputs": [
    {
     "name": "stdout",
     "output_type": "stream",
     "text": [
      "CPU times: user 70 µs, sys: 10 µs, total: 80 µs\n",
      "Wall time: 12.9 µs\n",
      "ell 1:  4363.497773126058\n"
     ]
    }
   ],
   "source": [
    "%time var = pr.variance_ell_1(energy)\n",
    "print(\"ell 1: \", var)"
   ]
  },
  {
   "cell_type": "code",
   "execution_count": 18,
   "metadata": {},
   "outputs": [
    {
     "name": "stdout",
     "output_type": "stream",
     "text": [
      "CPU times: user 2min 57s, sys: 1.89 s, total: 2min 59s\n",
      "Wall time: 2min 58s\n",
      "uniform:  2839.0394682188453\n"
     ]
    }
   ],
   "source": [
    "%time var = pr.variance_local(energy, state, pr.local_dists_uniform())\n",
    "print(\"uniform: \", var)"
   ]
  },
  {
   "cell_type": "code",
   "execution_count": 19,
   "metadata": {},
   "outputs": [
    {
     "name": "stdout",
     "output_type": "stream",
     "text": [
      "CPU times: user 2min 58s, sys: 1.72 s, total: 3min\n",
      "Wall time: 3min\n",
      "optimal:  257.5450993726922\n"
     ]
    }
   ],
   "source": [
    "%time var = pr.variance_local(energy, state, β)\n",
    "print(\"optimal: \", var)"
   ]
  },
  {
   "cell_type": "code",
   "execution_count": null,
   "metadata": {},
   "outputs": [],
   "source": []
  }
 ],
 "metadata": {
  "kernelspec": {
   "display_name": "Python 3",
   "language": "python",
   "name": "python3"
  },
  "language_info": {
   "codemirror_mode": {
    "name": "ipython",
    "version": 3
   },
   "file_extension": ".py",
   "mimetype": "text/x-python",
   "name": "python",
   "nbconvert_exporter": "python",
   "pygments_lexer": "ipython3",
   "version": "3.8.2"
  }
 },
 "nbformat": 4,
 "nbformat_minor": 4
}
