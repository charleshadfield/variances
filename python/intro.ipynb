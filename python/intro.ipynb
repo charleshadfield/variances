{
 "cells": [
  {
   "cell_type": "code",
   "execution_count": 13,
   "metadata": {},
   "outputs": [],
   "source": [
    "from hamiltonian import Hamiltonian, HamiltonianH2, HamiltonianW\n",
    "\n",
    "from sparse import ground, energy\n",
    "from variance import variance_local, variance\n",
    "\n",
    "from var_optimise import optimal_beta"
   ]
  },
  {
   "cell_type": "code",
   "execution_count": 2,
   "metadata": {},
   "outputs": [],
   "source": [
    "lih = Hamiltonian('LiH', 1.5)\n",
    "beh2 = Hamiltonian('BeH2', 1.3)\n",
    "\n",
    "h2_jw = HamiltonianH2('jw')\n",
    "h2_parity = HamiltonianH2('parity')\n",
    "h2_bk = HamiltonianH2('bk')\n",
    "\n",
    "water_jw = HamiltonianW('jw')\n",
    "water_parity = HamiltonianW('parity')\n",
    "water_bk = HamiltonianW('bk')"
   ]
  },
  {
   "cell_type": "code",
   "execution_count": null,
   "metadata": {},
   "outputs": [],
   "source": [
    "%time energy, state = ground(lih.pauli_rep)\n",
    "%time energy, state = ground(beh2.pauli_rep)\n",
    "%time energy, state = ground(h2_jw.pauli_rep)\n",
    "%time energy, state = ground(water_jw.pauli_rep)"
   ]
  },
  {
   "cell_type": "code",
   "execution_count": 3,
   "metadata": {},
   "outputs": [
    {
     "name": "stdout",
     "output_type": "stream",
     "text": [
      "energy1:  -3.989368880501249\n",
      "energy2:  -3.9893688805012504\n"
     ]
    }
   ],
   "source": [
    "pr = beh2.pauli_rep\n",
    "energy1, state = ground(pr)\n",
    "print(\"energy1: \", energy1)\n",
    "energy2 = energy(pr, state)\n",
    "print(\"energy2: \", energy2)"
   ]
  },
  {
   "cell_type": "code",
   "execution_count": 5,
   "metadata": {},
   "outputs": [
    {
     "name": "stdout",
     "output_type": "stream",
     "text": [
      "CPU times: user 10.6 s, sys: 28.6 ms, total: 10.6 s\n",
      "Wall time: 10.6 s\n"
     ]
    },
    {
     "data": {
      "text/plain": [
       "18.1798507944044"
      ]
     },
     "execution_count": 5,
     "metadata": {},
     "output_type": "execute_result"
    }
   ],
   "source": [
    "%time variance_local(pr, energy1, state, pr.local_dists_uniform())"
   ]
  },
  {
   "cell_type": "code",
   "execution_count": 14,
   "metadata": {},
   "outputs": [
    {
     "name": "stdout",
     "output_type": "stream",
     "text": [
      "42.28949301890355\n",
      "88.57935992546831\n",
      "80.69169432668951\n",
      "79.62377675669399\n"
     ]
    }
   ],
   "source": [
    "print(variance(pr, energy1, state, 'ell_1'))\n",
    "print(variance_local(pr, energy1, state, pr.local_dists_pnorm(1)))\n",
    "print(variance_local(pr, energy1, state, pr.local_dists_pnorm(2)))\n",
    "print(variance_local(pr, energy1, state, pr.local_dists_pnorm('infinity')))"
   ]
  },
  {
   "cell_type": "markdown",
   "metadata": {},
   "source": [
    "# Variance optimisation\n",
    "\n",
    "If we use a uniform/biased pauli/magic bases algorithm to estimate the energy, and we assume that the state is a product-state (or close to a produce-state) then we end up wanting to minimise:\n",
    "$$\n",
    "    \\Var[\\nu]\n",
    "    =\n",
    "    \\sum_{\\Qarrow} \\alpha_\\Qarrow^2 \\prod_{i\\in\\supp(\\Qarrow)} \\beta_{i,Q_i}^{-1}\n",
    "    +\n",
    "    \\sum_{\\Qarrow,\\Rarrow \\in \\{I,Z\\}^{\\otimes n}} \\alpha_\\Qarrow \\alpha_\\Rarrow \\prod_{i} m_i(1-\\delta_{Q_i R_i})\n",
    "    - \\tr(H_0\\rho)^2\n",
    "$$\n",
    "(Above is the chemistry HF situation, where the product-state is in the $Z$-basis, but this statement wouldn't depend on using $Z$-basis uniformly.)\n",
    "\n",
    "We end up wanting to minimise:\n",
    "$$\n",
    "    \\sum_{\\Qarrow} \\alpha_\\Qarrow^2 \\prod_{i\\in\\supp(\\Qarrow)} \\beta_{i,Q_i}^{-1}\n",
    "    \\qquad\n",
    "    \\textrm{subject to}\n",
    "    \\qquad\n",
    "    \\beta_{i,X}+\\beta_{i,Y}+\\beta_{i,Z}=1 \\,\\forall i,\n",
    "    \\qquad\n",
    "    \\beta_{i,P}\\ge 0\n",
    "$$"
   ]
  },
  {
   "cell_type": "code",
   "execution_count": 16,
   "metadata": {},
   "outputs": [
    {
     "name": "stdout",
     "output_type": "stream",
     "text": [
      "13.845088491932884\n"
     ]
    }
   ],
   "source": [
    "β_optimal = optimal_beta(pr)\n",
    "print(variance_local(pr, energy1, state, β_optimal))"
   ]
  },
  {
   "cell_type": "code",
   "execution_count": 21,
   "metadata": {},
   "outputs": [],
   "source": [
    "def var_dic_and_opt_beta(pauli_rep):\n",
    "    pr = pauli_rep\n",
    "    dic = {}\n",
    "    \n",
    "    energy1, state = ground(pr)\n",
    "    print(\"energy :\", energy1)\n",
    "\n",
    "    # ell_1\n",
    "    var = variance(pr, energy1, state, 'ell_1')\n",
    "    print(\"ell 1: \", var)\n",
    "    dic['ell_1'] = var\n",
    "    \n",
    "    # uniform\n",
    "    var = variance_local(pr, energy1, state, pr.local_dists_uniform())\n",
    "    print(\"uniform: \", var)\n",
    "    dic['uniform'] = var\n",
    "    \n",
    "    # optimal\n",
    "    β_optimal = optimal_beta(pr)\n",
    "    var = variance_local(pr, energy1, state, β_optimal)\n",
    "    print(\"optimal: \", var)\n",
    "    dic['optimal'] = var\n",
    "    \n",
    "    return dic, β_optimal"
   ]
  },
  {
   "cell_type": "code",
   "execution_count": 27,
   "metadata": {},
   "outputs": [
    {
     "name": "stdout",
     "output_type": "stream",
     "text": [
      "energy : -1.1014068450598966\n",
      "ell 1:  8.798891105500473\n",
      "uniform:  2.230730161038924\n",
      "optimal:  1.576299391494918\n"
     ]
    }
   ],
   "source": [
    "pr = lih.pauli_rep\n",
    "lih_dic, lih_beta = var_dic_and_opt_beta(pr)"
   ]
  },
  {
   "cell_type": "code",
   "execution_count": 30,
   "metadata": {},
   "outputs": [
    {
     "name": "stdout",
     "output_type": "stream",
     "text": [
      "energy : -3.989368880501248\n",
      "ell 1:  42.28949301890355\n",
      "uniform:  18.179850794404405\n",
      "optimal:  13.845088491932845\n"
     ]
    }
   ],
   "source": [
    "pr = beh2.pauli_rep\n",
    "beh2_dic, beh2_beta = var_dic_and_opt_beta(pr)"
   ]
  },
  {
   "cell_type": "code",
   "execution_count": 32,
   "metadata": {},
   "outputs": [
    {
     "name": "stdout",
     "output_type": "stream",
     "text": [
      "energy : -1.8608605555207645\n",
      "ell 1:  119.67906001905907\n",
      "uniform:  51.399820213876076\n",
      "optimal:  17.74207193681142\n"
     ]
    }
   ],
   "source": [
    "pr = h2_jw.pauli_rep\n",
    "h2_jw_dic, h2_jw_beta = var_dic_and_opt_beta(pr)"
   ]
  },
  {
   "cell_type": "code",
   "execution_count": null,
   "metadata": {},
   "outputs": [],
   "source": [
    "pr = h2_parity.pauli_rep\n",
    "h2_parity_dic, h2_parity_beta = var_dic_and_opt_beta(pr)"
   ]
  },
  {
   "cell_type": "code",
   "execution_count": 38,
   "metadata": {},
   "outputs": [
    {
     "name": "stdout",
     "output_type": "stream",
     "text": [
      "energy : -1.8608605555207596\n",
      "ell 1:  119.67906001905943\n",
      "uniform:  168.86600324405455\n",
      "optimal:  19.516932420931536\n"
     ]
    }
   ],
   "source": [
    "pr = h2_bk.pauli_rep\n",
    "h2_bk_dic, h2_bk_beta = var_dic_and_opt_beta(pr)"
   ]
  },
  {
   "cell_type": "code",
   "execution_count": null,
   "metadata": {},
   "outputs": [],
   "source": []
  },
  {
   "cell_type": "code",
   "execution_count": 41,
   "metadata": {},
   "outputs": [],
   "source": [
    "pr = water_jw.pauli_rep"
   ]
  },
  {
   "cell_type": "code",
   "execution_count": 42,
   "metadata": {},
   "outputs": [
    {
     "name": "stderr",
     "output_type": "stream",
     "text": [
      "/opt/anaconda3/envs/qiskit18/lib/python3.8/site-packages/scipy/optimize/_hessian_update_strategy.py:183: UserWarning: delta_grad == 0.0. Check if the approximated function is linear. If the function is linear better results can be obtained by defining the Hessian as zero instead of using quasi-Newton approximations.\n",
      "  warn('delta_grad == 0.0. Check if the approximated '\n"
     ]
    }
   ],
   "source": [
    "β = optimal_beta(pr)"
   ]
  },
  {
   "cell_type": "code",
   "execution_count": 43,
   "metadata": {},
   "outputs": [
    {
     "data": {
      "text/plain": [
       "{0: [0.43257858556565915, 0.43257858722135467, 0.1348428272129862],\n",
       " 1: [0.24098007537433425, 0.2409800708577077, 0.518039853767958],\n",
       " 2: [0.13870541903721406, 0.13870542588015417, 0.7225891550826317],\n",
       " 3: [0.13957872152763764, 0.13957871134125624, 0.7208425671311062],\n",
       " 4: [0.16984472160573807, 0.1698447243114196, 0.6603105540828423],\n",
       " 5: [0.2675208449775755, 0.2675208434379076, 0.464958311584517],\n",
       " 6: [0.11647067744295292, 0.11647067819430176, 0.7670586443627454],\n",
       " 7: [0.43257857708372555, 0.43257860312684154, 0.13484281978943294],\n",
       " 8: [0.24098005034367995, 0.24098008250406633, 0.5180398671522537],\n",
       " 9: [0.13870542248842968, 0.13870542724539398, 0.7225891502661764],\n",
       " 10: [0.13957872657623138, 0.13957872195005588, 0.7208425514737127],\n",
       " 11: [0.16984475333796817, 0.16984473040786618, 0.6603105162541657],\n",
       " 12: [0.2675208758292949, 0.26752084565650264, 0.46495827851420257],\n",
       " 13: [0.11647066971784335, 0.1164706702788042, 0.7670586600033525]}"
      ]
     },
     "execution_count": 43,
     "metadata": {},
     "output_type": "execute_result"
    }
   ],
   "source": [
    "β"
   ]
  },
  {
   "cell_type": "code",
   "execution_count": 44,
   "metadata": {},
   "outputs": [
    {
     "data": {
      "text/plain": [
       "{0: [0.2670624598738536, 0.2670624598738536, 0.4658750802522929],\n",
       " 1: [0.2183174172606949, 0.2183174172606949, 0.5633651654786103],\n",
       " 2: [0.03083301822077977, 0.03083301822077977, 0.9383339635584405],\n",
       " 3: [0.14333043314617216, 0.14333043314617216, 0.7133391337076557],\n",
       " 4: [0.16199346438598008, 0.16199346438598008, 0.6760130712280399],\n",
       " 5: [0.22801250514720012, 0.22801250514720012, 0.5439749897055998],\n",
       " 6: [0.04542591659480066, 0.04542591659480066, 0.9091481668103987],\n",
       " 7: [0.2670624598738535, 0.2670624598738535, 0.46587508025229296],\n",
       " 8: [0.21831741726069484, 0.21831741726069484, 0.5633651654786103],\n",
       " 9: [0.03083301822077977, 0.03083301822077977, 0.9383339635584405],\n",
       " 10: [0.1433304331461722, 0.1433304331461722, 0.7133391337076557],\n",
       " 11: [0.16199346438598014, 0.16199346438598014, 0.6760130712280398],\n",
       " 12: [0.22801250514720015, 0.22801250514720015, 0.5439749897055998],\n",
       " 13: [0.04542591659480068, 0.04542591659480068, 0.9091481668103987]}"
      ]
     },
     "execution_count": 44,
     "metadata": {},
     "output_type": "execute_result"
    }
   ],
   "source": [
    "pr.local_dists_pnorm(1)"
   ]
  },
  {
   "cell_type": "code",
   "execution_count": 45,
   "metadata": {},
   "outputs": [],
   "source": [
    "energy1, state = ground(pr)"
   ]
  },
  {
   "cell_type": "code",
   "execution_count": 46,
   "metadata": {},
   "outputs": [
    {
     "name": "stdout",
     "output_type": "stream",
     "text": [
      "uniform:  2839.039468218853\n"
     ]
    }
   ],
   "source": [
    "var = variance_local(pr, energy1, state, pr.local_dists_uniform())\n",
    "print(\"uniform: \", var)"
   ]
  },
  {
   "cell_type": "code",
   "execution_count": 47,
   "metadata": {},
   "outputs": [
    {
     "data": {
      "text/plain": [
       "4363.497773126066"
      ]
     },
     "execution_count": 47,
     "metadata": {},
     "output_type": "execute_result"
    }
   ],
   "source": [
    "variance(pr, energy1, state, 'ell_1')"
   ]
  },
  {
   "cell_type": "code",
   "execution_count": 48,
   "metadata": {},
   "outputs": [
    {
     "name": "stdout",
     "output_type": "stream",
     "text": [
      "optimal:  257.5450993727012\n"
     ]
    }
   ],
   "source": [
    "var2 = variance_local(pr, energy1, state, β)\n",
    "print(\"optimal: \", var2)"
   ]
  },
  {
   "cell_type": "code",
   "execution_count": null,
   "metadata": {},
   "outputs": [],
   "source": []
  }
 ],
 "metadata": {
  "kernelspec": {
   "display_name": "Python 3",
   "language": "python",
   "name": "python3"
  },
  "language_info": {
   "codemirror_mode": {
    "name": "ipython",
    "version": 3
   },
   "file_extension": ".py",
   "mimetype": "text/x-python",
   "name": "python",
   "nbconvert_exporter": "python",
   "pygments_lexer": "ipython3",
   "version": "3.8.2"
  }
 },
 "nbformat": 4,
 "nbformat_minor": 4
}
