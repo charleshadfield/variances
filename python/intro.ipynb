{
 "cells": [
  {
   "cell_type": "code",
   "execution_count": 1,
   "metadata": {},
   "outputs": [],
   "source": [
    "from hamiltonian import HamiltonianSmall, Hamiltonian"
   ]
  },
  {
   "cell_type": "code",
   "execution_count": 2,
   "metadata": {},
   "outputs": [],
   "source": [
    "lih_small = HamiltonianSmall('LiH', 1.5) # this encoding uses reduction techniques\n",
    "beh2_small = HamiltonianSmall('BeH2', 1.3) # this encoding uses reduction techniques\n",
    "\n",
    "# 4 qubits\n",
    "h2_jw_4 = Hamiltonian('H2_STO3g_4qubits', 'jw')\n",
    "h2_parity_4 = Hamiltonian('H2_STO3g_4qubits', 'parity')\n",
    "h2_bk_4 = Hamiltonian('H2_STO3g_4qubits', 'bk')\n",
    "\n",
    "# 8 qubits\n",
    "h2_jw = Hamiltonian('H2_6-31G_8qubits', 'jw')\n",
    "h2_parity = Hamiltonian('H2_6-31G_8qubits', 'parity')\n",
    "h2_bk = Hamiltonian('H2_6-31G_8qubits', 'bk')\n",
    "\n",
    "# 12 qubits\n",
    "lih_jw = Hamiltonian('LiH_STO3g_12qubits', 'jw')\n",
    "lih_parity = Hamiltonian('LiH_STO3g_12qubits', 'parity')\n",
    "lih_bk = Hamiltonian('LiH_STO3g_12qubits', 'bk')\n",
    "\n",
    "# 14 qubits\n",
    "h2o_jw = Hamiltonian('H2O_STO3g_14qubits', 'jw')\n",
    "h2o_parity = Hamiltonian('H2O_STO3g_14qubits', 'parity')\n",
    "h2o_bk = Hamiltonian('H2O_STO3g_14qubits', 'bk')\n",
    "\n",
    "beh2_jw = Hamiltonian('BeH2_STO3g_14qubits', 'jw')\n",
    "beh2_parity = Hamiltonian('BeH2_STO3g_14qubits', 'parity')\n",
    "beh2_bk = Hamiltonian('BeH2_STO3g_14qubits', 'bk')\n",
    "\n",
    "# 16 qubits\n",
    "nh3_jw = Hamiltonian('NH3_STO3g_16qubits', 'jw')\n",
    "nh3_parity = Hamiltonian('NH3_STO3g_16qubits', 'parity')\n",
    "nh3_bk = Hamiltonian('NH3_STO3g_16qubits', 'bk')\n",
    "\n",
    "# 20 qubits\n",
    "c2_jw = Hamiltonian('C2_STO3g_20qubits', 'jw')\n",
    "c2_parity = Hamiltonian('C2_STO3g_20qubits', 'parity')\n",
    "c2_bk = Hamiltonian('C2_STO3g_20qubits', 'bk')"
   ]
  },
  {
   "cell_type": "code",
   "execution_count": 3,
   "metadata": {},
   "outputs": [],
   "source": [
    "hamiltonians = {\"lih_small\": lih_small,\n",
    "                \"beh2_small\": beh2_small,\n",
    "                \"h2_jw_4\": h2_jw_4,\n",
    "                \"h2_parity_4\": h2_parity_4,\n",
    "                \"h2_bk_4\": h2_bk_4,\n",
    "                \"h2_jw\": h2_jw,\n",
    "                \"h2_parity\": h2_parity,\n",
    "                \"h2_bk\": h2_bk}"
   ]
  },
  {
   "cell_type": "code",
   "execution_count": 4,
   "metadata": {},
   "outputs": [
    {
     "name": "stdout",
     "output_type": "stream",
     "text": [
      "CPU times: user 20.6 ms, sys: 2.59 ms, total: 23.2 ms\n",
      "Wall time: 21 ms\n",
      "CPU times: user 505 ms, sys: 25.9 ms, total: 531 ms\n",
      "Wall time: 419 ms\n",
      "CPU times: user 4.58 s, sys: 401 ms, total: 4.98 s\n",
      "Wall time: 2.76 s\n",
      "CPU times: user 22 s, sys: 2.56 s, total: 24.5 s\n",
      "Wall time: 10.2 s\n"
     ]
    }
   ],
   "source": [
    "%time h2_jw_4.pauli_rep.ground()\n",
    "%time h2_jw.pauli_rep.ground()\n",
    "%time lih_jw.pauli_rep.ground()\n",
    "%time energy, state = h2o_jw.pauli_rep.ground()\n",
    "# %time energy, state = nh3_jw.pauli_rep.ground() # takes about 4 minutes"
   ]
  },
  {
   "cell_type": "code",
   "execution_count": 5,
   "metadata": {},
   "outputs": [
    {
     "name": "stdout",
     "output_type": "stream",
     "text": [
      "CPU times: user 49.1 ms, sys: 49.1 ms, total: 98.1 ms\n",
      "Wall time: 340 ms\n",
      "CPU times: user 178 ms, sys: 90 ms, total: 268 ms\n",
      "Wall time: 504 ms\n",
      "CPU times: user 1.37 s, sys: 319 ms, total: 1.69 s\n",
      "Wall time: 1.02 s\n",
      "CPU times: user 22.2 s, sys: 3.03 s, total: 25.2 s\n",
      "Wall time: 4.63 s\n"
     ]
    }
   ],
   "source": [
    "%time h2_jw_4.pauli_rep.ground(multithread=True)\n",
    "%time h2_jw.pauli_rep.ground(multithread=True)\n",
    "%time lih_jw.pauli_rep.ground(multithread=True)\n",
    "%time energy, state = h2o_jw.pauli_rep.ground(multithread=True)\n",
    "# %time energy, state = ammonia_jw.pauli_rep.ground(multithread=True) # takes about 1 minute"
   ]
  },
  {
   "cell_type": "markdown",
   "metadata": {},
   "source": [
    "# Variance formula\n",
    "\n",
    "\\begin{align}\n",
    "    \\Var[\\nu] \n",
    "    &=\n",
    "    \\sum_{\\Qarrow,\\Rarrow}\n",
    "        f_\\beta(\\Qarrow,\\Rarrow)\n",
    "        \\alpha_\\Qarrow \\alpha_\\Rarrow\n",
    "        \\tr(\\rho\\Qarrow\\Rarrow)\n",
    "    - \\tr(\\rho H_0 )^2\n",
    "\\end{align}"
   ]
  },
  {
   "cell_type": "code",
   "execution_count": 6,
   "metadata": {},
   "outputs": [
    {
     "name": "stdout",
     "output_type": "stream",
     "text": [
      "CPU times: user 23.3 ms, sys: 3.1 ms, total: 26.4 ms\n",
      "Wall time: 3.31 ms\n"
     ]
    },
    {
     "data": {
      "text/plain": [
       "1.9710775636478903"
      ]
     },
     "execution_count": 6,
     "metadata": {},
     "output_type": "execute_result"
    }
   ],
   "source": [
    "ham = h2_jw_4\n",
    "energy, state = ham.pauli_rep.ground()\n",
    "β = ham.pauli_rep.local_dists_uniform()\n",
    "%time ham.pauli_rep.variance_local(energy, state, β)"
   ]
  },
  {
   "cell_type": "code",
   "execution_count": 7,
   "metadata": {},
   "outputs": [
    {
     "name": "stdout",
     "output_type": "stream",
     "text": [
      "ell_1:  2.493466775932121\n"
     ]
    }
   ],
   "source": [
    "print(\"ell_1: \", ham.pauli_rep.variance_ell_1(energy))"
   ]
  },
  {
   "cell_type": "code",
   "execution_count": 8,
   "metadata": {},
   "outputs": [
    {
     "name": "stdout",
     "output_type": "stream",
     "text": [
      "1_norm:  60.38753187541104\n",
      "2_norm:  22.36573743732807\n",
      "max_norm:  13.643445555482327\n"
     ]
    }
   ],
   "source": [
    "# this code is from an old idea, which ultimately did not work well.\n",
    "\n",
    "β = ham.pauli_rep.local_dists_pnorm(1)\n",
    "print(\"1_norm: \", ham.pauli_rep.variance_local(energy, state, β))\n",
    "\n",
    "β = ham.pauli_rep.local_dists_pnorm(2)\n",
    "print(\"2_norm: \", ham.pauli_rep.variance_local(energy, state, β))\n",
    "\n",
    "β = ham.pauli_rep.local_dists_pnorm('infinity')\n",
    "print(\"max_norm: \", ham.pauli_rep.variance_local(energy, state, β))"
   ]
  },
  {
   "cell_type": "markdown",
   "metadata": {},
   "source": [
    "# Variance optimisation (method=diagonal)\n",
    "\n",
    "This is not the correct optimisation. However it\n",
    "- gives good results;\n",
    "- is quicker than the full optimisation problem;\n",
    "- is convex (so local minimums are global);\n",
    "- does not need access to the Hartree-Fock bitstring for the encoding.\n",
    "\n",
    "Diagonal minimisation asks us to find $\\{\\beta_{i,P}\\}$ in order to minimise:\n",
    "$$\n",
    "    \\sum_{\\Qarrow} \\alpha_\\Qarrow^2 \\prod_{i\\in\\supp(\\Qarrow)} \\beta_{i,Q_i}^{-1}\n",
    "    \\qquad\n",
    "    \\textrm{subject to}\n",
    "    \\qquad\n",
    "    \\beta_{i,X}+\\beta_{i,Y}+\\beta_{i,Z}=1 \\,\\forall i,\n",
    "    \\qquad\n",
    "    \\beta_{i,P}\\ge 0\n",
    "$$\n",
    "\n",
    "And we have an implementation using Lagrange multipliers"
   ]
  },
  {
   "cell_type": "code",
   "execution_count": 9,
   "metadata": {},
   "outputs": [
    {
     "name": "stdout",
     "output_type": "stream",
     "text": [
      "1.8555808969284264\n"
     ]
    }
   ],
   "source": [
    "β = ham.pauli_rep.local_dists_optimal('diagonal', 'scipy')\n",
    "print(ham.pauli_rep.variance_local(energy, state, β))"
   ]
  },
  {
   "cell_type": "code",
   "execution_count": 10,
   "metadata": {},
   "outputs": [
    {
     "name": "stdout",
     "output_type": "stream",
     "text": [
      "1.855583049884943\n"
     ]
    }
   ],
   "source": [
    "β = ham.pauli_rep.local_dists_optimal('diagonal', 'lagrange')\n",
    "print(ham.pauli_rep.variance_local(energy, state, β))"
   ]
  },
  {
   "cell_type": "code",
   "execution_count": 11,
   "metadata": {},
   "outputs": [
    {
     "name": "stdout",
     "output_type": "stream",
     "text": [
      "CPU times: user 1min 10s, sys: 8.78 s, total: 1min 19s\n",
      "Wall time: 13.3 s\n",
      "CPU times: user 1.65 s, sys: 92.9 ms, total: 1.74 s\n",
      "Wall time: 1.17 s\n",
      "discrepancy between variances:  4.9317204574350626e-05\n"
     ]
    }
   ],
   "source": [
    "# time comparison lih_jw has 12 qubits\n",
    "\n",
    "ham = lih_jw\n",
    "%time β_scipy = ham.pauli_rep.local_dists_optimal('diagonal', 'scipy')\n",
    "%time β_lagrange = ham.pauli_rep.local_dists_optimal('diagonal', 'lagrange')\n",
    "\n",
    "energy, state = ham.pauli_rep.ground(multithread=True)\n",
    "%time var_scipy = ham.pauli_rep.variance_local(energy, state, β_scipy)\n",
    "%time var_lagrange = ham.pauli_rep.variance_local(energy, state, β_lagrange)\n",
    "\n",
    "discrepancy = abs(var_scipy - var_lagrange)\n",
    "print(\"discrepancy between variances: \", discrepancy)"
   ]
  },
  {
   "cell_type": "markdown",
   "metadata": {},
   "source": [
    "# Variance optimisation (method=mixed)\n",
    "\n",
    "This is the full optimisation problem. It requires access to the Hartree-Fock bitstring $m$ or `bitstring_HF` so that the HF state reads\n",
    "$\\frac1{2^n}\\otimes_{i=1}^n (I+m_i Z)$\n",
    "\n",
    "In the JW encoding these are:\n",
    "- H2 = `1010` (on four qubits)\n",
    "- H2 = `10001000`\n",
    "- LiH = `100000100000`\n",
    "- H2O = `11111001111100`\n",
    "- BeH2 = `11100001110000`\n",
    "- NH3 = `1111100011111000`\n",
    "You can retrieve them by calling `Hamiltonian.read_bitstring_HF()`\n",
    "\n",
    "Consider the set of influential pairs:\n",
    "\\begin{align}\n",
    "    \\mathcal{I}_\\mathrm{comp}\n",
    "    =\n",
    "    \\left\\{\\left.\n",
    "        (\\Qarrow,\\Rarrow)\n",
    "        \\,\\right|\\,\n",
    "        \\textrm{for all $i$, either $Q_i=R_i$, or $\\{Q_i,R_i\\}=\\{I,Z\\}$}\n",
    "    \\right\\}\n",
    "\\end{align}\n",
    "\n",
    "Then the cost function to optimise will be:\n",
    "\\begin{align}\n",
    "    \\mathrm{cost}(\\{\\beta_i\\}_{i=1}^n)\n",
    "    =\n",
    "    \\sum_{\\Qarrow,\\Rarrow\\in\\mathcal{I}_\\mathrm{comp}}\n",
    "        \\alpha_\\Qarrow\n",
    "        \\alpha_\\Rarrow\n",
    "        \\prod_{i | Q_i=R_i\\neq I}\n",
    "            \\beta_{i,Q_i}^{-1}\n",
    "        \\prod_{i | Q_i\\neq R_i}\n",
    "            m_i\n",
    "\\end{align}\n",
    "\n",
    "Warning, the small Hamiltonians don't follow the pattern because they use other reduction techniques"
   ]
  },
  {
   "cell_type": "code",
   "execution_count": 31,
   "metadata": {},
   "outputs": [
    {
     "name": "stdout",
     "output_type": "stream",
     "text": [
      "CPU times: user 5min 41s, sys: 14.3 s, total: 5min 55s\n",
      "Wall time: 4min 1s\n",
      "CPU times: user 7.3 s, sys: 77.5 ms, total: 7.38 s\n",
      "Wall time: 6.8 s\n",
      "CPU times: user 21.9 s, sys: 527 ms, total: 22.4 s\n",
      "Wall time: 21.6 s\n",
      "CPU times: user 21 s, sys: 430 ms, total: 21.4 s\n",
      "Wall time: 21.5 s\n",
      "discrepancy between variances:  0.00016222318137693037\n"
     ]
    }
   ],
   "source": [
    "# time comparison lih_jw has 12 qubits\n",
    "\n",
    "ham = lih_jw\n",
    "bitstring_HF = ham.read_bitstring_HF()\n",
    "\n",
    "%time β_scipy = ham.pauli_rep.local_dists_optimal('mixed', 'scipy', bitstring_HF=bitstring_HF)\n",
    "%time β_lagrange = ham.pauli_rep.local_dists_optimal('mixed', 'lagrange', bitstring_HF=bitstring_HF)\n",
    "\n",
    "energy, state = ham.pauli_rep.ground(multithread=True)\n",
    "%time var_scipy = ham.pauli_rep.variance_local(energy, state, β_scipy)\n",
    "%time var_lagrange = ham.pauli_rep.variance_local(energy, state, β_lagrange)\n",
    "\n",
    "discrepancy = abs(var_scipy - var_lagrange)\n",
    "print(\"discrepancy between variances: \", discrepancy)"
   ]
  },
  {
   "cell_type": "markdown",
   "metadata": {},
   "source": [
    "# Variance after LDF grouping\n",
    "\n",
    "We should use 1-norm sampling for $\\kappa$\n",
    "\n",
    "\\begin{align}\n",
    "    \\Var[\\nu] \n",
    "    = \n",
    "    \\left(\n",
    "    \\sum_{k=1}^{n_c}\n",
    "        \\frac1{\\kappa_k} \n",
    "        \\sum_{\\Qarrow,\\Rarrow\\in C^{(k)}}\n",
    "            \\alpha_\\Qarrow\\alpha_\\Rarrow\n",
    "            \\prod_{i\\in\\supp(\\Qarrow\\Rarrow)} \\langle \\Qarrow\\Rarrow \\rangle\n",
    "    \\right)\n",
    "    - \\langle H_0 \\rangle^2\n",
    "\\end{align}"
   ]
  },
  {
   "cell_type": "code",
   "execution_count": 27,
   "metadata": {},
   "outputs": [],
   "source": [
    "from var import variance_ldf, kappa_1norm #kappa_uniform"
   ]
  },
  {
   "cell_type": "code",
   "execution_count": 29,
   "metadata": {},
   "outputs": [
    {
     "data": {
      "text/plain": [
       "22.25947792299107"
      ]
     },
     "execution_count": 29,
     "metadata": {},
     "output_type": "execute_result"
    }
   ],
   "source": [
    "ham = h2_jw\n",
    "energy, state = ham.pauli_rep.ground(multithread=True)\n",
    "\n",
    "ldf = ham.ldf()\n",
    "kappa = kappa_1norm(ldf)\n",
    "energy_tf = ham.pauli_rep.energy_tf(energy)\n",
    "variance_ldf(ldf, state, kappa, energy_tf)"
   ]
  },
  {
   "cell_type": "markdown",
   "metadata": {},
   "source": [
    "# Benchmarking"
   ]
  },
  {
   "cell_type": "code",
   "execution_count": 15,
   "metadata": {},
   "outputs": [],
   "source": [
    "def variances_dict(ham, β_diag=None, β_mix=None):\n",
    "    pr = ham.pauli_rep\n",
    "    dic = {}\n",
    "    \n",
    "    energy, state = pr.ground(multithread=True)\n",
    "    print(\"energy :\", energy)\n",
    "\n",
    "    # ell_1\n",
    "    var = pr.variance_ell_1(energy)\n",
    "    print(\"ell 1: \", var)\n",
    "    dic['ell_1'] = var\n",
    "    \n",
    "    # LDF with 1-norm sampling\n",
    "    ldf = ham.ldf()\n",
    "    kappa = kappa_1norm(ldf)\n",
    "    energy_tf = pr.energy_tf(energy)\n",
    "    var = variance_ldf(ldf, state, kappa, energy_tf)\n",
    "    print(\"ldf 1norm: \", var)\n",
    "    dic['ldf_1norm'] = var\n",
    "    \n",
    "    # uniform\n",
    "    β_uniform = pr.local_dists_uniform()\n",
    "    var = pr.variance_local(energy, state, β_uniform, multithread=True)\n",
    "    print(\"uniform: \", var)\n",
    "    dic['uniform'] = var\n",
    "    \n",
    "    # optimal (diagonal)\n",
    "    if β_diag is not None:\n",
    "        var = pr.variance_local(energy, state, β_diag, multithread=True)\n",
    "        print(\"optimal diagonal: \", var)\n",
    "        dic['optimal_diag'] = var\n",
    " \n",
    "    # optimal (mixed)\n",
    "    if β_mix is not None:\n",
    "        var = pr.variance_local(energy, state, β_mix, multithread=True)\n",
    "        print(\"optimal mixed: \", var)\n",
    "        dic['optimal_mix'] = var\n",
    "    \n",
    "    return dic\n",
    "\n",
    "from matplotlib import pyplot as plt\n",
    "\n",
    "def variances_graph(variances):\n",
    "    num_variances = len(variances)\n",
    "    x = range(num_variances)\n",
    "    height = list(variances.values())\n",
    "\n",
    "    plt.bar(x, height)\n",
    "    plt.xticks(x, list(variances.keys()), rotation=20)\n",
    "    plt.title(title)\n",
    "\n",
    "    plt.show()"
   ]
  },
  {
   "cell_type": "code",
   "execution_count": 16,
   "metadata": {},
   "outputs": [],
   "source": [
    "variances_ALL = {}\n",
    "beta_optimal_ALL = {}"
   ]
  },
  {
   "cell_type": "code",
   "execution_count": 17,
   "metadata": {},
   "outputs": [],
   "source": [
    "import time"
   ]
  },
  {
   "cell_type": "code",
   "execution_count": 19,
   "metadata": {},
   "outputs": [],
   "source": [
    "def benchmarking(name, ham, title):\n",
    "    bitstring_HF = ham.read_bitstring_HF()\n",
    "    \n",
    "    t0 = time.time()\n",
    "    β_diag = ham.pauli_rep.local_dists_optimal('diagonal', 'lagrange')\n",
    "    t1 = time.time()\n",
    "    print(\"β_diag found. Time taken: {} seconds\".format(t1-t0))\n",
    "    β_mix = ham.pauli_rep.local_dists_optimal('diagonal', 'lagrange', β_initial=β_diag, bitstring_HF=bitstring_HF)\n",
    "    t2 = time.time()\n",
    "    print(\"β_mix found.  Time taken: {} seconds\".format(t2-t1))\n",
    "    beta_optimal_ALL[name] = {'diagonal': β_diag, 'mixed': β_mix}\n",
    "    \n",
    "    variances_ALL[name] = variances_dict(ham, β_diag=β_diag, β_mix=β_mix)\n",
    "    t3 = time.time()\n",
    "    print(\"Variances calculated.  Time taken: {} seconds\".format(t3-t2))\n",
    "    \n",
    "    print(\"=====\")\n",
    "    print(title)\n",
    "    print(\"=====\")\n",
    "    print(variances_ALL[name])\n",
    "    print(\"=====\")\n",
    "    \n",
    "    variances_graph(variances_ALL[name])  "
   ]
  },
  {
   "cell_type": "code",
   "execution_count": 32,
   "metadata": {},
   "outputs": [
    {
     "name": "stdout",
     "output_type": "stream",
     "text": [
      "β_diag found. Time taken: 0.011924028396606445 seconds\n",
      "β_mix found.  Time taken: 0.0006928443908691406 seconds\n",
      "energy : -1.8572750302023824\n",
      "ell 1:  2.493466775932119\n",
      "ldf 1norm:  0.4018197080691297\n",
      "uniform:  1.97107756364789\n",
      "optimal diagonal:  1.8555830498849433\n",
      "optimal mixed:  1.8555827209682574\n",
      "Variances calculated.  Time taken: 1.534156084060669 seconds\n",
      "=====\n",
      "Variances for various algorithms on H2 in JW encoding over 4 qubits\n",
      "=====\n",
      "{'ell_1': 2.493466775932119, 'ldf_1norm': 0.4018197080691297, 'uniform': 1.97107756364789, 'optimal_diag': 1.8555830498849433, 'optimal_mix': 1.8555827209682574}\n",
      "=====\n"
     ]
    },
    {
     "data": {
      "image/png": "[encoded data removed]",
      "text/plain": [
       "<Figure size 432x288 with 1 Axes>"
      ]
     },
     "metadata": {
      "needs_background": "light"
     },
     "output_type": "display_data"
    }
   ],
   "source": [
    "name = 'h2_jw_4'\n",
    "ham = h2_jw_4\n",
    "title = \"Variances for various algorithms on H2 in JW encoding over 4 qubits\"\n",
    "\n",
    "benchmarking(name, ham, title)"
   ]
  },
  {
   "cell_type": "code",
   "execution_count": 33,
   "metadata": {},
   "outputs": [
    {
     "name": "stdout",
     "output_type": "stream",
     "text": [
      "β_diag found. Time taken: 0.15977001190185547 seconds\n",
      "β_mix found.  Time taken: 0.021544933319091797 seconds\n",
      "energy : -1.8608605555207616\n",
      "ell 1:  119.67906001905908\n",
      "ldf 1norm:  22.25947792299109\n",
      "uniform:  51.39982021387577\n",
      "optimal diagonal:  17.74194781113711\n",
      "optimal mixed:  17.741971129500563\n",
      "Variances calculated.  Time taken: 2.04364013671875 seconds\n",
      "=====\n",
      "Variances for various algorithms on H2 in JW encoding over 8 qubits\n",
      "=====\n",
      "{'ell_1': 119.67906001905908, 'ldf_1norm': 22.25947792299109, 'uniform': 51.39982021387577, 'optimal_diag': 17.74194781113711, 'optimal_mix': 17.741971129500563}\n",
      "=====\n"
     ]
    },
    {
     "data": {
      "image/png": "[encoded data removed]",
      "text/plain": [
       "<Figure size 432x288 with 1 Axes>"
      ]
     },
     "metadata": {
      "needs_background": "light"
     },
     "output_type": "display_data"
    }
   ],
   "source": [
    "name = 'h2_jw'\n",
    "ham = h2_jw\n",
    "title = \"Variances for various algorithms on H2 in JW encoding over 8 qubits\"\n",
    "\n",
    "benchmarking(name, ham, title)"
   ]
  },
  {
   "cell_type": "code",
   "execution_count": 34,
   "metadata": {},
   "outputs": [
    {
     "name": "stdout",
     "output_type": "stream",
     "text": [
      "β_diag found. Time taken: 1.1438968181610107 seconds\n",
      "β_mix found.  Time taken: 0.24379515647888184 seconds\n",
      "energy : -8.908299431473589\n",
      "ell 1:  138.3801809098668\n",
      "ldf 1norm:  54.15086386372398\n",
      "uniform:  265.63532330207937\n",
      "optimal diagonal:  14.79275190849935\n",
      "optimal mixed:  14.792744892880195\n",
      "Variances calculated.  Time taken: 16.038710832595825 seconds\n",
      "=====\n",
      "Variances for various algorithms on LiH in JW encoding over 12 qubits\n",
      "=====\n",
      "{'ell_1': 138.3801809098668, 'ldf_1norm': 54.15086386372398, 'uniform': 265.63532330207937, 'optimal_diag': 14.79275190849935, 'optimal_mix': 14.792744892880195}\n",
      "=====\n"
     ]
    },
    {
     "data": {
      "image/png": "[encoded data removed]",
      "text/plain": [
       "<Figure size 432x288 with 1 Axes>"
      ]
     },
     "metadata": {
      "needs_background": "light"
     },
     "output_type": "display_data"
    }
   ],
   "source": [
    "name = 'lih_jw'\n",
    "ham = lih_jw\n",
    "title = \"Variances for various algorithms on LiH in JW encoding over 12 qubits\"\n",
    "\n",
    "benchmarking(name, ham, title)"
   ]
  },
  {
   "cell_type": "code",
   "execution_count": null,
   "metadata": {},
   "outputs": [],
   "source": [
    "name = 'h2o_jw'\n",
    "ham = h2o_jw\n",
    "title = \"Variances for various algorithms on H2O in JW encoding over 14 qubits\"\n",
    "\n",
    "benchmarking(name, ham, title)"
   ]
  },
  {
   "cell_type": "code",
   "execution_count": null,
   "metadata": {},
   "outputs": [],
   "source": [
    "name = 'beh2_jw'\n",
    "ham = beh2_jw\n",
    "title = \"Variances for various algorithms on BeH2 in JW encoding over 14 qubits\"\n",
    "\n",
    "benchmarking(name, ham, title)"
   ]
  },
  {
   "cell_type": "code",
   "execution_count": null,
   "metadata": {},
   "outputs": [],
   "source": [
    "# mac book pro is too weak for this!\n",
    "\n",
    "#name = 'nh3_jw'\n",
    "#ham = nh3_jw\n",
    "#title = \"Variances for various algorithms on NH3 in JW encoding over 16 qubits\""
   ]
  },
  {
   "cell_type": "code",
   "execution_count": null,
   "metadata": {},
   "outputs": [],
   "source": []
  },
  {
   "cell_type": "code",
   "execution_count": null,
   "metadata": {},
   "outputs": [],
   "source": []
  },
  {
   "cell_type": "code",
   "execution_count": null,
   "metadata": {},
   "outputs": [],
   "source": [
    "def save_variances_graph(variances, title, name):\n",
    "    num_variances = len(variances)\n",
    "    x = range(num_variances)\n",
    "    height = list(variances.values())\n",
    "\n",
    "    plt.bar(x, height)\n",
    "    plt.xticks(x, list(variances.keys()), rotation=20)\n",
    "    plt.title(title)\n",
    "\n",
    "    file = '../images/5algos_jw_encoding/{}'.format(name)\n",
    "    plt.savefig(file, dpi=300)\n",
    "    plt.show()"
   ]
  },
  {
   "cell_type": "code",
   "execution_count": null,
   "metadata": {},
   "outputs": [],
   "source": [
    "graph_data = {\"h2_jw_4\": [variances_ALL[\"h2_jw_4\"], \n",
    "                          \"Variances for various algorithms on H2 in JW encoding over 4 qubits\",\n",
    "                          \"h2_jw_4q_1min\"],\n",
    "              \"h2_jw\": [variances_ALL[\"h2_jw\"], \n",
    "                        \"Variances for various algorithms on H2 in JW encoding over 8 qubits\",\n",
    "                        \"h2_jw_8q_1min\"],\n",
    "              \"lih_jw\": [variances_ALL[\"lih_jw\"], \n",
    "                         \"Variances for various algorithms on LiH in JW encoding over 12 qubits\",\n",
    "                         \"lih_jw_12q_5min\"],\n",
    "              \"h2o_jw\": [variances_ALL[\"h2o_jw\"], \n",
    "                         \"Variances for various algorithms on H2O in JW encoding over 14 qubits\",\n",
    "                         \"h2o_jw_14q_20min\"],\n",
    "              \"beh2_jw\": [variances_ALL[\"beh2_jw\"], \n",
    "                          \"Variances for various algorithms on BeH2 in JW encoding over 14 qubits\",\n",
    "                          \"beh2_jw_14q_14min\"]}"
   ]
  },
  {
   "cell_type": "code",
   "execution_count": null,
   "metadata": {},
   "outputs": [],
   "source": [
    "#for data in graph_data.values():\n",
    "#    save_variances_graph(*data)"
   ]
  },
  {
   "cell_type": "code",
   "execution_count": null,
   "metadata": {},
   "outputs": [],
   "source": []
  },
  {
   "cell_type": "code",
   "execution_count": null,
   "metadata": {},
   "outputs": [],
   "source": []
  }
 ],
 "metadata": {
  "kernelspec": {
   "display_name": "Python 3",
   "language": "python",
   "name": "python3"
  },
  "language_info": {
   "codemirror_mode": {
    "name": "ipython",
    "version": 3
   },
   "file_extension": ".py",
   "mimetype": "text/x-python",
   "name": "python",
   "nbconvert_exporter": "python",
   "pygments_lexer": "ipython3",
   "version": "3.8.2"
  }
 },
 "nbformat": 4,
 "nbformat_minor": 4
}
