{
 "cells": [
  {
   "cell_type": "code",
   "execution_count": 1,
   "metadata": {},
   "outputs": [],
   "source": [
    "from hamiltonian import HamiltonianSmall, Hamiltonian"
   ]
  },
  {
   "cell_type": "code",
   "execution_count": 2,
   "metadata": {},
   "outputs": [],
   "source": [
    "lih = HamiltonianSmall('LiH', 1.5)\n",
    "beh2 = HamiltonianSmall('BeH2', 1.3)\n",
    "\n",
    "h2_jw = Hamiltonian('H2_6-31G_8qubits', 'jw')\n",
    "h2_parity = Hamiltonian('H2_6-31G_8qubits', 'parity')\n",
    "h2_bk = Hamiltonian('H2_6-31G_8qubits', 'bk')\n",
    "\n",
    "water_jw = Hamiltonian('H2O_STO3g_14qubits', 'jw')\n",
    "water_parity = Hamiltonian('H2O_STO3g_14qubits', 'parity')\n",
    "water_bk = Hamiltonian('H2O_STO3g_14qubits', 'bk')\n",
    "\n",
    "ammonia_jw = Hamiltonian('NH3_STO3g_16qubits', 'jw')\n",
    "ammonia_parity = Hamiltonian('NH3_STO3g_16qubits', 'parity')\n",
    "ammonia_bk = Hamiltonian('NH3_STO3g_16qubits', 'bk')"
   ]
  },
  {
   "cell_type": "code",
   "execution_count": 3,
   "metadata": {},
   "outputs": [
    {
     "name": "stdout",
     "output_type": "stream",
     "text": [
      "CPU times: user 248 ms, sys: 41.9 ms, total: 290 ms\n",
      "Wall time: 101 ms\n",
      "CPU times: user 258 ms, sys: 998 µs, total: 259 ms\n",
      "Wall time: 259 ms\n",
      "CPU times: user 544 ms, sys: 31.9 ms, total: 576 ms\n",
      "Wall time: 418 ms\n",
      "CPU times: user 22.8 s, sys: 2.38 s, total: 25.2 s\n",
      "Wall time: 9.72 s\n"
     ]
    }
   ],
   "source": [
    "%time lih.pauli_rep.ground()\n",
    "%time beh2.pauli_rep.ground()\n",
    "%time h2_jw.pauli_rep.ground()\n",
    "%time energy, state = water_jw.pauli_rep.ground()\n",
    "# %time energy, state = ammonia_jw.pauli_rep.ground() # takes about 4 minutes"
   ]
  },
  {
   "cell_type": "code",
   "execution_count": 4,
   "metadata": {},
   "outputs": [
    {
     "name": "stdout",
     "output_type": "stream",
     "text": [
      "CPU times: user 56.5 ms, sys: 58.7 ms, total: 115 ms\n",
      "Wall time: 427 ms\n",
      "CPU times: user 37 ms, sys: 40.3 ms, total: 77.3 ms\n",
      "Wall time: 438 ms\n",
      "CPU times: user 181 ms, sys: 73.6 ms, total: 255 ms\n",
      "Wall time: 491 ms\n",
      "CPU times: user 14.9 s, sys: 1.81 s, total: 16.8 s\n",
      "Wall time: 3.52 s\n"
     ]
    }
   ],
   "source": [
    "%time lih.pauli_rep.ground(multithread=True)\n",
    "%time beh2.pauli_rep.ground(multithread=True)\n",
    "%time h2_jw.pauli_rep.ground(multithread=True)\n",
    "%time energy, state = water_jw.pauli_rep.ground(multithread=True)\n",
    "# %time energy, state = ammonia_jw.pauli_rep.ground(multithread=True) # takes about 1 minute"
   ]
  },
  {
   "cell_type": "markdown",
   "metadata": {},
   "source": [
    "# Variance formula\n",
    "\n",
    "\\begin{align}\n",
    "    \\Var[\\nu] \n",
    "    &=\n",
    "    \\sum_{\\Qarrow,\\Rarrow}\n",
    "        f_\\beta(\\Qarrow,\\Rarrow)\n",
    "        \\alpha_\\Qarrow \\alpha_\\Rarrow\n",
    "        \\tr(\\rho\\Qarrow\\Rarrow)\n",
    "    - \\tr(\\rho H_0 )^2\n",
    "\\end{align}"
   ]
  },
  {
   "cell_type": "code",
   "execution_count": 5,
   "metadata": {},
   "outputs": [
    {
     "name": "stdout",
     "output_type": "stream",
     "text": [
      "CPU times: user 1.35 s, sys: 93.5 ms, total: 1.44 s\n",
      "Wall time: 629 ms\n"
     ]
    },
    {
     "data": {
      "text/plain": [
       "51.39982021387607"
      ]
     },
     "execution_count": 5,
     "metadata": {},
     "output_type": "execute_result"
    }
   ],
   "source": [
    "pr = h2_jw.pauli_rep\n",
    "energy, state = pr.ground()\n",
    "β = pr.local_dists_uniform()\n",
    "%time pr.variance_local(energy, state, β)"
   ]
  },
  {
   "cell_type": "code",
   "execution_count": 6,
   "metadata": {},
   "outputs": [
    {
     "name": "stdout",
     "output_type": "stream",
     "text": [
      "ell_1:  119.67906001905907\n",
      "1_norm:  48.903158500086604\n",
      "2_norm:  175.39091182541637\n",
      "max_norm:  849.5697055837951\n"
     ]
    }
   ],
   "source": [
    "print(\"ell_1: \", pr.variance_ell_1(energy))\n",
    "\n",
    "β = pr.local_dists_pnorm(1)\n",
    "print(\"1_norm: \", pr.variance_local(energy, state, β))\n",
    "\n",
    "β = pr.local_dists_pnorm(2)\n",
    "print(\"2_norm: \", pr.variance_local(energy, state, β))\n",
    "\n",
    "β = pr.local_dists_pnorm('infinity')\n",
    "print(\"max_norm: \", pr.variance_local(energy, state, β))"
   ]
  },
  {
   "cell_type": "markdown",
   "metadata": {},
   "source": [
    "# Variance optimisation (keyword=diagonal)\n",
    "\n",
    "This is not the correct optimisation. However it\n",
    "- gives good results;\n",
    "- is quicker than the full optimisation problem;\n",
    "- is convex (so local minimums are global);\n",
    "- does not need access to the Hartree-Fock bitstring for the encoding.\n",
    "\n",
    "Diagonal minimisation asks us to find $\\{\\beta_{i,P}\\}$ in order to minimise:\n",
    "$$\n",
    "    \\sum_{\\Qarrow} \\alpha_\\Qarrow^2 \\prod_{i\\in\\supp(\\Qarrow)} \\beta_{i,Q_i}^{-1}\n",
    "    \\qquad\n",
    "    \\textrm{subject to}\n",
    "    \\qquad\n",
    "    \\beta_{i,X}+\\beta_{i,Y}+\\beta_{i,Z}=1 \\,\\forall i,\n",
    "    \\qquad\n",
    "    \\beta_{i,P}\\ge 0\n",
    "$$"
   ]
  },
  {
   "cell_type": "code",
   "execution_count": 7,
   "metadata": {},
   "outputs": [
    {
     "name": "stdout",
     "output_type": "stream",
     "text": [
      "17.742071936811424\n"
     ]
    }
   ],
   "source": [
    "β_optimal_diagonal = pr.local_dists_optimal('diagonal')\n",
    "print(pr.variance_local(energy, state, β_optimal_diagonal))"
   ]
  },
  {
   "cell_type": "markdown",
   "metadata": {},
   "source": [
    "# Variance optimisation (keyword=mixed)\n",
    "\n",
    "This is the full optimisation problem. It requires access to the Hartree-Fock bitstring $m$ or `bitstring_HF` so that the HF state reads\n",
    "$\\frac1{2^n}\\otimes_{i=1}^n (I+m_i Z)$\n",
    "\n",
    "In the JW encoding these are:\n",
    "- H2 = `10001000`\n",
    "- H2O = `11111001111100`\n",
    "- NH3 = `1111100011111000`\n",
    "\n",
    "Consider the set of influential pairs:\n",
    "\\begin{align}\n",
    "    \\mathcal{I}_\\mathrm{comp}\n",
    "    =\n",
    "    \\left\\{\\left.\n",
    "        (\\Qarrow,\\Rarrow)\n",
    "        \\,\\right|\\,\n",
    "        \\textrm{for all $i$, either $Q_i=R_i$, or $\\{Q_i,R_i\\}=\\{I,Z\\}$}\n",
    "    \\right\\}\n",
    "\\end{align}\n",
    "\n",
    "Then the cost function to optimise will be:\n",
    "\\begin{align}\n",
    "    \\mathrm{cost}(\\{\\beta_i\\}_{i=1}^n)\n",
    "    =\n",
    "    \\sum_{\\Qarrow,\\Rarrow\\in\\mathcal{I}_\\mathrm{comp}}\n",
    "        \\alpha_\\Qarrow\n",
    "        \\alpha_\\Rarrow\n",
    "        \\prod_{i | Q_i=R_i\\neq I}\n",
    "            \\beta_{i,Q_i}^{-1}\n",
    "        \\prod_{i | Q_i\\neq R_i}\n",
    "            m_i\n",
    "\\end{align}\n",
    "\n",
    "Warning, the small Hamiltonians don't follow the pattern because they use other reduction techniques"
   ]
  },
  {
   "cell_type": "code",
   "execution_count": 8,
   "metadata": {},
   "outputs": [
    {
     "name": "stderr",
     "output_type": "stream",
     "text": [
      "/opt/anaconda3/envs/qiskit18/lib/python3.8/site-packages/scipy/optimize/_hessian_update_strategy.py:183: UserWarning: delta_grad == 0.0. Check if the approximated function is linear. If the function is linear better results can be obtained by defining the Hessian as zero instead of using quasi-Newton approximations.\n",
      "  warn('delta_grad == 0.0. Check if the approximated '\n"
     ]
    },
    {
     "name": "stdout",
     "output_type": "stream",
     "text": [
      "17.457190704104413\n"
     ]
    }
   ],
   "source": [
    "bitstring_HF = '10001000'\n",
    "β_optimal_mixed = pr.local_dists_optimal('mixed', bitstring_HF)\n",
    "print(pr.variance_local(energy, state, β_optimal_mixed))"
   ]
  },
  {
   "cell_type": "markdown",
   "metadata": {},
   "source": [
    "# Variance after LDF grouping\n",
    "\n",
    "We should use 1-norm sampling for $\\kappa$\n",
    "\n",
    "\\begin{align}\n",
    "    \\Var[\\nu] \n",
    "    = \n",
    "    \\left(\n",
    "    \\sum_{k=1}^{n_c}\n",
    "        \\frac1{\\kappa_k} \n",
    "        \\sum_{\\Qarrow,\\Rarrow\\in C^{(k)}}\n",
    "            \\alpha_\\Qarrow\\alpha_\\Rarrow\n",
    "            \\prod_{i\\in\\supp(\\Qarrow\\Rarrow)} \\langle \\Qarrow\\Rarrow \\rangle\n",
    "    \\right)\n",
    "    - \\langle H_0 \\rangle^2\n",
    "\\end{align}"
   ]
  },
  {
   "cell_type": "code",
   "execution_count": 9,
   "metadata": {},
   "outputs": [],
   "source": [
    "from var import variance_ldf, kappa_1norm #kappa_uniform"
   ]
  },
  {
   "cell_type": "code",
   "execution_count": 10,
   "metadata": {},
   "outputs": [
    {
     "data": {
      "text/plain": [
       "22.259477922991184"
      ]
     },
     "execution_count": 10,
     "metadata": {},
     "output_type": "execute_result"
    }
   ],
   "source": [
    "ldf = h2_jw.ldf()\n",
    "kappa = kappa_1norm(ldf)\n",
    "energy_tf = pr.energy_tf(energy)\n",
    "variance_ldf(ldf, state, kappa, energy_tf)"
   ]
  },
  {
   "cell_type": "markdown",
   "metadata": {},
   "source": [
    "# Benchmarking"
   ]
  },
  {
   "cell_type": "code",
   "execution_count": 11,
   "metadata": {},
   "outputs": [],
   "source": [
    "def variances_dict(ham, β_diag=None, β_mix=None):\n",
    "    pr = ham.pauli_rep\n",
    "    dic = {}\n",
    "    \n",
    "    energy, state = pr.ground(multithread=True)\n",
    "    print(\"energy :\", energy)\n",
    "\n",
    "    # ell_1\n",
    "    var = pr.variance_ell_1(energy)\n",
    "    print(\"ell 1: \", var)\n",
    "    dic['ell_1'] = var\n",
    "    \n",
    "    # LDF with 1-norm sampling\n",
    "    ldf = ham.ldf()\n",
    "    kappa = kappa_1norm(ldf)\n",
    "    energy_tf = pr.energy_tf(energy)\n",
    "    var = variance_ldf(ldf, state, kappa, energy_tf)\n",
    "    print(\"ldf 1norm: \", var)\n",
    "    dic['ldf_1norm'] = var\n",
    "    \n",
    "    # uniform\n",
    "    β_uniform = pr.local_dists_uniform()\n",
    "    var = pr.variance_local(energy, state, β_uniform, multithread=True)\n",
    "    print(\"uniform: \", var)\n",
    "    dic['uniform'] = var\n",
    "    \n",
    "    # optimal (diagonal)\n",
    "    if β_diag is not None:\n",
    "        var = pr.variance_local(energy, state, β_diag, multithread=True)\n",
    "        print(\"optimal diagonal: \", var)\n",
    "        dic['optimal_diag'] = var\n",
    " \n",
    "    # optimal (mixed)\n",
    "    if β_mix is not None:\n",
    "        var = pr.variance_local(energy, state, β_mix, multithread=True)\n",
    "        print(\"optimal mixed: \", var)\n",
    "        dic['optimal_mix'] = var\n",
    "    \n",
    "    return dic"
   ]
  },
  {
   "cell_type": "code",
   "execution_count": 12,
   "metadata": {},
   "outputs": [],
   "source": [
    "variances_ALL = {}\n",
    "beta_optimal_ALL = {}"
   ]
  },
  {
   "cell_type": "code",
   "execution_count": 13,
   "metadata": {},
   "outputs": [
    {
     "name": "stdout",
     "output_type": "stream",
     "text": [
      "CPU times: user 6.6 s, sys: 686 ms, total: 7.29 s\n",
      "Wall time: 1.47 s\n",
      "CPU times: user 1min 14s, sys: 7.62 s, total: 1min 21s\n",
      "Wall time: 19.5 s\n",
      "CPU times: user 10 µs, sys: 1 µs, total: 11 µs\n",
      "Wall time: 4.05 µs\n",
      "=====\n",
      "Variances for various algorithms on H2 in JW encoding over 8 qubits\n",
      "=====\n",
      "energy : -1.860860555520766\n",
      "ell 1:  119.67906001905905\n",
      "ldf 1norm:  22.25947792299123\n",
      "uniform:  51.399820213875984\n",
      "optimal diagonal:  17.742071936811502\n",
      "optimal mixed:  17.45719070410452\n",
      "CPU times: user 652 ms, sys: 263 ms, total: 915 ms\n",
      "Wall time: 2.26 s\n"
     ]
    }
   ],
   "source": [
    "name = 'h2_jw'\n",
    "ham = h2_jw\n",
    "bitstring_HF = '10001000'\n",
    "\n",
    "%time β_diag = ham.pauli_rep.local_dists_optimal('diagonal')\n",
    "%time β_mix = ham.pauli_rep.local_dists_optimal('mixed', bitstring_HF)\n",
    "beta_optimal_ALL[name] = {'diagonal': β_diag, 'mixed': β_mix}\n",
    "\n",
    "print(\"=====\")\n",
    "print(\"Variances for various algorithms on H2 in JW encoding over 8 qubits\")\n",
    "print(\"=====\")\n",
    "\n",
    "%time variances_ALL[name] = variances_dict(ham, β_diag=β_diag, β_mix=β_mix)"
   ]
  },
  {
   "cell_type": "code",
   "execution_count": 14,
   "metadata": {},
   "outputs": [
    {
     "data": {
      "text/plain": [
       "{'ell_1': 119.67906001905905,\n",
       " 'ldf_1norm': 22.25947792299123,\n",
       " 'uniform': 51.399820213875984,\n",
       " 'optimal_diag': 17.742071936811502,\n",
       " 'optimal_mix': 17.45719070410452}"
      ]
     },
     "execution_count": 14,
     "metadata": {},
     "output_type": "execute_result"
    }
   ],
   "source": [
    "variances_ALL['h2_jw']"
   ]
  },
  {
   "cell_type": "code",
   "execution_count": 15,
   "metadata": {},
   "outputs": [],
   "source": [
    "# beta_optimal_ALL['h2_jw']"
   ]
  }
 ],
 "metadata": {
  "kernelspec": {
   "display_name": "Python 3",
   "language": "python",
   "name": "python3"
  },
  "language_info": {
   "codemirror_mode": {
    "name": "ipython",
    "version": 3
   },
   "file_extension": ".py",
   "mimetype": "text/x-python",
   "name": "python",
   "nbconvert_exporter": "python",
   "pygments_lexer": "ipython3",
   "version": "3.8.2"
  }
 },
 "nbformat": 4,
 "nbformat_minor": 4
}
