{
 "cells": [
  {
   "cell_type": "code",
   "execution_count": 1,
   "metadata": {},
   "outputs": [],
   "source": [
    "from hamiltonian import HamiltonianSmall, Hamiltonian"
   ]
  },
  {
   "cell_type": "code",
   "execution_count": 2,
   "metadata": {},
   "outputs": [],
   "source": [
    "lih = HamiltonianSmall('LiH', 1.5)\n",
    "beh2 = HamiltonianSmall('BeH2', 1.3)\n",
    "\n",
    "h2_jw = Hamiltonian('H2_6-31G_8qubits', 'jw')\n",
    "h2_parity = Hamiltonian('H2_6-31G_8qubits', 'parity')\n",
    "h2_bk = Hamiltonian('H2_6-31G_8qubits', 'bk')\n",
    "\n",
    "water_jw = Hamiltonian('H2O_STO3g_14qubits', 'jw')\n",
    "water_parity = Hamiltonian('H2O_STO3g_14qubits', 'parity')\n",
    "water_bk = Hamiltonian('H2O_STO3g_14qubits', 'bk')\n",
    "\n",
    "ammonia_jw = Hamiltonian('NH3_STO3g_16qubits', 'jw')\n",
    "ammonia_parity = Hamiltonian('NH3_STO3g_16qubits', 'parity')\n",
    "ammonia_bk = Hamiltonian('NH3_STO3g_16qubits', 'bk')"
   ]
  },
  {
   "cell_type": "code",
   "execution_count": 3,
   "metadata": {},
   "outputs": [
    {
     "name": "stdout",
     "output_type": "stream",
     "text": [
      "CPU times: user 112 ms, sys: 2.21 ms, total: 115 ms\n",
      "Wall time: 113 ms\n",
      "CPU times: user 261 ms, sys: 2.98 ms, total: 264 ms\n",
      "Wall time: 261 ms\n",
      "CPU times: user 540 ms, sys: 32.2 ms, total: 572 ms\n",
      "Wall time: 413 ms\n",
      "CPU times: user 23.3 s, sys: 3.13 s, total: 26.4 s\n",
      "Wall time: 10.1 s\n"
     ]
    }
   ],
   "source": [
    "%time lih.pauli_rep.ground()\n",
    "%time beh2.pauli_rep.ground()\n",
    "%time h2_jw.pauli_rep.ground()\n",
    "%time energy, state = water_jw.pauli_rep.ground()\n",
    "# %time energy, state = ammonia_jw.pauli_rep.ground() # takes about 4 minutes"
   ]
  },
  {
   "cell_type": "code",
   "execution_count": 4,
   "metadata": {},
   "outputs": [
    {
     "name": "stdout",
     "output_type": "stream",
     "text": [
      "CPU times: user 34 ms, sys: 50.5 ms, total: 84.5 ms\n",
      "Wall time: 408 ms\n",
      "CPU times: user 34.4 ms, sys: 42.8 ms, total: 77.2 ms\n",
      "Wall time: 421 ms\n",
      "CPU times: user 182 ms, sys: 76.5 ms, total: 258 ms\n",
      "Wall time: 470 ms\n",
      "CPU times: user 14.9 s, sys: 1.88 s, total: 16.8 s\n",
      "Wall time: 3.58 s\n"
     ]
    }
   ],
   "source": [
    "%time lih.pauli_rep.ground(multithread=True)\n",
    "%time beh2.pauli_rep.ground(multithread=True)\n",
    "%time h2_jw.pauli_rep.ground(multithread=True)\n",
    "%time energy, state = water_jw.pauli_rep.ground(multithread=True)\n",
    "# %time energy, state = ammonia_jw.pauli_rep.ground(multithread=True) # takes about 1 minute"
   ]
  },
  {
   "cell_type": "code",
   "execution_count": 5,
   "metadata": {},
   "outputs": [
    {
     "name": "stdout",
     "output_type": "stream",
     "text": [
      "energy:  0.8494938395630901\n",
      "CPU times: user 260 ms, sys: 2.88 ms, total: 263 ms\n",
      "Wall time: 261 ms\n",
      "energy_sparse:  0.8494938395630887\n"
     ]
    }
   ],
   "source": [
    "from sparse import energy as sparseenergy\n",
    "from sparse import energy_kron\n",
    "\n",
    "pr = beh2.pauli_rep\n",
    "energy, state = pr.ground()\n",
    "print(\"energy: \", energy)\n",
    "%time energy_sparse = sparseenergy(pr, state)\n",
    "print(\"energy_sparse: \", energy_sparse)\n",
    "#%time energy_kron = energy_kron(pr, state)\n",
    "#print(\"energy_kron: \", energy_kron)"
   ]
  },
  {
   "cell_type": "code",
   "execution_count": 6,
   "metadata": {},
   "outputs": [
    {
     "name": "stdout",
     "output_type": "stream",
     "text": [
      "CPU times: user 361 ms, sys: 1.69 ms, total: 362 ms\n",
      "Wall time: 361 ms\n"
     ]
    },
    {
     "data": {
      "text/plain": [
       "22.470145625464756"
      ]
     },
     "execution_count": 6,
     "metadata": {},
     "output_type": "execute_result"
    }
   ],
   "source": [
    "β = pr.local_dists_uniform()\n",
    "%time pr.variance_local(energy, state, β)"
   ]
  },
  {
   "cell_type": "code",
   "execution_count": 7,
   "metadata": {},
   "outputs": [
    {
     "name": "stdout",
     "output_type": "stream",
     "text": [
      "ell_1:  44.84428759596599\n",
      "1_norm:  92.75535492849629\n",
      "2_norm:  84.12338038780389\n",
      "max_norm:  82.42512285439781\n"
     ]
    }
   ],
   "source": [
    "print(\"ell_1: \", pr.variance_ell_1(energy))\n",
    "\n",
    "β = pr.local_dists_pnorm(1)\n",
    "print(\"1_norm: \", pr.variance_local(energy, state, β))\n",
    "\n",
    "β = pr.local_dists_pnorm(2)\n",
    "print(\"2_norm: \", pr.variance_local(energy, state, β))\n",
    "\n",
    "β = pr.local_dists_pnorm('infinity')\n",
    "print(\"max_norm: \", pr.variance_local(energy, state, β))"
   ]
  },
  {
   "cell_type": "markdown",
   "metadata": {},
   "source": [
    "# Variance optimisation (old and wrong, but convex)\n",
    "\n",
    "If we use a uniform/biased pauli/magic bases algorithm to estimate the energy, and we assume that the state is a product-state (or close to a produce-state) then we end up wanting to minimise:\n",
    "$$\n",
    "    \\Var[\\nu]\n",
    "    =\n",
    "    \\sum_{\\Qarrow} \\alpha_\\Qarrow^2 \\prod_{i\\in\\supp(\\Qarrow)} \\beta_{i,Q_i}^{-1}\n",
    "    +\n",
    "    \\sum_{\\Qarrow,\\Rarrow \\in \\{I,Z\\}^{\\otimes n}} \\alpha_\\Qarrow \\alpha_\\Rarrow \\prod_{i} m_i(1-\\delta_{Q_i R_i})\n",
    "    - \\tr(H_0\\rho)^2\n",
    "$$\n",
    "(Above is the chemistry HF situation, where the product-state is in the $Z$-basis, but this statement wouldn't depend on using $Z$-basis uniformly.)\n",
    "\n",
    "We end up wanting to minimise:\n",
    "$$\n",
    "    \\sum_{\\Qarrow} \\alpha_\\Qarrow^2 \\prod_{i\\in\\supp(\\Qarrow)} \\beta_{i,Q_i}^{-1}\n",
    "    \\qquad\n",
    "    \\textrm{subject to}\n",
    "    \\qquad\n",
    "    \\beta_{i,X}+\\beta_{i,Y}+\\beta_{i,Z}=1 \\,\\forall i,\n",
    "    \\qquad\n",
    "    \\beta_{i,P}\\ge 0\n",
    "$$"
   ]
  },
  {
   "cell_type": "code",
   "execution_count": 8,
   "metadata": {},
   "outputs": [
    {
     "name": "stderr",
     "output_type": "stream",
     "text": [
      "/opt/anaconda3/envs/qiskit18/lib/python3.8/site-packages/scipy/optimize/_hessian_update_strategy.py:183: UserWarning: delta_grad == 0.0. Check if the approximated function is linear. If the function is linear better results can be obtained by defining the Hessian as zero instead of using quasi-Newton approximations.\n",
      "  warn('delta_grad == 0.0. Check if the approximated '\n"
     ]
    },
    {
     "name": "stdout",
     "output_type": "stream",
     "text": [
      "16.194135745577128\n"
     ]
    }
   ],
   "source": [
    "β_optimal = pr.local_dists_optimal()\n",
    "print(pr.variance_local(energy, state, β_optimal))"
   ]
  },
  {
   "cell_type": "code",
   "execution_count": 9,
   "metadata": {},
   "outputs": [],
   "source": [
    "def variances_dict(pauli_rep):\n",
    "    pr = pauli_rep\n",
    "    dic = {}\n",
    "    \n",
    "    energy, state = pr.ground(multithread=True)\n",
    "    print(\"energy :\", energy)\n",
    "\n",
    "    # ell_1\n",
    "    var = pr.variance_ell_1(energy)\n",
    "    print(\"ell 1: \", var)\n",
    "    dic['ell_1'] = var\n",
    "    \n",
    "    # uniform\n",
    "    β = pr.local_dists_uniform()\n",
    "    var = pr.variance_local(energy, state, β)\n",
    "    print(\"uniform: \", var)\n",
    "    dic['uniform'] = var\n",
    "    \n",
    "    # optimal\n",
    "    β = pr.local_dists_optimal()\n",
    "    var = pr.variance_local(energy, state, β)\n",
    "    print(\"optimal: \", var)\n",
    "    dic['optimal'] = var\n",
    "    \n",
    "    return dic"
   ]
  },
  {
   "cell_type": "code",
   "execution_count": 10,
   "metadata": {},
   "outputs": [],
   "source": [
    "variances_ALL = {}\n",
    "beta_optimal_ALL = {}"
   ]
  },
  {
   "cell_type": "code",
   "execution_count": 11,
   "metadata": {},
   "outputs": [
    {
     "name": "stdout",
     "output_type": "stream",
     "text": [
      "energy : -0.6791966848293151\n",
      "ell 1:  8.826402522940885\n",
      "uniform:  2.24717620961014\n",
      "optimal:  1.5743727896616164\n",
      "CPU times: user 1.11 s, sys: 191 ms, total: 1.3 s\n",
      "Wall time: 672 ms\n"
     ]
    }
   ],
   "source": [
    "name = 'lih'\n",
    "pr = lih.pauli_rep\n",
    "\n",
    "beta_optimal_ALL[name] = pr.local_dists_optimal()\n",
    "%time variances_ALL[name] = variances_dict(pr)"
   ]
  },
  {
   "cell_type": "code",
   "execution_count": 12,
   "metadata": {},
   "outputs": [
    {
     "name": "stdout",
     "output_type": "stream",
     "text": [
      "energy : 0.8494938395630852\n",
      "ell 1:  44.84428759596597\n",
      "uniform:  22.4701456254646\n",
      "optimal:  16.194135745577018\n",
      "CPU times: user 4.62 s, sys: 554 ms, total: 5.17 s\n",
      "Wall time: 2.06 s\n"
     ]
    }
   ],
   "source": [
    "name = 'beh2'\n",
    "pr = beh2.pauli_rep\n",
    "\n",
    "beta_optimal_ALL[name] = pr.local_dists_optimal()\n",
    "%time variances_ALL[name] = variances_dict(pr)"
   ]
  },
  {
   "cell_type": "code",
   "execution_count": 13,
   "metadata": {},
   "outputs": [
    {
     "name": "stdout",
     "output_type": "stream",
     "text": [
      "energy : -1.8608605555207673\n",
      "ell 1:  119.67906001905904\n",
      "uniform:  51.39982021387603\n",
      "optimal:  17.742071936811385\n",
      "CPU times: user 9.39 s, sys: 1.02 s, total: 10.4 s\n",
      "Wall time: 3.21 s\n"
     ]
    }
   ],
   "source": [
    "name = 'h2_jw'\n",
    "pr = h2_jw.pauli_rep\n",
    "\n",
    "beta_optimal_ALL[name] = pr.local_dists_optimal()\n",
    "%time variances_ALL[name] = variances_dict(pr)"
   ]
  },
  {
   "cell_type": "code",
   "execution_count": 14,
   "metadata": {},
   "outputs": [
    {
     "name": "stdout",
     "output_type": "stream",
     "text": [
      "energy : -1.860860555520758\n",
      "ell 1:  119.67906001905918\n",
      "uniform:  70.7614744196227\n",
      "optimal:  18.924750112035056\n",
      "CPU times: user 34.3 s, sys: 4.18 s, total: 38.5 s\n",
      "Wall time: 8.93 s\n"
     ]
    }
   ],
   "source": [
    "name = 'h2_parity'\n",
    "pr = h2_parity.pauli_rep\n",
    "\n",
    "beta_optimal_ALL[name] = pr.local_dists_optimal()\n",
    "%time variances_ALL[name] = variances_dict(pr)"
   ]
  },
  {
   "cell_type": "code",
   "execution_count": 15,
   "metadata": {},
   "outputs": [
    {
     "name": "stdout",
     "output_type": "stream",
     "text": [
      "energy : -1.8608605555207645\n",
      "ell 1:  119.67906001905939\n",
      "uniform:  168.86600324405487\n",
      "optimal:  19.51693242093154\n",
      "CPU times: user 20.2 s, sys: 2.73 s, total: 23 s\n",
      "Wall time: 5.8 s\n"
     ]
    }
   ],
   "source": [
    "name = 'h2_bk'\n",
    "pr = h2_bk.pauli_rep\n",
    "\n",
    "beta_optimal_ALL[name] = pr.local_dists_optimal()\n",
    "%time variances_ALL[name] = variances_dict(pr)"
   ]
  },
  {
   "cell_type": "code",
   "execution_count": null,
   "metadata": {},
   "outputs": [],
   "source": []
  },
  {
   "cell_type": "code",
   "execution_count": 16,
   "metadata": {},
   "outputs": [
    {
     "name": "stdout",
     "output_type": "stream",
     "text": [
      "CPU times: user 6min 45s, sys: 1min 8s, total: 7min 53s\n",
      "Wall time: 1min\n"
     ]
    },
    {
     "data": {
      "text/plain": [
       "{0: [0.43257858556565915, 0.43257858722135467, 0.1348428272129862],\n",
       " 1: [0.24098007537433425, 0.2409800708577077, 0.518039853767958],\n",
       " 2: [0.13870541903721406, 0.13870542588015417, 0.7225891550826317],\n",
       " 3: [0.13957872152763764, 0.13957871134125624, 0.7208425671311062],\n",
       " 4: [0.16984472160573807, 0.1698447243114196, 0.6603105540828423],\n",
       " 5: [0.2675208449775755, 0.2675208434379076, 0.464958311584517],\n",
       " 6: [0.11647067744295292, 0.11647067819430176, 0.7670586443627454],\n",
       " 7: [0.43257857708372555, 0.43257860312684154, 0.13484281978943294],\n",
       " 8: [0.24098005034367995, 0.24098008250406633, 0.5180398671522537],\n",
       " 9: [0.13870542248842968, 0.13870542724539398, 0.7225891502661764],\n",
       " 10: [0.13957872657623138, 0.13957872195005588, 0.7208425514737127],\n",
       " 11: [0.16984475333796817, 0.16984473040786618, 0.6603105162541657],\n",
       " 12: [0.2675208758292949, 0.26752084565650264, 0.46495827851420257],\n",
       " 13: [0.11647066971784335, 0.1164706702788042, 0.7670586600033525]}"
      ]
     },
     "execution_count": 16,
     "metadata": {},
     "output_type": "execute_result"
    }
   ],
   "source": [
    "pr = water_jw.pauli_rep\n",
    "%time β = pr.local_dists_optimal()\n",
    "β"
   ]
  },
  {
   "cell_type": "code",
   "execution_count": 17,
   "metadata": {},
   "outputs": [
    {
     "name": "stdout",
     "output_type": "stream",
     "text": [
      "CPU times: user 23.7 s, sys: 3.55 s, total: 27.2 s\n",
      "Wall time: 4.82 s\n"
     ]
    }
   ],
   "source": [
    "%time energy, state = pr.ground(multithread=True)"
   ]
  },
  {
   "cell_type": "code",
   "execution_count": 18,
   "metadata": {},
   "outputs": [
    {
     "name": "stdout",
     "output_type": "stream",
     "text": [
      "CPU times: user 15 µs, sys: 3 µs, total: 18 µs\n",
      "Wall time: 22.2 µs\n",
      "ell 1:  4363.497773126067\n"
     ]
    }
   ],
   "source": [
    "%time var = pr.variance_ell_1(energy)\n",
    "print(\"ell 1: \", var)"
   ]
  },
  {
   "cell_type": "code",
   "execution_count": 19,
   "metadata": {},
   "outputs": [
    {
     "name": "stdout",
     "output_type": "stream",
     "text": [
      "CPU times: user 33.3 ms, sys: 55.7 ms, total: 89 ms\n",
      "Wall time: 49 s\n",
      "uniform:  2839.0394682189617\n"
     ]
    }
   ],
   "source": [
    "%time var = pr.variance_local(energy, state, pr.local_dists_uniform(), multithread=True)\n",
    "print(\"uniform: \", var)"
   ]
  },
  {
   "cell_type": "code",
   "execution_count": 20,
   "metadata": {},
   "outputs": [
    {
     "name": "stdout",
     "output_type": "stream",
     "text": [
      "CPU times: user 36.2 ms, sys: 51.5 ms, total: 87.7 ms\n",
      "Wall time: 49.3 s\n",
      "optimal:  257.5450993727777\n"
     ]
    }
   ],
   "source": [
    "%time var = pr.variance_local(energy, state, β, multithread=True)\n",
    "print(\"optimal: \", var)"
   ]
  },
  {
   "cell_type": "code",
   "execution_count": null,
   "metadata": {},
   "outputs": [],
   "source": []
  }
 ],
 "metadata": {
  "kernelspec": {
   "display_name": "Python 3",
   "language": "python",
   "name": "python3"
  },
  "language_info": {
   "codemirror_mode": {
    "name": "ipython",
    "version": 3
   },
   "file_extension": ".py",
   "mimetype": "text/x-python",
   "name": "python",
   "nbconvert_exporter": "python",
   "pygments_lexer": "ipython3",
   "version": "3.8.2"
  }
 },
 "nbformat": 4,
 "nbformat_minor": 4
}
