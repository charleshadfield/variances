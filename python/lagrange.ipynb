{
 "cells": [
  {
   "cell_type": "code",
   "execution_count": 1,
   "metadata": {},
   "outputs": [],
   "source": [
    "from hamiltonian import HamiltonianSmall, Hamiltonian\n",
    "\n",
    "import var_optimise"
   ]
  },
  {
   "cell_type": "markdown",
   "metadata": {},
   "source": [
    "# Lagrange by Rudy\n",
    "\n",
    "See Rudy's note on optimizing the variance with Lagrange multiplier method"
   ]
  },
  {
   "cell_type": "code",
   "execution_count": 2,
   "metadata": {},
   "outputs": [],
   "source": [
    "lih = HamiltonianSmall('LiH', 1.5)\n",
    "beh2 = HamiltonianSmall('BeH2', 1.3)\n",
    "\n",
    "h2_jw = Hamiltonian('H2_6-31G_8qubits', 'jw')\n",
    "h2_parity = Hamiltonian('H2_6-31G_8qubits', 'parity')\n",
    "h2_bk = Hamiltonian('H2_6-31G_8qubits', 'bk')\n",
    "\n",
    "water_jw = Hamiltonian('H2O_STO3g_14qubits', 'jw')\n",
    "water_parity = Hamiltonian('H2O_STO3g_14qubits', 'parity')\n",
    "water_bk = Hamiltonian('H2O_STO3g_14qubits', 'bk')\n",
    "\n",
    "ammonia_jw = Hamiltonian('NH3_STO3g_16qubits', 'jw')\n",
    "ammonia_parity = Hamiltonian('NH3_STO3g_16qubits', 'parity')\n",
    "ammonia_bk = Hamiltonian('NH3_STO3g_16qubits', 'bk')"
   ]
  },
  {
   "cell_type": "code",
   "execution_count": 3,
   "metadata": {},
   "outputs": [
    {
     "name": "stdout",
     "output_type": "stream",
     "text": [
      "beta: {0: [0.2627877783884178, 0.25172728999060096, 0.4854849316209812], 1: [0.2731407677187616, 0.2708496665000182, 0.45600956578122026], 2: [0.2627877734835786, 0.25172728735894984, 0.4854849391574715], 3: [0.2731407699348335, 0.2708496658369026, 0.45600956422826394]}\n",
      "objective: 2.6472360929681003\n"
     ]
    }
   ],
   "source": [
    "pr = lih.pauli_rep\n",
    "n = pr.num_qubits\n",
    "energy, state = pr.ground()\n",
    "β = var_optimise.optimal_beta(pr)\n",
    "objective = var_optimise.objective(pr, β) # the cost function's value\n",
    "print(\"beta:\", β)\n",
    "print(\"objective:\", objective)"
   ]
  },
  {
   "cell_type": "code",
   "execution_count": 4,
   "metadata": {},
   "outputs": [],
   "source": [
    "def prod_inverse(Q, β):\n",
    "    # prod_{j in supp(Q)} beta_{j, Q_j}^{-1}\n",
    "    pauli_to_index = {'X': 0, 'Y': 1, 'Z': 2}\n",
    "    prod = 1.0\n",
    "    for i in range(len(Q)):\n",
    "        if Q[i] != 'I':\n",
    "            index = pauli_to_index[Q[i]]\n",
    "            b = β[(len(Q)-1)-i][index]  # qiskit ordering: if i=0 then need to look up beta[n]\n",
    "            prod *= b\n",
    "    return prod**(-1)\n",
    "\n",
    "def lagrange_restriction_numerator(i, p, dic, β):\n",
    "    tally = 0.0\n",
    "    for Q in dic:\n",
    "        if Q[(len(Q)-1)-i] == p: # qiskit ordering\n",
    "            tally += (dic[Q]**2) * prod_inverse(Q, β)\n",
    "    return tally\n",
    "\n",
    "def lagrange_restriction_denominator(i, dic, β):\n",
    "    tally = 0.0\n",
    "    for Q in dic:\n",
    "        if Q[(len(Q)-1)-i] != \"I\": # qiskit ordering\n",
    "            tally += (dic[Q]**2) * prod_inverse(Q, β)\n",
    "    return tally\n",
    "\n",
    "def lagrange_restriction(i, p, dic, β, objective):\n",
    "    numerator = lagrange_restriction_numerator(i, p, dic, β)\n",
    "    denominator = lagrange_restriction_denominator(i, dic, β)\n",
    "    return numerator / denominator"
   ]
  },
  {
   "cell_type": "code",
   "execution_count": 5,
   "metadata": {},
   "outputs": [
    {
     "data": {
      "text/plain": [
       "0.2627877817553151"
      ]
     },
     "execution_count": 5,
     "metadata": {},
     "output_type": "execute_result"
    }
   ],
   "source": [
    "lagrange_restriction(0, 'X', pr.dic, β, objective)"
   ]
  },
  {
   "cell_type": "code",
   "execution_count": 6,
   "metadata": {},
   "outputs": [
    {
     "data": {
      "text/plain": [
       "0.2517272976434559"
      ]
     },
     "execution_count": 6,
     "metadata": {},
     "output_type": "execute_result"
    }
   ],
   "source": [
    "lagrange_restriction(0, 'Y', pr.dic, β, objective)"
   ]
  },
  {
   "cell_type": "code",
   "execution_count": 7,
   "metadata": {},
   "outputs": [
    {
     "data": {
      "text/plain": [
       "0.485484920601229"
      ]
     },
     "execution_count": 7,
     "metadata": {},
     "output_type": "execute_result"
    }
   ],
   "source": [
    "lagrange_restriction(0, 'Z', pr.dic, β, objective)"
   ]
  }
 ],
 "metadata": {
  "kernelspec": {
   "display_name": "Python 3",
   "language": "python",
   "name": "python3"
  },
  "language_info": {
   "codemirror_mode": {
    "name": "ipython",
    "version": 3
   },
   "file_extension": ".py",
   "mimetype": "text/x-python",
   "name": "python",
   "nbconvert_exporter": "python",
   "pygments_lexer": "ipython3",
   "version": "3.8.2"
  }
 },
 "nbformat": 4,
 "nbformat_minor": 4
}
