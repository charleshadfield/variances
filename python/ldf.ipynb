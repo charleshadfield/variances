{
 "cells": [
  {
   "cell_type": "code",
   "execution_count": 1,
   "metadata": {},
   "outputs": [],
   "source": [
    "from hamiltonian import HamiltonianSmall, Hamiltonian"
   ]
  },
  {
   "cell_type": "code",
   "execution_count": 2,
   "metadata": {},
   "outputs": [],
   "source": [
    "lih = HamiltonianSmall('LiH', 1.5)\n",
    "beh2 = HamiltonianSmall('BeH2', 1.3)\n",
    "\n",
    "h2_jw = Hamiltonian('H2_6-31G_8qubits', 'jw')\n",
    "h2_parity = Hamiltonian('H2_6-31G_8qubits', 'parity')\n",
    "h2_bk = Hamiltonian('H2_6-31G_8qubits', 'bk')\n",
    "\n",
    "water_jw = Hamiltonian('H2O_STO3g_14qubits', 'jw')\n",
    "water_parity = Hamiltonian('H2O_STO3g_14qubits', 'parity')\n",
    "water_bk = Hamiltonian('H2O_STO3g_14qubits', 'bk')\n",
    "\n",
    "ammonia_jw = Hamiltonian('NH3_STO3g_16qubits', 'jw')\n",
    "ammonia_parity = Hamiltonian('NH3_STO3g_16qubits', 'parity')\n",
    "ammonia_bk = Hamiltonian('NH3_STO3g_16qubits', 'bk')"
   ]
  },
  {
   "cell_type": "markdown",
   "metadata": {},
   "source": [
    "\\begin{align}\n",
    "    \\Var(\\nu)\n",
    "    = \n",
    "    \\left(\n",
    "    \\sum_{k=1}^K\n",
    "        \\frac1{\\kappa (C^{(k)})} \n",
    "        \\sum_{Q,R\\in C^{(k)}}\n",
    "            \\alpha_Q \\alpha_R\n",
    "            \\prod_{i\\in\\supp(QR)} \\tr(\\rho QR)\n",
    "    \\right)\n",
    "    - \\tr( \\rho H_0 )^2\n",
    "\\end{align} "
   ]
  },
  {
   "cell_type": "code",
   "execution_count": 3,
   "metadata": {},
   "outputs": [],
   "source": [
    "from var import variance_ldf, kappa_uniform, kappa_1norm"
   ]
  },
  {
   "cell_type": "code",
   "execution_count": 9,
   "metadata": {},
   "outputs": [],
   "source": [
    "def varLDF(ham, dist):\n",
    "    ldf = ham.ldf()\n",
    "    energy, state = ham.pauli_rep.ground()\n",
    "    energy_tf = ham.pauli_rep.energy_tf(energy)\n",
    "    if dist == 'uniform':\n",
    "        kappa = kappa_uniform(ldf)\n",
    "    if dist == '1norm':\n",
    "        kappa = kappa_1norm(ldf)\n",
    "    return variance_ldf(ldf, state, kappa, energy_tf)"
   ]
  },
  {
   "cell_type": "code",
   "execution_count": 16,
   "metadata": {},
   "outputs": [
    {
     "name": "stdout",
     "output_type": "stream",
     "text": [
      "LDF variance with uniform sampling from groups\n",
      "h2_jw:  196.86137563880612\n",
      "h2_parity:  137.02309316470243\n",
      "h2_bk:  203.85737068833177\n",
      "===\n",
      "LDF variance with 1-norm sampling from groups\n",
      "h2_jw:  22.259477922991223\n",
      "h2_parity:  38.00751537066616\n",
      "h2_bk:  38.43066200545775\n"
     ]
    }
   ],
   "source": [
    "print(\"LDF variance with uniform sampling from groups\")\n",
    "print(\"h2_jw: \", varLDF(h2_jw, 'uniform'))\n",
    "print(\"h2_parity: \", varLDF(h2_parity, 'uniform'))\n",
    "print(\"h2_bk: \", varLDF(h2_bk, 'uniform'))\n",
    "\n",
    "print(\"===\")\n",
    "print(\"LDF variance with 1-norm sampling from groups\")\n",
    "print(\"h2_jw: \", varLDF(h2_jw, '1norm'))\n",
    "print(\"h2_parity: \", varLDF(h2_parity, '1norm'))\n",
    "print(\"h2_bk: \", varLDF(h2_bk, '1norm'))"
   ]
  },
  {
   "cell_type": "code",
   "execution_count": 18,
   "metadata": {},
   "outputs": [
    {
     "name": "stdout",
     "output_type": "stream",
     "text": [
      "LDF variance with uniform sampling from groups\n",
      "water_jw:  65997.81174667981\n",
      "water_parity:  88041.86884825355\n",
      "water_bk:  94547.08329510005\n",
      "===\n",
      "LDF variance with 1-norm sampling from groups\n",
      "water_jw:  1041.8235013468884\n",
      "water_parity:  2671.434708056543\n",
      "water_bk:  2088.7914222583017\n"
     ]
    }
   ],
   "source": [
    "print(\"LDF variance with uniform sampling from groups\")\n",
    "print(\"water_jw: \", varLDF(water_jw, 'uniform'))\n",
    "print(\"water_parity: \", varLDF(water_parity, 'uniform'))\n",
    "print(\"water_bk: \", varLDF(water_bk, 'uniform'))\n",
    "\n",
    "print(\"===\")\n",
    "print(\"LDF variance with 1-norm sampling from groups\")\n",
    "print(\"water_jw: \", varLDF(water_jw, '1norm'))\n",
    "print(\"water_parity: \", varLDF(water_parity, '1norm'))\n",
    "print(\"water_bk: \", varLDF(water_bk, '1norm'))"
   ]
  },
  {
   "cell_type": "code",
   "execution_count": 19,
   "metadata": {},
   "outputs": [
    {
     "name": "stdout",
     "output_type": "stream",
     "text": [
      "LDF variance with uniform sampling from groups\n",
      "ammonia_jw:  96740.4046946161\n",
      "ammonia_parity:  128420.76984746686\n",
      "ammonia_bk:  129351.51415626635\n",
      "===\n",
      "LDF variance with 1-norm sampling from groups\n",
      "ammonia_jw:  891.4243686985103\n",
      "ammonia_parity:  2565.9912296458197\n",
      "ammonia_bk:  2148.359630204503\n"
     ]
    }
   ],
   "source": [
    "print(\"LDF variance with uniform sampling from groups\")\n",
    "print(\"ammonia_jw: \", varLDF(ammonia_jw, 'uniform'))\n",
    "print(\"ammonia_parity: \", varLDF(ammonia_parity, 'uniform'))\n",
    "print(\"ammonia_bk: \", varLDF(ammonia_bk, 'uniform'))\n",
    "\n",
    "print(\"===\")\n",
    "print(\"LDF variance with 1-norm sampling from groups\")\n",
    "print(\"ammonia_jw: \", varLDF(ammonia_jw, '1norm'))\n",
    "print(\"ammonia_parity: \", varLDF(ammonia_parity, '1norm'))\n",
    "print(\"ammonia_bk: \", varLDF(ammonia_bk, '1norm'))"
   ]
  }
 ],
 "metadata": {
  "kernelspec": {
   "display_name": "Python 3",
   "language": "python",
   "name": "python3"
  },
  "language_info": {
   "codemirror_mode": {
    "name": "ipython",
    "version": 3
   },
   "file_extension": ".py",
   "mimetype": "text/x-python",
   "name": "python",
   "nbconvert_exporter": "python",
   "pygments_lexer": "ipython3",
   "version": "3.8.2"
  }
 },
 "nbformat": 4,
 "nbformat_minor": 4
}
