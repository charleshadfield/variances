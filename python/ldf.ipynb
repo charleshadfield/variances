{
 "cells": [
  {
   "cell_type": "code",
   "execution_count": 1,
   "metadata": {},
   "outputs": [],
   "source": [
    "from hamiltonian import HamiltonianSmall, Hamiltonian"
   ]
  },
  {
   "cell_type": "code",
   "execution_count": 3,
   "metadata": {},
   "outputs": [],
   "source": [
    "lih = HamiltonianSmall('LiH', 1.5)\n",
    "beh2 = HamiltonianSmall('BeH2', 1.3)\n",
    "\n",
    "h2_jw = Hamiltonian('H2_6-31G_8qubits', 'jw')\n",
    "h2_parity = Hamiltonian('H2_6-31G_8qubits', 'parity')\n",
    "h2_bk = Hamiltonian('H2_6-31G_8qubits', 'bk')\n",
    "\n",
    "water_jw = Hamiltonian('H2O_STO3g_14qubits', 'jw')\n",
    "water_parity = Hamiltonian('H2O_STO3g_14qubits', 'parity')\n",
    "water_bk = Hamiltonian('H2O_STO3g_14qubits', 'bk')\n",
    "\n",
    "ammonia_jw = Hamiltonian('NH3_STO3g_16qubits', 'jw')\n",
    "ammonia_parity = Hamiltonian('NH3_STO3g_16qubits', 'parity')\n",
    "ammonia_bk = Hamiltonian('NH3_STO3g_16qubits', 'bk')"
   ]
  },
  {
   "cell_type": "markdown",
   "metadata": {},
   "source": [
    "\\begin{align}\n",
    "    \\Var[\\nu] \n",
    "    = \n",
    "    \\left(\n",
    "    \\sum_{k=1}^{n_c}\n",
    "        \\frac1{\\kappa_k} \n",
    "        \\sum_{\\Qarrow,\\Rarrow\\in C^{(k)}}\n",
    "            \\alpha_\\Qarrow\\alpha_\\Rarrow\n",
    "            \\prod_{i\\in\\supp(\\Qarrow\\Rarrow)} \\langle \\Qarrow\\Rarrow \\rangle\n",
    "    \\right)\n",
    "    - \\langle H_0 \\rangle^2\n",
    "\\end{align}"
   ]
  },
  {
   "cell_type": "markdown",
   "metadata": {},
   "source": [
    "## Build collections from list.txt given by Rudy"
   ]
  },
  {
   "cell_type": "code",
   "execution_count": null,
   "metadata": {},
   "outputs": [],
   "source": []
  },
  {
   "cell_type": "code",
   "execution_count": null,
   "metadata": {},
   "outputs": [],
   "source": []
  },
  {
   "cell_type": "code",
   "execution_count": null,
   "metadata": {},
   "outputs": [],
   "source": []
  }
 ],
 "metadata": {
  "kernelspec": {
   "display_name": "Python 3",
   "language": "python",
   "name": "python3"
  },
  "language_info": {
   "codemirror_mode": {
    "name": "ipython",
    "version": 3
   },
   "file_extension": ".py",
   "mimetype": "text/x-python",
   "name": "python",
   "nbconvert_exporter": "python",
   "pygments_lexer": "ipython3",
   "version": "3.8.2"
  }
 },
 "nbformat": 4,
 "nbformat_minor": 4
}
